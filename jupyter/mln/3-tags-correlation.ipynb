{
 "cells": [
  {
   "cell_type": "markdown",
   "metadata": {
    "collapsed": true
   },
   "source": [
    "# Анализ постов Instagram. Часть 3 – Анализ пересечения хештегов\n",
    "\n",
    "Третья часть серии туториалов, посвященных анализу записей и, в частности, хештегов Instagram. Описанные методы могут использоваться для количественного исследования других социальных сетей при условии использлования системы хештегов.\n",
    "\n",
    "В качестве набора данных используется датасет, выгруженный в период с апреля по май 2020, по выявленному набору хештегов на тему акции «Бессметрный полк».    "
   ]
  },
  {
   "cell_type": "markdown",
   "metadata": {},
   "source": [
    "## Анализ пересечения хештегов\n",
    "\n",
    "На предыдущем шаге мы выделили теги в отдельную колонку `tags`. Далее, сделаем обработку полученного массива и поймем, как выделенные теги пересекаются друг с другом: проведем анализ частотности наличия пары тегов в одном посте.  "
   ]
  },
  {
   "cell_type": "code",
   "execution_count": 1,
   "metadata": {
    "pycharm": {
     "is_executing": false
    }
   },
   "outputs": [],
   "source": [
    "import numpy as np\n",
    "import pandas as pd"
   ]
  },
  {
   "cell_type": "code",
   "execution_count": 2,
   "metadata": {
    "pycharm": {
     "is_executing": false
    }
   },
   "outputs": [],
   "source": [
    "filename = 'my_polk_demo__2-res'"
   ]
  },
  {
   "cell_type": "markdown",
   "metadata": {},
   "source": [
    "Для считывания данных создадим вспомогательный атрибут `tag_convertor`, указывающий на способ обработки входящей колонки `tags`."
   ]
  },
  {
   "cell_type": "code",
   "execution_count": 3,
   "metadata": {
    "pycharm": {
     "is_executing": false
    }
   },
   "outputs": [],
   "source": [
    "tag_convertor = {'tags': lambda x: x.strip('[]').replace('\\'', '').split(', ') if len(x) > 0 else np.nan}"
   ]
  },
  {
   "cell_type": "code",
   "execution_count": 4,
   "metadata": {
    "pycharm": {
     "is_executing": false
    }
   },
   "outputs": [],
   "source": [
    "df_ = pd.read_csv(f\"data/{filename}.csv\", low_memory=False, index_col=0, converters=tag_convertor)"
   ]
  },
  {
   "cell_type": "code",
   "execution_count": 5,
   "metadata": {
    "pycharm": {
     "is_executing": false
    }
   },
   "outputs": [
    {
     "data": {
      "text/html": [
       "<div>\n",
       "<style scoped>\n",
       "    .dataframe tbody tr th:only-of-type {\n",
       "        vertical-align: middle;\n",
       "    }\n",
       "\n",
       "    .dataframe tbody tr th {\n",
       "        vertical-align: top;\n",
       "    }\n",
       "\n",
       "    .dataframe thead th {\n",
       "        text-align: right;\n",
       "    }\n",
       "</style>\n",
       "<table border=\"1\" class=\"dataframe\">\n",
       "  <thead>\n",
       "    <tr style=\"text-align: right;\">\n",
       "      <th></th>\n",
       "      <th>id</th>\n",
       "      <th>owner_id</th>\n",
       "      <th>shortcode</th>\n",
       "      <th>post_url</th>\n",
       "      <th>display_url</th>\n",
       "      <th>published</th>\n",
       "      <th>caption</th>\n",
       "      <th>likes_count</th>\n",
       "      <th>comments_count</th>\n",
       "      <th>is_video</th>\n",
       "      <th>video_view_count</th>\n",
       "      <th>tags</th>\n",
       "    </tr>\n",
       "  </thead>\n",
       "  <tbody>\n",
       "    <tr>\n",
       "      <th>0</th>\n",
       "      <td>2290507756257899980</td>\n",
       "      <td>3.385755e+10</td>\n",
       "      <td>B_JhKsvB3XM</td>\n",
       "      <td>https://www.instagram.com/p/B_JhKsvB3XM/</td>\n",
       "      <td>https://instagram.fhel5-1.fna.fbcdn.net/v/t51....</td>\n",
       "      <td>2020-04-19 04:17:04+00</td>\n",
       "      <td>#75летпобеды  #победа75  #мыпомним  #великаяпо...</td>\n",
       "      <td>41</td>\n",
       "      <td>0</td>\n",
       "      <td>False</td>\n",
       "      <td>NaN</td>\n",
       "      <td>[75летпобеды, победа75, мыпомним, великаяпобед...</td>\n",
       "    </tr>\n",
       "    <tr>\n",
       "      <th>1</th>\n",
       "      <td>2283363816720116246</td>\n",
       "      <td>3.272358e+10</td>\n",
       "      <td>B-wI0sklSoW</td>\n",
       "      <td>https://www.instagram.com/p/B-wI0sklSoW/</td>\n",
       "      <td>https://instagram.fhel5-1.fna.fbcdn.net/v/t51....</td>\n",
       "      <td>2020-04-09 07:43:20+00</td>\n",
       "      <td>«Мой дедушка - герой!» #япомнюягоржусь #деньпо...</td>\n",
       "      <td>9</td>\n",
       "      <td>0</td>\n",
       "      <td>False</td>\n",
       "      <td>NaN</td>\n",
       "      <td>[япомнюягоржусь, деньпобеды, 9мая, бессмертный...</td>\n",
       "    </tr>\n",
       "    <tr>\n",
       "      <th>2</th>\n",
       "      <td>2283364236083479227</td>\n",
       "      <td>3.272358e+10</td>\n",
       "      <td>B-wI6zIlkK7</td>\n",
       "      <td>https://www.instagram.com/p/B-wI6zIlkK7/</td>\n",
       "      <td>https://instagram.fhel5-1.fna.fbcdn.net/v/t51....</td>\n",
       "      <td>2020-04-09 07:44:10+00</td>\n",
       "      <td>«Мой дедушка - герой!» #япомнюягоржусь #деньпо...</td>\n",
       "      <td>10</td>\n",
       "      <td>0</td>\n",
       "      <td>False</td>\n",
       "      <td>NaN</td>\n",
       "      <td>[япомнюягоржусь, деньпобеды, 9мая, бессмертный...</td>\n",
       "    </tr>\n",
       "    <tr>\n",
       "      <th>3</th>\n",
       "      <td>2283370574013238191</td>\n",
       "      <td>2.753139e+09</td>\n",
       "      <td>B-wKXByo4uv</td>\n",
       "      <td>https://www.instagram.com/p/B-wKXByo4uv/</td>\n",
       "      <td>https://instagram.fhel5-1.fna.fbcdn.net/v/t51....</td>\n",
       "      <td>2020-04-09 07:56:45+00</td>\n",
       "      <td>Вышел в свет новый номер газеты «Каширские изв...</td>\n",
       "      <td>94</td>\n",
       "      <td>1</td>\n",
       "      <td>False</td>\n",
       "      <td>NaN</td>\n",
       "      <td>[каширскоеиа, кашира, подмосковье, вкурсе2020,...</td>\n",
       "    </tr>\n",
       "    <tr>\n",
       "      <th>4</th>\n",
       "      <td>2283365441896285449</td>\n",
       "      <td>6.646030e+09</td>\n",
       "      <td>B-wJMWIoYUJ</td>\n",
       "      <td>https://www.instagram.com/p/B-wJMWIoYUJ/</td>\n",
       "      <td>https://instagram.fhel5-1.fna.fbcdn.net/v/t51....</td>\n",
       "      <td>2020-04-09 07:57:34+00</td>\n",
       "      <td>Вот что получилось у меня после первых прислан...</td>\n",
       "      <td>8</td>\n",
       "      <td>0</td>\n",
       "      <td>True</td>\n",
       "      <td>41.0</td>\n",
       "      <td>[вокальнаястудиядебют, флешмоб2020, бессмертны...</td>\n",
       "    </tr>\n",
       "  </tbody>\n",
       "</table>\n",
       "</div>"
      ],
      "text/plain": [
       "                    id      owner_id    shortcode  \\\n",
       "0  2290507756257899980  3.385755e+10  B_JhKsvB3XM   \n",
       "1  2283363816720116246  3.272358e+10  B-wI0sklSoW   \n",
       "2  2283364236083479227  3.272358e+10  B-wI6zIlkK7   \n",
       "3  2283370574013238191  2.753139e+09  B-wKXByo4uv   \n",
       "4  2283365441896285449  6.646030e+09  B-wJMWIoYUJ   \n",
       "\n",
       "                                   post_url  \\\n",
       "0  https://www.instagram.com/p/B_JhKsvB3XM/   \n",
       "1  https://www.instagram.com/p/B-wI0sklSoW/   \n",
       "2  https://www.instagram.com/p/B-wI6zIlkK7/   \n",
       "3  https://www.instagram.com/p/B-wKXByo4uv/   \n",
       "4  https://www.instagram.com/p/B-wJMWIoYUJ/   \n",
       "\n",
       "                                         display_url               published  \\\n",
       "0  https://instagram.fhel5-1.fna.fbcdn.net/v/t51....  2020-04-19 04:17:04+00   \n",
       "1  https://instagram.fhel5-1.fna.fbcdn.net/v/t51....  2020-04-09 07:43:20+00   \n",
       "2  https://instagram.fhel5-1.fna.fbcdn.net/v/t51....  2020-04-09 07:44:10+00   \n",
       "3  https://instagram.fhel5-1.fna.fbcdn.net/v/t51....  2020-04-09 07:56:45+00   \n",
       "4  https://instagram.fhel5-1.fna.fbcdn.net/v/t51....  2020-04-09 07:57:34+00   \n",
       "\n",
       "                                             caption likes_count  \\\n",
       "0  #75летпобеды  #победа75  #мыпомним  #великаяпо...          41   \n",
       "1  «Мой дедушка - герой!» #япомнюягоржусь #деньпо...           9   \n",
       "2  «Мой дедушка - герой!» #япомнюягоржусь #деньпо...          10   \n",
       "3  Вышел в свет новый номер газеты «Каширские изв...          94   \n",
       "4  Вот что получилось у меня после первых прислан...           8   \n",
       "\n",
       "  comments_count is_video  video_view_count  \\\n",
       "0              0    False               NaN   \n",
       "1              0    False               NaN   \n",
       "2              0    False               NaN   \n",
       "3              1    False               NaN   \n",
       "4              0     True              41.0   \n",
       "\n",
       "                                                tags  \n",
       "0  [75летпобеды, победа75, мыпомним, великаяпобед...  \n",
       "1  [япомнюягоржусь, деньпобеды, 9мая, бессмертный...  \n",
       "2  [япомнюягоржусь, деньпобеды, 9мая, бессмертный...  \n",
       "3  [каширскоеиа, кашира, подмосковье, вкурсе2020,...  \n",
       "4  [вокальнаястудиядебют, флешмоб2020, бессмертны...  "
      ]
     },
     "execution_count": 5,
     "metadata": {},
     "output_type": "execute_result"
    }
   ],
   "source": [
    "df_.head()"
   ]
  },
  {
   "cell_type": "markdown",
   "metadata": {},
   "source": [
    "### Предобработка \n",
    "Выделим только те данные, с которыми будем работать, а именно `id`, `tags`. Удалим пустые строки `caption` и `tags`."
   ]
  },
  {
   "cell_type": "code",
   "execution_count": 6,
   "metadata": {
    "pycharm": {
     "is_executing": false
    }
   },
   "outputs": [
    {
     "data": {
      "text/html": [
       "<div>\n",
       "<style scoped>\n",
       "    .dataframe tbody tr th:only-of-type {\n",
       "        vertical-align: middle;\n",
       "    }\n",
       "\n",
       "    .dataframe tbody tr th {\n",
       "        vertical-align: top;\n",
       "    }\n",
       "\n",
       "    .dataframe thead th {\n",
       "        text-align: right;\n",
       "    }\n",
       "</style>\n",
       "<table border=\"1\" class=\"dataframe\">\n",
       "  <thead>\n",
       "    <tr style=\"text-align: right;\">\n",
       "      <th></th>\n",
       "      <th>id</th>\n",
       "      <th>post_url</th>\n",
       "      <th>caption</th>\n",
       "      <th>tags</th>\n",
       "    </tr>\n",
       "  </thead>\n",
       "  <tbody>\n",
       "    <tr>\n",
       "      <th>0</th>\n",
       "      <td>2290507756257899980</td>\n",
       "      <td>https://www.instagram.com/p/B_JhKsvB3XM/</td>\n",
       "      <td>#75летпобеды  #победа75  #мыпомним  #великаяпо...</td>\n",
       "      <td>[75летпобеды, победа75, мыпомним, великаяпобед...</td>\n",
       "    </tr>\n",
       "    <tr>\n",
       "      <th>1</th>\n",
       "      <td>2283363816720116246</td>\n",
       "      <td>https://www.instagram.com/p/B-wI0sklSoW/</td>\n",
       "      <td>«Мой дедушка - герой!» #япомнюягоржусь #деньпо...</td>\n",
       "      <td>[япомнюягоржусь, деньпобеды, 9мая, бессмертный...</td>\n",
       "    </tr>\n",
       "    <tr>\n",
       "      <th>2</th>\n",
       "      <td>2283364236083479227</td>\n",
       "      <td>https://www.instagram.com/p/B-wI6zIlkK7/</td>\n",
       "      <td>«Мой дедушка - герой!» #япомнюягоржусь #деньпо...</td>\n",
       "      <td>[япомнюягоржусь, деньпобеды, 9мая, бессмертный...</td>\n",
       "    </tr>\n",
       "    <tr>\n",
       "      <th>3</th>\n",
       "      <td>2283370574013238191</td>\n",
       "      <td>https://www.instagram.com/p/B-wKXByo4uv/</td>\n",
       "      <td>Вышел в свет новый номер газеты «Каширские изв...</td>\n",
       "      <td>[каширскоеиа, кашира, подмосковье, вкурсе2020,...</td>\n",
       "    </tr>\n",
       "    <tr>\n",
       "      <th>4</th>\n",
       "      <td>2283365441896285449</td>\n",
       "      <td>https://www.instagram.com/p/B-wJMWIoYUJ/</td>\n",
       "      <td>Вот что получилось у меня после первых прислан...</td>\n",
       "      <td>[вокальнаястудиядебют, флешмоб2020, бессмертны...</td>\n",
       "    </tr>\n",
       "  </tbody>\n",
       "</table>\n",
       "</div>"
      ],
      "text/plain": [
       "                    id                                  post_url  \\\n",
       "0  2290507756257899980  https://www.instagram.com/p/B_JhKsvB3XM/   \n",
       "1  2283363816720116246  https://www.instagram.com/p/B-wI0sklSoW/   \n",
       "2  2283364236083479227  https://www.instagram.com/p/B-wI6zIlkK7/   \n",
       "3  2283370574013238191  https://www.instagram.com/p/B-wKXByo4uv/   \n",
       "4  2283365441896285449  https://www.instagram.com/p/B-wJMWIoYUJ/   \n",
       "\n",
       "                                             caption  \\\n",
       "0  #75летпобеды  #победа75  #мыпомним  #великаяпо...   \n",
       "1  «Мой дедушка - герой!» #япомнюягоржусь #деньпо...   \n",
       "2  «Мой дедушка - герой!» #япомнюягоржусь #деньпо...   \n",
       "3  Вышел в свет новый номер газеты «Каширские изв...   \n",
       "4  Вот что получилось у меня после первых прислан...   \n",
       "\n",
       "                                                tags  \n",
       "0  [75летпобеды, победа75, мыпомним, великаяпобед...  \n",
       "1  [япомнюягоржусь, деньпобеды, 9мая, бессмертный...  \n",
       "2  [япомнюягоржусь, деньпобеды, 9мая, бессмертный...  \n",
       "3  [каширскоеиа, кашира, подмосковье, вкурсе2020,...  \n",
       "4  [вокальнаястудиядебют, флешмоб2020, бессмертны...  "
      ]
     },
     "execution_count": 6,
     "metadata": {},
     "output_type": "execute_result"
    }
   ],
   "source": [
    "df = df_.dropna(subset=['caption', 'tags'])\n",
    "df = df[['id', 'post_url', 'caption', 'tags']]\n",
    "df.head()"
   ]
  },
  {
   "cell_type": "markdown",
   "metadata": {},
   "source": [
    "Соберем все теги в один список `flattened_tags_df` и эмпирически подберем минимальное число упоминаний тегов, тем самым выберем самые популярные среди них."
   ]
  },
  {
   "cell_type": "code",
   "execution_count": 7,
   "metadata": {
    "pycharm": {
     "is_executing": false
    }
   },
   "outputs": [],
   "source": [
    "flattened_tags = pd.Series([tag for tag_list in df.tags for tag in tag_list])"
   ]
  },
  {
   "cell_type": "code",
   "execution_count": 8,
   "metadata": {
    "pycharm": {
     "is_executing": false
    }
   },
   "outputs": [],
   "source": [
    "flattened_tags_counts = flattened_tags.value_counts()"
   ]
  },
  {
   "cell_type": "code",
   "execution_count": 9,
   "metadata": {
    "pycharm": {
     "is_executing": false
    }
   },
   "outputs": [
    {
     "data": {
      "text/plain": [
       "<matplotlib.axes._subplots.AxesSubplot at 0x12cd3e518>"
      ]
     },
     "execution_count": 9,
     "metadata": {},
     "output_type": "execute_result"
    },
    {
     "data": {
      "image/png": "[encoded data removed]",
      "text/plain": [
       "<Figure size 432x288 with 1 Axes>"
      ]
     },
     "metadata": {
      "needs_background": "light"
     },
     "output_type": "display_data"
    }
   ],
   "source": [
    "flattened_tags_counts.loc[flattened_tags_counts > 1000].plot(kind='hist')"
   ]
  },
  {
   "cell_type": "markdown",
   "metadata": {},
   "source": [
    "Отсечение в > 1000 упоминаний не подходит, так как таких тегов много (больше 100). "
   ]
  },
  {
   "cell_type": "code",
   "execution_count": 10,
   "metadata": {
    "pycharm": {
     "is_executing": false
    }
   },
   "outputs": [
    {
     "data": {
      "text/plain": [
       "<matplotlib.axes._subplots.AxesSubplot at 0x12cd3e470>"
      ]
     },
     "execution_count": 10,
     "metadata": {},
     "output_type": "execute_result"
    },
    {
     "data": {
      "image/png": "[encoded data removed]",
      "text/plain": [
       "<Figure size 432x288 with 1 Axes>"
      ]
     },
     "metadata": {
      "needs_background": "light"
     },
     "output_type": "display_data"
    }
   ],
   "source": [
    "flattened_tags_counts.loc[flattened_tags_counts > 4000].plot(kind='hist')"
   ]
  },
  {
   "cell_type": "markdown",
   "metadata": {},
   "source": [
    "4000 – выглядит более оптимальным числом, так как дает на выходе около 50 тегов. Создадим переменную `min_count` со значением 4000."
   ]
  },
  {
   "cell_type": "code",
   "execution_count": 11,
   "metadata": {
    "pycharm": {
     "is_executing": false
    }
   },
   "outputs": [],
   "source": [
    "min_count = 4000"
   ]
  },
  {
   "cell_type": "code",
   "execution_count": 12,
   "metadata": {
    "pycharm": {
     "is_executing": false
    }
   },
   "outputs": [],
   "source": [
    "top_tags_set = set(flattened_tags_counts.loc[flattened_tags_counts > min_count].index)"
   ]
  },
  {
   "cell_type": "code",
   "execution_count": 13,
   "metadata": {
    "pycharm": {
     "is_executing": false
    }
   },
   "outputs": [
    {
     "data": {
      "text/plain": [
       "55"
      ]
     },
     "execution_count": 13,
     "metadata": {},
     "output_type": "execute_result"
    }
   ],
   "source": [
    "len(top_tags_set)"
   ]
  },
  {
   "cell_type": "markdown",
   "metadata": {},
   "source": [
    "55 – количество тегов, упоминаемых более 4000 раз."
   ]
  },
  {
   "cell_type": "code",
   "execution_count": 14,
   "metadata": {
    "pycharm": {
     "is_executing": false
    }
   },
   "outputs": [
    {
     "data": {
      "text/plain": [
       "{'75летпобеды',\n",
       " '9мая',\n",
       " '9мая2019',\n",
       " 'ауе',\n",
       " 'ауежизньворам',\n",
       " 'базарунет',\n",
       " 'бандит',\n",
       " 'бандиты',\n",
       " 'бесмертныйполк',\n",
       " 'беспридел',\n",
       " 'бессмертный',\n",
       " 'бессмертный_полк',\n",
       " 'бессмертныйполк',\n",
       " 'бессмертныйполк2017',\n",
       " 'бессмертныйполк2018',\n",
       " 'бессмертныйполк2019',\n",
       " 'бессмертныйполк2020',\n",
       " 'бессмертныйполконлайн',\n",
       " 'бессмертныйполкроссии',\n",
       " 'бессмертныйполктатарстан',\n",
       " 'блатной',\n",
       " 'братзабрата',\n",
       " 'великаяотечественнаявойна',\n",
       " 'великаяпобеда',\n",
       " 'ветераны',\n",
       " 'вов',\n",
       " 'волки',\n",
       " 'вор',\n",
       " 'ворывзаконе',\n",
       " 'гангстеры',\n",
       " 'ганджа',\n",
       " 'гиопика',\n",
       " 'деньпобеды',\n",
       " 'деньпобеды2019',\n",
       " 'криминал',\n",
       " 'марихуана',\n",
       " 'мафия',\n",
       " 'москва',\n",
       " 'мыпомним',\n",
       " 'наркотики',\n",
       " 'память',\n",
       " 'парад',\n",
       " 'парадпобеды',\n",
       " 'победа',\n",
       " 'помним',\n",
       " 'праздник',\n",
       " 'россия',\n",
       " 'сднемпобеды',\n",
       " 'скемтытам',\n",
       " 'спасибодедузапобеду',\n",
       " 'спасибозапобеду',\n",
       " 'уроди',\n",
       " 'хулиганы',\n",
       " 'хулиганы2',\n",
       " 'япомнюягоржусь'}"
      ]
     },
     "execution_count": 14,
     "metadata": {},
     "output_type": "execute_result"
    }
   ],
   "source": [
    "top_tags_set"
   ]
  },
  {
   "cell_type": "markdown",
   "metadata": {},
   "source": [
    "В множество тегов попали такие слова, как: `#ауе`, `#ауежизньворам`, `#базарунет`, `#бандит` и другие «блатные» понятия. Пока что оставим их, посмотрим как они коррелируют с тематическими тегами. "
   ]
  },
  {
   "cell_type": "markdown",
   "metadata": {},
   "source": [
    "В рабочий датасет `df` добавим колонку `top_tags`, в которой укажем теги из множества `top_tags_set` для каждого поста."
   ]
  },
  {
   "cell_type": "code",
   "execution_count": 15,
   "metadata": {
    "pycharm": {
     "is_executing": false
    }
   },
   "outputs": [
    {
     "data": {
      "text/html": [
       "<div>\n",
       "<style scoped>\n",
       "    .dataframe tbody tr th:only-of-type {\n",
       "        vertical-align: middle;\n",
       "    }\n",
       "\n",
       "    .dataframe tbody tr th {\n",
       "        vertical-align: top;\n",
       "    }\n",
       "\n",
       "    .dataframe thead th {\n",
       "        text-align: right;\n",
       "    }\n",
       "</style>\n",
       "<table border=\"1\" class=\"dataframe\">\n",
       "  <thead>\n",
       "    <tr style=\"text-align: right;\">\n",
       "      <th></th>\n",
       "      <th>id</th>\n",
       "      <th>post_url</th>\n",
       "      <th>caption</th>\n",
       "      <th>tags</th>\n",
       "      <th>top_tags</th>\n",
       "    </tr>\n",
       "  </thead>\n",
       "  <tbody>\n",
       "    <tr>\n",
       "      <th>0</th>\n",
       "      <td>2290507756257899980</td>\n",
       "      <td>https://www.instagram.com/p/B_JhKsvB3XM/</td>\n",
       "      <td>#75летпобеды  #победа75  #мыпомним  #великаяпо...</td>\n",
       "      <td>[75летпобеды, победа75, мыпомним, великаяпобед...</td>\n",
       "      <td>[75летпобеды, мыпомним, великаяпобеда, бессмер...</td>\n",
       "    </tr>\n",
       "    <tr>\n",
       "      <th>1</th>\n",
       "      <td>2283363816720116246</td>\n",
       "      <td>https://www.instagram.com/p/B-wI0sklSoW/</td>\n",
       "      <td>«Мой дедушка - герой!» #япомнюягоржусь #деньпо...</td>\n",
       "      <td>[япомнюягоржусь, деньпобеды, 9мая, бессмертный...</td>\n",
       "      <td>[япомнюягоржусь, деньпобеды, 9мая, бессмертный...</td>\n",
       "    </tr>\n",
       "    <tr>\n",
       "      <th>2</th>\n",
       "      <td>2283364236083479227</td>\n",
       "      <td>https://www.instagram.com/p/B-wI6zIlkK7/</td>\n",
       "      <td>«Мой дедушка - герой!» #япомнюягоржусь #деньпо...</td>\n",
       "      <td>[япомнюягоржусь, деньпобеды, 9мая, бессмертный...</td>\n",
       "      <td>[япомнюягоржусь, деньпобеды, 9мая, бессмертный...</td>\n",
       "    </tr>\n",
       "    <tr>\n",
       "      <th>3</th>\n",
       "      <td>2283370574013238191</td>\n",
       "      <td>https://www.instagram.com/p/B-wKXByo4uv/</td>\n",
       "      <td>Вышел в свет новый номер газеты «Каширские изв...</td>\n",
       "      <td>[каширскоеиа, кашира, подмосковье, вкурсе2020,...</td>\n",
       "      <td>[бессмертныйполк]</td>\n",
       "    </tr>\n",
       "    <tr>\n",
       "      <th>4</th>\n",
       "      <td>2283365441896285449</td>\n",
       "      <td>https://www.instagram.com/p/B-wJMWIoYUJ/</td>\n",
       "      <td>Вот что получилось у меня после первых прислан...</td>\n",
       "      <td>[вокальнаястудиядебют, флешмоб2020, бессмертны...</td>\n",
       "      <td>[бессмертныйполк]</td>\n",
       "    </tr>\n",
       "  </tbody>\n",
       "</table>\n",
       "</div>"
      ],
      "text/plain": [
       "                    id                                  post_url  \\\n",
       "0  2290507756257899980  https://www.instagram.com/p/B_JhKsvB3XM/   \n",
       "1  2283363816720116246  https://www.instagram.com/p/B-wI0sklSoW/   \n",
       "2  2283364236083479227  https://www.instagram.com/p/B-wI6zIlkK7/   \n",
       "3  2283370574013238191  https://www.instagram.com/p/B-wKXByo4uv/   \n",
       "4  2283365441896285449  https://www.instagram.com/p/B-wJMWIoYUJ/   \n",
       "\n",
       "                                             caption  \\\n",
       "0  #75летпобеды  #победа75  #мыпомним  #великаяпо...   \n",
       "1  «Мой дедушка - герой!» #япомнюягоржусь #деньпо...   \n",
       "2  «Мой дедушка - герой!» #япомнюягоржусь #деньпо...   \n",
       "3  Вышел в свет новый номер газеты «Каширские изв...   \n",
       "4  Вот что получилось у меня после первых прислан...   \n",
       "\n",
       "                                                tags  \\\n",
       "0  [75летпобеды, победа75, мыпомним, великаяпобед...   \n",
       "1  [япомнюягоржусь, деньпобеды, 9мая, бессмертный...   \n",
       "2  [япомнюягоржусь, деньпобеды, 9мая, бессмертный...   \n",
       "3  [каширскоеиа, кашира, подмосковье, вкурсе2020,...   \n",
       "4  [вокальнаястудиядебют, флешмоб2020, бессмертны...   \n",
       "\n",
       "                                            top_tags  \n",
       "0  [75летпобеды, мыпомним, великаяпобеда, бессмер...  \n",
       "1  [япомнюягоржусь, деньпобеды, 9мая, бессмертный...  \n",
       "2  [япомнюягоржусь, деньпобеды, 9мая, бессмертный...  \n",
       "3                                  [бессмертныйполк]  \n",
       "4                                  [бессмертныйполк]  "
      ]
     },
     "execution_count": 15,
     "metadata": {},
     "output_type": "execute_result"
    }
   ],
   "source": [
    "df['top_tags'] = df.tags.apply(lambda x: [tag for tag in x if tag in top_tags_set]); df.head()"
   ]
  },
  {
   "cell_type": "markdown",
   "metadata": {},
   "source": [
    "Выделим только те посты, в которых есть топовые теги."
   ]
  },
  {
   "cell_type": "code",
   "execution_count": 16,
   "metadata": {
    "pycharm": {
     "is_executing": false
    }
   },
   "outputs": [],
   "source": [
    "df_top_tags = df.loc[df.top_tags.apply(lambda x: x !=[])]"
   ]
  },
  {
   "cell_type": "code",
   "execution_count": 17,
   "metadata": {
    "pycharm": {
     "is_executing": false
    }
   },
   "outputs": [
    {
     "data": {
      "text/plain": [
       "0.9473274344273396"
      ]
     },
     "execution_count": 17,
     "metadata": {},
     "output_type": "execute_result"
    }
   ],
   "source": [
    "df_top_tags.shape[0] / df.shape[0]"
   ]
  },
  {
   "cell_type": "markdown",
   "metadata": {},
   "source": [
    "~95% постов содержат в себе топовые теги."
   ]
  },
  {
   "cell_type": "markdown",
   "metadata": {},
   "source": [
    "### Создание матрицы пересечения \n",
    "Создадим новый датафрейм `tag_vector_df`, в который запишем топовые теги."
   ]
  },
  {
   "cell_type": "code",
   "execution_count": 18,
   "metadata": {
    "pycharm": {
     "is_executing": false
    }
   },
   "outputs": [
    {
     "data": {
      "text/html": [
       "<div>\n",
       "<style scoped>\n",
       "    .dataframe tbody tr th:only-of-type {\n",
       "        vertical-align: middle;\n",
       "    }\n",
       "\n",
       "    .dataframe tbody tr th {\n",
       "        vertical-align: top;\n",
       "    }\n",
       "\n",
       "    .dataframe thead th {\n",
       "        text-align: right;\n",
       "    }\n",
       "</style>\n",
       "<table border=\"1\" class=\"dataframe\">\n",
       "  <thead>\n",
       "    <tr style=\"text-align: right;\">\n",
       "      <th></th>\n",
       "      <th>top_tags</th>\n",
       "    </tr>\n",
       "  </thead>\n",
       "  <tbody>\n",
       "    <tr>\n",
       "      <th>0</th>\n",
       "      <td>[75летпобеды, мыпомним, великаяпобеда, бессмер...</td>\n",
       "    </tr>\n",
       "    <tr>\n",
       "      <th>1</th>\n",
       "      <td>[япомнюягоржусь, деньпобеды, 9мая, бессмертный...</td>\n",
       "    </tr>\n",
       "    <tr>\n",
       "      <th>2</th>\n",
       "      <td>[япомнюягоржусь, деньпобеды, 9мая, бессмертный...</td>\n",
       "    </tr>\n",
       "    <tr>\n",
       "      <th>3</th>\n",
       "      <td>[бессмертныйполк]</td>\n",
       "    </tr>\n",
       "    <tr>\n",
       "      <th>4</th>\n",
       "      <td>[бессмертныйполк]</td>\n",
       "    </tr>\n",
       "  </tbody>\n",
       "</table>\n",
       "</div>"
      ],
      "text/plain": [
       "                                            top_tags\n",
       "0  [75летпобеды, мыпомним, великаяпобеда, бессмер...\n",
       "1  [япомнюягоржусь, деньпобеды, 9мая, бессмертный...\n",
       "2  [япомнюягоржусь, деньпобеды, 9мая, бессмертный...\n",
       "3                                  [бессмертныйполк]\n",
       "4                                  [бессмертныйполк]"
      ]
     },
     "execution_count": 18,
     "metadata": {},
     "output_type": "execute_result"
    }
   ],
   "source": [
    "tag_vector_df = df_top_tags.loc[:, ['top_tags']]; tag_vector_df.head()"
   ]
  },
  {
   "cell_type": "markdown",
   "metadata": {},
   "source": [
    "Далее, для каждого топового тега создадим колонку в `tag_vector_df` и укажем его наличие в текущем посте."
   ]
  },
  {
   "cell_type": "code",
   "execution_count": 19,
   "metadata": {
    "pycharm": {
     "is_executing": false
    }
   },
   "outputs": [],
   "source": [
    "for tag in sorted(top_tags_set):\n",
    "    tag_vector_df[f\"{tag}\"] = tag_vector_df.top_tags.apply(lambda x: bool(tag in x))"
   ]
  },
  {
   "cell_type": "code",
   "execution_count": 20,
   "metadata": {
    "pycharm": {
     "is_executing": false
    }
   },
   "outputs": [
    {
     "data": {
      "text/plain": [
       "(167874, 56)"
      ]
     },
     "execution_count": 20,
     "metadata": {},
     "output_type": "execute_result"
    }
   ],
   "source": [
    "tag_vector_df.shape"
   ]
  },
  {
   "cell_type": "markdown",
   "metadata": {},
   "source": [
    "В итоге получится логическая матрица 167874 x 55. Запишем ее в переменную `tag_vector_matrix`."
   ]
  },
  {
   "cell_type": "code",
   "execution_count": 21,
   "metadata": {
    "pycharm": {
     "is_executing": false
    }
   },
   "outputs": [
    {
     "data": {
      "text/html": [
       "<div>\n",
       "<style scoped>\n",
       "    .dataframe tbody tr th:only-of-type {\n",
       "        vertical-align: middle;\n",
       "    }\n",
       "\n",
       "    .dataframe tbody tr th {\n",
       "        vertical-align: top;\n",
       "    }\n",
       "\n",
       "    .dataframe thead th {\n",
       "        text-align: right;\n",
       "    }\n",
       "</style>\n",
       "<table border=\"1\" class=\"dataframe\">\n",
       "  <thead>\n",
       "    <tr style=\"text-align: right;\">\n",
       "      <th></th>\n",
       "      <th>75летпобеды</th>\n",
       "      <th>9мая</th>\n",
       "      <th>9мая2019</th>\n",
       "      <th>ауе</th>\n",
       "      <th>ауежизньворам</th>\n",
       "      <th>базарунет</th>\n",
       "      <th>бандит</th>\n",
       "      <th>бандиты</th>\n",
       "      <th>бесмертныйполк</th>\n",
       "      <th>беспридел</th>\n",
       "      <th>...</th>\n",
       "      <th>праздник</th>\n",
       "      <th>россия</th>\n",
       "      <th>сднемпобеды</th>\n",
       "      <th>скемтытам</th>\n",
       "      <th>спасибодедузапобеду</th>\n",
       "      <th>спасибозапобеду</th>\n",
       "      <th>уроди</th>\n",
       "      <th>хулиганы</th>\n",
       "      <th>хулиганы2</th>\n",
       "      <th>япомнюягоржусь</th>\n",
       "    </tr>\n",
       "  </thead>\n",
       "  <tbody>\n",
       "    <tr>\n",
       "      <th>0</th>\n",
       "      <td>True</td>\n",
       "      <td>False</td>\n",
       "      <td>False</td>\n",
       "      <td>False</td>\n",
       "      <td>False</td>\n",
       "      <td>False</td>\n",
       "      <td>False</td>\n",
       "      <td>False</td>\n",
       "      <td>False</td>\n",
       "      <td>False</td>\n",
       "      <td>...</td>\n",
       "      <td>False</td>\n",
       "      <td>False</td>\n",
       "      <td>False</td>\n",
       "      <td>False</td>\n",
       "      <td>False</td>\n",
       "      <td>False</td>\n",
       "      <td>False</td>\n",
       "      <td>False</td>\n",
       "      <td>False</td>\n",
       "      <td>False</td>\n",
       "    </tr>\n",
       "    <tr>\n",
       "      <th>1</th>\n",
       "      <td>False</td>\n",
       "      <td>True</td>\n",
       "      <td>False</td>\n",
       "      <td>False</td>\n",
       "      <td>False</td>\n",
       "      <td>False</td>\n",
       "      <td>False</td>\n",
       "      <td>False</td>\n",
       "      <td>False</td>\n",
       "      <td>False</td>\n",
       "      <td>...</td>\n",
       "      <td>False</td>\n",
       "      <td>False</td>\n",
       "      <td>False</td>\n",
       "      <td>False</td>\n",
       "      <td>False</td>\n",
       "      <td>False</td>\n",
       "      <td>False</td>\n",
       "      <td>False</td>\n",
       "      <td>False</td>\n",
       "      <td>True</td>\n",
       "    </tr>\n",
       "    <tr>\n",
       "      <th>2</th>\n",
       "      <td>False</td>\n",
       "      <td>True</td>\n",
       "      <td>False</td>\n",
       "      <td>False</td>\n",
       "      <td>False</td>\n",
       "      <td>False</td>\n",
       "      <td>False</td>\n",
       "      <td>False</td>\n",
       "      <td>False</td>\n",
       "      <td>False</td>\n",
       "      <td>...</td>\n",
       "      <td>False</td>\n",
       "      <td>False</td>\n",
       "      <td>False</td>\n",
       "      <td>False</td>\n",
       "      <td>False</td>\n",
       "      <td>False</td>\n",
       "      <td>False</td>\n",
       "      <td>False</td>\n",
       "      <td>False</td>\n",
       "      <td>True</td>\n",
       "    </tr>\n",
       "    <tr>\n",
       "      <th>3</th>\n",
       "      <td>False</td>\n",
       "      <td>False</td>\n",
       "      <td>False</td>\n",
       "      <td>False</td>\n",
       "      <td>False</td>\n",
       "      <td>False</td>\n",
       "      <td>False</td>\n",
       "      <td>False</td>\n",
       "      <td>False</td>\n",
       "      <td>False</td>\n",
       "      <td>...</td>\n",
       "      <td>False</td>\n",
       "      <td>False</td>\n",
       "      <td>False</td>\n",
       "      <td>False</td>\n",
       "      <td>False</td>\n",
       "      <td>False</td>\n",
       "      <td>False</td>\n",
       "      <td>False</td>\n",
       "      <td>False</td>\n",
       "      <td>False</td>\n",
       "    </tr>\n",
       "    <tr>\n",
       "      <th>4</th>\n",
       "      <td>False</td>\n",
       "      <td>False</td>\n",
       "      <td>False</td>\n",
       "      <td>False</td>\n",
       "      <td>False</td>\n",
       "      <td>False</td>\n",
       "      <td>False</td>\n",
       "      <td>False</td>\n",
       "      <td>False</td>\n",
       "      <td>False</td>\n",
       "      <td>...</td>\n",
       "      <td>False</td>\n",
       "      <td>False</td>\n",
       "      <td>False</td>\n",
       "      <td>False</td>\n",
       "      <td>False</td>\n",
       "      <td>False</td>\n",
       "      <td>False</td>\n",
       "      <td>False</td>\n",
       "      <td>False</td>\n",
       "      <td>False</td>\n",
       "    </tr>\n",
       "  </tbody>\n",
       "</table>\n",
       "<p>5 rows × 55 columns</p>\n",
       "</div>"
      ],
      "text/plain": [
       "   75летпобеды   9мая  9мая2019    ауе  ауежизньворам  базарунет  бандит  \\\n",
       "0         True  False     False  False          False      False   False   \n",
       "1        False   True     False  False          False      False   False   \n",
       "2        False   True     False  False          False      False   False   \n",
       "3        False  False     False  False          False      False   False   \n",
       "4        False  False     False  False          False      False   False   \n",
       "\n",
       "   бандиты  бесмертныйполк  беспридел  ...  праздник  россия  сднемпобеды  \\\n",
       "0    False           False      False  ...     False   False        False   \n",
       "1    False           False      False  ...     False   False        False   \n",
       "2    False           False      False  ...     False   False        False   \n",
       "3    False           False      False  ...     False   False        False   \n",
       "4    False           False      False  ...     False   False        False   \n",
       "\n",
       "   скемтытам  спасибодедузапобеду  спасибозапобеду  уроди  хулиганы  \\\n",
       "0      False                False            False  False     False   \n",
       "1      False                False            False  False     False   \n",
       "2      False                False            False  False     False   \n",
       "3      False                False            False  False     False   \n",
       "4      False                False            False  False     False   \n",
       "\n",
       "   хулиганы2  япомнюягоржусь  \n",
       "0      False           False  \n",
       "1      False            True  \n",
       "2      False            True  \n",
       "3      False           False  \n",
       "4      False           False  \n",
       "\n",
       "[5 rows x 55 columns]"
      ]
     },
     "execution_count": 21,
     "metadata": {},
     "output_type": "execute_result"
    }
   ],
   "source": [
    "tag_vector_matrix = tag_vector_df.drop(columns=['top_tags']); tag_vector_matrix.head()"
   ]
  },
  {
   "cell_type": "markdown",
   "metadata": {},
   "source": [
    "## Визуализация\n",
    "\n",
    "Для визуализации воспользуемся методом корреляции значений по строчкам/столбам."
   ]
  },
  {
   "cell_type": "code",
   "execution_count": 22,
   "metadata": {
    "pycharm": {
     "is_executing": false
    }
   },
   "outputs": [
    {
     "data": {
      "text/html": [
       "<div>\n",
       "<style scoped>\n",
       "    .dataframe tbody tr th:only-of-type {\n",
       "        vertical-align: middle;\n",
       "    }\n",
       "\n",
       "    .dataframe tbody tr th {\n",
       "        vertical-align: top;\n",
       "    }\n",
       "\n",
       "    .dataframe thead th {\n",
       "        text-align: right;\n",
       "    }\n",
       "</style>\n",
       "<table border=\"1\" class=\"dataframe\">\n",
       "  <thead>\n",
       "    <tr style=\"text-align: right;\">\n",
       "      <th></th>\n",
       "      <th>75летпобеды</th>\n",
       "      <th>9мая</th>\n",
       "      <th>9мая2019</th>\n",
       "      <th>ауе</th>\n",
       "      <th>ауежизньворам</th>\n",
       "      <th>базарунет</th>\n",
       "      <th>бандит</th>\n",
       "      <th>бандиты</th>\n",
       "      <th>бесмертныйполк</th>\n",
       "      <th>беспридел</th>\n",
       "      <th>...</th>\n",
       "      <th>праздник</th>\n",
       "      <th>россия</th>\n",
       "      <th>сднемпобеды</th>\n",
       "      <th>скемтытам</th>\n",
       "      <th>спасибодедузапобеду</th>\n",
       "      <th>спасибозапобеду</th>\n",
       "      <th>уроди</th>\n",
       "      <th>хулиганы</th>\n",
       "      <th>хулиганы2</th>\n",
       "      <th>япомнюягоржусь</th>\n",
       "    </tr>\n",
       "  </thead>\n",
       "  <tbody>\n",
       "    <tr>\n",
       "      <th>75летпобеды</th>\n",
       "      <td>1.000000</td>\n",
       "      <td>-0.044249</td>\n",
       "      <td>-0.041482</td>\n",
       "      <td>-0.041928</td>\n",
       "      <td>-0.040927</td>\n",
       "      <td>-0.040831</td>\n",
       "      <td>-0.039625</td>\n",
       "      <td>-0.040438</td>\n",
       "      <td>-0.071281</td>\n",
       "      <td>-0.041195</td>\n",
       "      <td>...</td>\n",
       "      <td>-0.034870</td>\n",
       "      <td>-0.014736</td>\n",
       "      <td>-0.023008</td>\n",
       "      <td>-0.040063</td>\n",
       "      <td>-0.007211</td>\n",
       "      <td>0.071591</td>\n",
       "      <td>-0.039125</td>\n",
       "      <td>-0.042080</td>\n",
       "      <td>-0.039952</td>\n",
       "      <td>0.076122</td>\n",
       "    </tr>\n",
       "    <tr>\n",
       "      <th>9мая</th>\n",
       "      <td>-0.044249</td>\n",
       "      <td>1.000000</td>\n",
       "      <td>0.027190</td>\n",
       "      <td>-0.131680</td>\n",
       "      <td>-0.128537</td>\n",
       "      <td>-0.128234</td>\n",
       "      <td>-0.124446</td>\n",
       "      <td>-0.127000</td>\n",
       "      <td>0.033123</td>\n",
       "      <td>-0.129378</td>\n",
       "      <td>...</td>\n",
       "      <td>0.158925</td>\n",
       "      <td>0.108932</td>\n",
       "      <td>0.072954</td>\n",
       "      <td>-0.125823</td>\n",
       "      <td>0.116389</td>\n",
       "      <td>0.075238</td>\n",
       "      <td>-0.122877</td>\n",
       "      <td>-0.132157</td>\n",
       "      <td>-0.125473</td>\n",
       "      <td>0.073283</td>\n",
       "    </tr>\n",
       "    <tr>\n",
       "      <th>9мая2019</th>\n",
       "      <td>-0.041482</td>\n",
       "      <td>0.027190</td>\n",
       "      <td>1.000000</td>\n",
       "      <td>-0.032286</td>\n",
       "      <td>-0.031515</td>\n",
       "      <td>-0.031441</td>\n",
       "      <td>-0.030512</td>\n",
       "      <td>-0.031139</td>\n",
       "      <td>-0.034310</td>\n",
       "      <td>-0.031722</td>\n",
       "      <td>...</td>\n",
       "      <td>0.027532</td>\n",
       "      <td>0.021038</td>\n",
       "      <td>0.035493</td>\n",
       "      <td>-0.030850</td>\n",
       "      <td>0.047301</td>\n",
       "      <td>0.025839</td>\n",
       "      <td>-0.030128</td>\n",
       "      <td>-0.032403</td>\n",
       "      <td>-0.030764</td>\n",
       "      <td>0.020763</td>\n",
       "    </tr>\n",
       "    <tr>\n",
       "      <th>ауе</th>\n",
       "      <td>-0.041928</td>\n",
       "      <td>-0.131680</td>\n",
       "      <td>-0.032286</td>\n",
       "      <td>1.000000</td>\n",
       "      <td>0.934225</td>\n",
       "      <td>0.930420</td>\n",
       "      <td>0.926871</td>\n",
       "      <td>0.924710</td>\n",
       "      <td>0.371245</td>\n",
       "      <td>0.927916</td>\n",
       "      <td>...</td>\n",
       "      <td>-0.032011</td>\n",
       "      <td>0.010814</td>\n",
       "      <td>-0.028143</td>\n",
       "      <td>0.921967</td>\n",
       "      <td>-0.047176</td>\n",
       "      <td>-0.028618</td>\n",
       "      <td>0.920597</td>\n",
       "      <td>0.969239</td>\n",
       "      <td>0.921274</td>\n",
       "      <td>-0.038013</td>\n",
       "    </tr>\n",
       "    <tr>\n",
       "      <th>ауежизньворам</th>\n",
       "      <td>-0.040927</td>\n",
       "      <td>-0.128537</td>\n",
       "      <td>-0.031515</td>\n",
       "      <td>0.934225</td>\n",
       "      <td>1.000000</td>\n",
       "      <td>0.983866</td>\n",
       "      <td>0.874075</td>\n",
       "      <td>0.892203</td>\n",
       "      <td>0.397947</td>\n",
       "      <td>0.987586</td>\n",
       "      <td>...</td>\n",
       "      <td>-0.031247</td>\n",
       "      <td>-0.040764</td>\n",
       "      <td>-0.027472</td>\n",
       "      <td>0.970302</td>\n",
       "      <td>-0.046050</td>\n",
       "      <td>-0.027935</td>\n",
       "      <td>0.945909</td>\n",
       "      <td>0.938439</td>\n",
       "      <td>0.968608</td>\n",
       "      <td>-0.037105</td>\n",
       "    </tr>\n",
       "  </tbody>\n",
       "</table>\n",
       "<p>5 rows × 55 columns</p>\n",
       "</div>"
      ],
      "text/plain": [
       "               75летпобеды      9мая  9мая2019       ауе  ауежизньворам  \\\n",
       "75летпобеды       1.000000 -0.044249 -0.041482 -0.041928      -0.040927   \n",
       "9мая             -0.044249  1.000000  0.027190 -0.131680      -0.128537   \n",
       "9мая2019         -0.041482  0.027190  1.000000 -0.032286      -0.031515   \n",
       "ауе              -0.041928 -0.131680 -0.032286  1.000000       0.934225   \n",
       "ауежизньворам    -0.040927 -0.128537 -0.031515  0.934225       1.000000   \n",
       "\n",
       "               базарунет    бандит   бандиты  бесмертныйполк  беспридел  ...  \\\n",
       "75летпобеды    -0.040831 -0.039625 -0.040438       -0.071281  -0.041195  ...   \n",
       "9мая           -0.128234 -0.124446 -0.127000        0.033123  -0.129378  ...   \n",
       "9мая2019       -0.031441 -0.030512 -0.031139       -0.034310  -0.031722  ...   \n",
       "ауе             0.930420  0.926871  0.924710        0.371245   0.927916  ...   \n",
       "ауежизньворам   0.983866  0.874075  0.892203        0.397947   0.987586  ...   \n",
       "\n",
       "               праздник    россия  сднемпобеды  скемтытам  \\\n",
       "75летпобеды   -0.034870 -0.014736    -0.023008  -0.040063   \n",
       "9мая           0.158925  0.108932     0.072954  -0.125823   \n",
       "9мая2019       0.027532  0.021038     0.035493  -0.030850   \n",
       "ауе           -0.032011  0.010814    -0.028143   0.921967   \n",
       "ауежизньворам -0.031247 -0.040764    -0.027472   0.970302   \n",
       "\n",
       "               спасибодедузапобеду  спасибозапобеду     уроди  хулиганы  \\\n",
       "75летпобеды              -0.007211         0.071591 -0.039125 -0.042080   \n",
       "9мая                      0.116389         0.075238 -0.122877 -0.132157   \n",
       "9мая2019                  0.047301         0.025839 -0.030128 -0.032403   \n",
       "ауе                      -0.047176        -0.028618  0.920597  0.969239   \n",
       "ауежизньворам            -0.046050        -0.027935  0.945909  0.938439   \n",
       "\n",
       "               хулиганы2  япомнюягоржусь  \n",
       "75летпобеды    -0.039952        0.076122  \n",
       "9мая           -0.125473        0.073283  \n",
       "9мая2019       -0.030764        0.020763  \n",
       "ауе             0.921274       -0.038013  \n",
       "ауежизньворам   0.968608       -0.037105  \n",
       "\n",
       "[5 rows x 55 columns]"
      ]
     },
     "execution_count": 22,
     "metadata": {},
     "output_type": "execute_result"
    }
   ],
   "source": [
    "corr = tag_vector_matrix.corr(); corr.head()"
   ]
  },
  {
   "cell_type": "code",
   "execution_count": 23,
   "metadata": {
    "pycharm": {
     "is_executing": false
    }
   },
   "outputs": [],
   "source": [
    "import matplotlib.pyplot as plt \n",
    "import seaborn as sns"
   ]
  },
  {
   "cell_type": "code",
   "execution_count": 24,
   "metadata": {
    "pycharm": {
     "is_executing": false
    }
   },
   "outputs": [],
   "source": [
    "l = 16"
   ]
  },
  {
   "cell_type": "code",
   "execution_count": 25,
   "metadata": {
    "pycharm": {
     "is_executing": false
    }
   },
   "outputs": [
    {
     "data": {
      "text/plain": [
       "<matplotlib.axes._subplots.AxesSubplot at 0x1325ac550>"
      ]
     },
     "execution_count": 25,
     "metadata": {},
     "output_type": "execute_result"
    },
    {
     "data": {
      "image/png": "[encoded data removed]",
      "text/plain": [
       "<Figure size 1152x1152 with 2 Axes>"
      ]
     },
     "metadata": {
      "needs_background": "light"
     },
     "output_type": "display_data"
    }
   ],
   "source": [
    "plt.figure(figsize=(l, l))\n",
    "plt.suptitle('Matrix 1')\n",
    "\n",
    "sns.heatmap(corr, cmap='YlGnBu')"
   ]
  },
  {
   "cell_type": "markdown",
   "metadata": {
    "pycharm": {
     "is_executing": true
    }
   },
   "source": [
    "### Нормализация карты\n",
    "\n",
    "По тепловой карте Matrix 1 видно, что блатные теги полностью коррелируют сами с собой. А в выборке оказались за счет тегов `#бессмертныйполк` и `#бесмертныйполк` (с одной С).\n",
    "\n",
    "Посмотрим на эти посты."
   ]
  },
  {
   "cell_type": "code",
   "execution_count": 26,
   "metadata": {
    "pycharm": {
     "is_executing": false
    }
   },
   "outputs": [
    {
     "data": {
      "text/html": [
       "<div>\n",
       "<style scoped>\n",
       "    .dataframe tbody tr th:only-of-type {\n",
       "        vertical-align: middle;\n",
       "    }\n",
       "\n",
       "    .dataframe tbody tr th {\n",
       "        vertical-align: top;\n",
       "    }\n",
       "\n",
       "    .dataframe thead th {\n",
       "        text-align: right;\n",
       "    }\n",
       "</style>\n",
       "<table border=\"1\" class=\"dataframe\">\n",
       "  <thead>\n",
       "    <tr style=\"text-align: right;\">\n",
       "      <th></th>\n",
       "      <th>post_url</th>\n",
       "      <th>tags</th>\n",
       "    </tr>\n",
       "  </thead>\n",
       "  <tbody>\n",
       "    <tr>\n",
       "      <th>130</th>\n",
       "      <td>https://www.instagram.com/p/B-sRjt6BE3T/</td>\n",
       "      <td>[взаимныелайки, взаимныекомментарии, видео, ви...</td>\n",
       "    </tr>\n",
       "    <tr>\n",
       "      <th>409</th>\n",
       "      <td>https://www.instagram.com/p/B-tYmZPhl66/</td>\n",
       "      <td>[взаимныелайки, взаимныекомментарии, видео, ви...</td>\n",
       "    </tr>\n",
       "    <tr>\n",
       "      <th>535</th>\n",
       "      <td>https://www.instagram.com/p/B-pqWd_BKFE/</td>\n",
       "      <td>[взаимныелайки, взаимныекомментарии, видео, ви...</td>\n",
       "    </tr>\n",
       "    <tr>\n",
       "      <th>818</th>\n",
       "      <td>https://www.instagram.com/p/B-fhGwwjiTC/</td>\n",
       "      <td>[криминальнаяроссия, мафия, воровской, бандит,...</td>\n",
       "    </tr>\n",
       "    <tr>\n",
       "      <th>1393</th>\n",
       "      <td>https://www.instagram.com/p/B-IAl66qQOA/</td>\n",
       "      <td>[криминальнаяроссия, мафия, воровской, бандит,...</td>\n",
       "    </tr>\n",
       "    <tr>\n",
       "      <th>2240</th>\n",
       "      <td>https://www.instagram.com/p/B9pPSkcKumi/</td>\n",
       "      <td>[криминальнаяроссия, мафия, воровской, бандит,...</td>\n",
       "    </tr>\n",
       "    <tr>\n",
       "      <th>2531</th>\n",
       "      <td>https://www.instagram.com/p/B9bizh6KrMB/</td>\n",
       "      <td>[криминальнаяроссия, мафия, воровской, бандит,...</td>\n",
       "    </tr>\n",
       "    <tr>\n",
       "      <th>2588</th>\n",
       "      <td>https://www.instagram.com/p/B9Xh_L5Ke4j/</td>\n",
       "      <td>[криминальнаяроссия, мафия, воровской, бандит,...</td>\n",
       "    </tr>\n",
       "    <tr>\n",
       "      <th>2695</th>\n",
       "      <td>https://www.instagram.com/p/B9SJXChIgxE/</td>\n",
       "      <td>[криминальнаяроссия, мафия, воровской, бандит,...</td>\n",
       "    </tr>\n",
       "    <tr>\n",
       "      <th>3039</th>\n",
       "      <td>https://www.instagram.com/p/B9BrkYtI1Vy/</td>\n",
       "      <td>[криминальнаяроссия, мафия, воровской, бандит,...</td>\n",
       "    </tr>\n",
       "  </tbody>\n",
       "</table>\n",
       "</div>"
      ],
      "text/plain": [
       "                                      post_url  \\\n",
       "130   https://www.instagram.com/p/B-sRjt6BE3T/   \n",
       "409   https://www.instagram.com/p/B-tYmZPhl66/   \n",
       "535   https://www.instagram.com/p/B-pqWd_BKFE/   \n",
       "818   https://www.instagram.com/p/B-fhGwwjiTC/   \n",
       "1393  https://www.instagram.com/p/B-IAl66qQOA/   \n",
       "2240  https://www.instagram.com/p/B9pPSkcKumi/   \n",
       "2531  https://www.instagram.com/p/B9bizh6KrMB/   \n",
       "2588  https://www.instagram.com/p/B9Xh_L5Ke4j/   \n",
       "2695  https://www.instagram.com/p/B9SJXChIgxE/   \n",
       "3039  https://www.instagram.com/p/B9BrkYtI1Vy/   \n",
       "\n",
       "                                                   tags  \n",
       "130   [взаимныелайки, взаимныекомментарии, видео, ви...  \n",
       "409   [взаимныелайки, взаимныекомментарии, видео, ви...  \n",
       "535   [взаимныелайки, взаимныекомментарии, видео, ви...  \n",
       "818   [криминальнаяроссия, мафия, воровской, бандит,...  \n",
       "1393  [криминальнаяроссия, мафия, воровской, бандит,...  \n",
       "2240  [криминальнаяроссия, мафия, воровской, бандит,...  \n",
       "2531  [криминальнаяроссия, мафия, воровской, бандит,...  \n",
       "2588  [криминальнаяроссия, мафия, воровской, бандит,...  \n",
       "2695  [криминальнаяроссия, мафия, воровской, бандит,...  \n",
       "3039  [криминальнаяроссия, мафия, воровской, бандит,...  "
      ]
     },
     "execution_count": 26,
     "metadata": {},
     "output_type": "execute_result"
    }
   ],
   "source": [
    "df[df.tags.str.join(',').str.contains('ауе')].loc[:, ['post_url', 'tags']].head(10)"
   ]
  },
  {
   "cell_type": "markdown",
   "metadata": {},
   "source": [
    "Одно из моих личных предположений, такой результат дают специальные приложения, якобы повышающие охват постов засчет использования популярных тегов. Однако если кто-то знает наверняка, поделитесь своим знанием.\n",
    "\n",
    "В пользу этого может свидетесьтвовать диаграмма распределения количества блатных тегов на один пост: "
   ]
  },
  {
   "cell_type": "code",
   "execution_count": 27,
   "metadata": {
    "pycharm": {
     "is_executing": false
    },
    "scrolled": true
   },
   "outputs": [
    {
     "data": {
      "text/plain": [
       "<matplotlib.axes._subplots.AxesSubplot at 0x13270f898>"
      ]
     },
     "execution_count": 27,
     "metadata": {},
     "output_type": "execute_result"
    },
    {
     "data": {
      "image/png": "[encoded data removed]",
      "text/plain": [
       "<Figure size 432x288 with 1 Axes>"
      ]
     },
     "metadata": {
      "needs_background": "light"
     },
     "output_type": "display_data"
    }
   ],
   "source": [
    "df[df.tags.str.join(',').str.contains('ауе')].tags.str.len().hist()"
   ]
  },
  {
   "cell_type": "markdown",
   "metadata": {},
   "source": [
    "Как видно, в среднем их используют от 20 до 40 на один пост, а в некоторых случаях доходит и до 60. Скорее всего дело в спецаильных приложениях."
   ]
  },
  {
   "cell_type": "markdown",
   "metadata": {},
   "source": [
    "Следующим шагом очистим множество популярных тегов `top_tags_set` от блатных, для этого удалим посты, в которых встречается тег `#ауе`. Однако сделаем этого только для построения тепловой карты, поскольку такой результат интересен и может использоваться для дальнейшего исследования, а именно – сетевого анализа.  "
   ]
  },
  {
   "cell_type": "code",
   "execution_count": 28,
   "metadata": {
    "pycharm": {
     "is_executing": false
    },
    "scrolled": true
   },
   "outputs": [
    {
     "data": {
      "text/html": [
       "<div>\n",
       "<style scoped>\n",
       "    .dataframe tbody tr th:only-of-type {\n",
       "        vertical-align: middle;\n",
       "    }\n",
       "\n",
       "    .dataframe tbody tr th {\n",
       "        vertical-align: top;\n",
       "    }\n",
       "\n",
       "    .dataframe thead th {\n",
       "        text-align: right;\n",
       "    }\n",
       "</style>\n",
       "<table border=\"1\" class=\"dataframe\">\n",
       "  <thead>\n",
       "    <tr style=\"text-align: right;\">\n",
       "      <th></th>\n",
       "      <th>id</th>\n",
       "      <th>post_url</th>\n",
       "      <th>caption</th>\n",
       "      <th>tags</th>\n",
       "      <th>top_tags</th>\n",
       "    </tr>\n",
       "  </thead>\n",
       "  <tbody>\n",
       "    <tr>\n",
       "      <th>0</th>\n",
       "      <td>2290507756257899980</td>\n",
       "      <td>https://www.instagram.com/p/B_JhKsvB3XM/</td>\n",
       "      <td>#75летпобеды  #победа75  #мыпомним  #великаяпо...</td>\n",
       "      <td>[75летпобеды, победа75, мыпомним, великаяпобед...</td>\n",
       "      <td>[75летпобеды, мыпомним, великаяпобеда, бессмер...</td>\n",
       "    </tr>\n",
       "    <tr>\n",
       "      <th>1</th>\n",
       "      <td>2283363816720116246</td>\n",
       "      <td>https://www.instagram.com/p/B-wI0sklSoW/</td>\n",
       "      <td>«Мой дедушка - герой!» #япомнюягоржусь #деньпо...</td>\n",
       "      <td>[япомнюягоржусь, деньпобеды, 9мая, бессмертный...</td>\n",
       "      <td>[япомнюягоржусь, деньпобеды, 9мая, бессмертный...</td>\n",
       "    </tr>\n",
       "    <tr>\n",
       "      <th>2</th>\n",
       "      <td>2283364236083479227</td>\n",
       "      <td>https://www.instagram.com/p/B-wI6zIlkK7/</td>\n",
       "      <td>«Мой дедушка - герой!» #япомнюягоржусь #деньпо...</td>\n",
       "      <td>[япомнюягоржусь, деньпобеды, 9мая, бессмертный...</td>\n",
       "      <td>[япомнюягоржусь, деньпобеды, 9мая, бессмертный...</td>\n",
       "    </tr>\n",
       "    <tr>\n",
       "      <th>3</th>\n",
       "      <td>2283370574013238191</td>\n",
       "      <td>https://www.instagram.com/p/B-wKXByo4uv/</td>\n",
       "      <td>Вышел в свет новый номер газеты «Каширские изв...</td>\n",
       "      <td>[каширскоеиа, кашира, подмосковье, вкурсе2020,...</td>\n",
       "      <td>[бессмертныйполк]</td>\n",
       "    </tr>\n",
       "    <tr>\n",
       "      <th>4</th>\n",
       "      <td>2283365441896285449</td>\n",
       "      <td>https://www.instagram.com/p/B-wJMWIoYUJ/</td>\n",
       "      <td>Вот что получилось у меня после первых прислан...</td>\n",
       "      <td>[вокальнаястудиядебют, флешмоб2020, бессмертны...</td>\n",
       "      <td>[бессмертныйполк]</td>\n",
       "    </tr>\n",
       "  </tbody>\n",
       "</table>\n",
       "</div>"
      ],
      "text/plain": [
       "                    id                                  post_url  \\\n",
       "0  2290507756257899980  https://www.instagram.com/p/B_JhKsvB3XM/   \n",
       "1  2283363816720116246  https://www.instagram.com/p/B-wI0sklSoW/   \n",
       "2  2283364236083479227  https://www.instagram.com/p/B-wI6zIlkK7/   \n",
       "3  2283370574013238191  https://www.instagram.com/p/B-wKXByo4uv/   \n",
       "4  2283365441896285449  https://www.instagram.com/p/B-wJMWIoYUJ/   \n",
       "\n",
       "                                             caption  \\\n",
       "0  #75летпобеды  #победа75  #мыпомним  #великаяпо...   \n",
       "1  «Мой дедушка - герой!» #япомнюягоржусь #деньпо...   \n",
       "2  «Мой дедушка - герой!» #япомнюягоржусь #деньпо...   \n",
       "3  Вышел в свет новый номер газеты «Каширские изв...   \n",
       "4  Вот что получилось у меня после первых прислан...   \n",
       "\n",
       "                                                tags  \\\n",
       "0  [75летпобеды, победа75, мыпомним, великаяпобед...   \n",
       "1  [япомнюягоржусь, деньпобеды, 9мая, бессмертный...   \n",
       "2  [япомнюягоржусь, деньпобеды, 9мая, бессмертный...   \n",
       "3  [каширскоеиа, кашира, подмосковье, вкурсе2020,...   \n",
       "4  [вокальнаястудиядебют, флешмоб2020, бессмертны...   \n",
       "\n",
       "                                            top_tags  \n",
       "0  [75летпобеды, мыпомним, великаяпобеда, бессмер...  \n",
       "1  [япомнюягоржусь, деньпобеды, 9мая, бессмертный...  \n",
       "2  [япомнюягоржусь, деньпобеды, 9мая, бессмертный...  \n",
       "3                                  [бессмертныйполк]  \n",
       "4                                  [бессмертныйполк]  "
      ]
     },
     "execution_count": 28,
     "metadata": {},
     "output_type": "execute_result"
    }
   ],
   "source": [
    "df_filtered = df.drop(df[df.tags.str.join(',').str.contains('бандит')].index); df_filtered.head()"
   ]
  },
  {
   "cell_type": "markdown",
   "metadata": {},
   "source": [
    "Повторим предыдущие шаги по выделению топовых тегов. Для удобства работы вынесу часть оработки в функции."
   ]
  },
  {
   "cell_type": "code",
   "execution_count": 29,
   "metadata": {
    "pycharm": {
     "is_executing": false
    }
   },
   "outputs": [],
   "source": [
    "def get_top_tags_set(df, min_count):\n",
    "    \n",
    "    flattened_tags = pd.Series([tag for tag_list in df.tags for tag in tag_list])\n",
    "    flattened_tags_counts = flattened_tags.value_counts()\n",
    "    top_tags_set = set(flattened_tags_counts.loc[flattened_tags_counts > min_count].index)\n",
    "    \n",
    "    return top_tags_set"
   ]
  },
  {
   "cell_type": "code",
   "execution_count": 30,
   "metadata": {
    "pycharm": {
     "is_executing": false
    }
   },
   "outputs": [],
   "source": [
    "def get_tag_vector_matrix(df, top_tags_set):\n",
    "    tag_vector_df = df.loc[:, ['top_tags']]\n",
    "\n",
    "    for tag in sorted(top_tags_set):\n",
    "        tag_vector_df[f\"{tag}\"] = tag_vector_df.top_tags.apply(lambda x: bool(tag in x))\n",
    "\n",
    "    tag_vector_matrix = tag_vector_df.drop(columns=['top_tags'])\n",
    "    \n",
    "    return tag_vector_matrix"
   ]
  },
  {
   "cell_type": "code",
   "execution_count": 31,
   "metadata": {
    "pycharm": {
     "is_executing": false
    }
   },
   "outputs": [
    {
     "data": {
      "text/plain": [
       "36"
      ]
     },
     "execution_count": 31,
     "metadata": {},
     "output_type": "execute_result"
    }
   ],
   "source": [
    "top_tags_set = get_top_tags_set(df_filtered, 3500); len(top_tags_set)"
   ]
  },
  {
   "cell_type": "code",
   "execution_count": 32,
   "metadata": {
    "pycharm": {
     "is_executing": false
    }
   },
   "outputs": [
    {
     "data": {
      "text/plain": [
       "{'75летпобеды',\n",
       " '9мая',\n",
       " '9мая2019',\n",
       " 'russia',\n",
       " 'victoryday',\n",
       " 'бесмертныйполк',\n",
       " 'бессмертный',\n",
       " 'бессмертный_полк',\n",
       " 'бессмертныйполк',\n",
       " 'бессмертныйполк2017',\n",
       " 'бессмертныйполк2018',\n",
       " 'бессмертныйполк2019',\n",
       " 'бессмертныйполк2020',\n",
       " 'бессмертныйполкдома',\n",
       " 'бессмертныйполконлайн',\n",
       " 'бессмертныйполкроссии',\n",
       " 'бессмертныйполктатарстан',\n",
       " 'великаяотечественнаявойна',\n",
       " 'великаяпобеда',\n",
       " 'ветераны',\n",
       " 'вов',\n",
       " 'деньпобеды',\n",
       " 'деньпобеды2019',\n",
       " 'москва',\n",
       " 'мыпомним',\n",
       " 'память',\n",
       " 'парад',\n",
       " 'парадпобеды',\n",
       " 'победа',\n",
       " 'помним',\n",
       " 'праздник',\n",
       " 'россия',\n",
       " 'сднемпобеды',\n",
       " 'спасибодедузапобеду',\n",
       " 'спасибозапобеду',\n",
       " 'япомнюягоржусь'}"
      ]
     },
     "execution_count": 32,
     "metadata": {},
     "output_type": "execute_result"
    }
   ],
   "source": [
    "top_tags_set"
   ]
  },
  {
   "cell_type": "markdown",
   "metadata": {},
   "source": [
    "Как видно, лишь один тег `#ауе` помог полностью избавиться от блатных постов."
   ]
  },
  {
   "cell_type": "code",
   "execution_count": 33,
   "metadata": {
    "pycharm": {
     "is_executing": false
    }
   },
   "outputs": [],
   "source": [
    "df_filtered['top_tags'] = df_filtered.tags.apply(lambda x: [tag for tag in x if tag in top_tags_set])\n",
    "df_top_tags = df_filtered.loc[df_filtered.top_tags.apply(lambda x: x !=[])]"
   ]
  },
  {
   "cell_type": "code",
   "execution_count": 34,
   "metadata": {
    "pycharm": {
     "is_executing": false
    }
   },
   "outputs": [
    {
     "data": {
      "text/html": [
       "<div>\n",
       "<style scoped>\n",
       "    .dataframe tbody tr th:only-of-type {\n",
       "        vertical-align: middle;\n",
       "    }\n",
       "\n",
       "    .dataframe tbody tr th {\n",
       "        vertical-align: top;\n",
       "    }\n",
       "\n",
       "    .dataframe thead th {\n",
       "        text-align: right;\n",
       "    }\n",
       "</style>\n",
       "<table border=\"1\" class=\"dataframe\">\n",
       "  <thead>\n",
       "    <tr style=\"text-align: right;\">\n",
       "      <th></th>\n",
       "      <th>75летпобеды</th>\n",
       "      <th>9мая</th>\n",
       "      <th>9мая2019</th>\n",
       "      <th>russia</th>\n",
       "      <th>victoryday</th>\n",
       "      <th>бесмертныйполк</th>\n",
       "      <th>бессмертный</th>\n",
       "      <th>бессмертный_полк</th>\n",
       "      <th>бессмертныйполк</th>\n",
       "      <th>бессмертныйполк2017</th>\n",
       "      <th>...</th>\n",
       "      <th>парад</th>\n",
       "      <th>парадпобеды</th>\n",
       "      <th>победа</th>\n",
       "      <th>помним</th>\n",
       "      <th>праздник</th>\n",
       "      <th>россия</th>\n",
       "      <th>сднемпобеды</th>\n",
       "      <th>спасибодедузапобеду</th>\n",
       "      <th>спасибозапобеду</th>\n",
       "      <th>япомнюягоржусь</th>\n",
       "    </tr>\n",
       "  </thead>\n",
       "  <tbody>\n",
       "    <tr>\n",
       "      <th>0</th>\n",
       "      <td>True</td>\n",
       "      <td>False</td>\n",
       "      <td>False</td>\n",
       "      <td>False</td>\n",
       "      <td>False</td>\n",
       "      <td>False</td>\n",
       "      <td>False</td>\n",
       "      <td>False</td>\n",
       "      <td>True</td>\n",
       "      <td>False</td>\n",
       "      <td>...</td>\n",
       "      <td>False</td>\n",
       "      <td>False</td>\n",
       "      <td>False</td>\n",
       "      <td>False</td>\n",
       "      <td>False</td>\n",
       "      <td>False</td>\n",
       "      <td>False</td>\n",
       "      <td>False</td>\n",
       "      <td>False</td>\n",
       "      <td>False</td>\n",
       "    </tr>\n",
       "    <tr>\n",
       "      <th>1</th>\n",
       "      <td>False</td>\n",
       "      <td>True</td>\n",
       "      <td>False</td>\n",
       "      <td>False</td>\n",
       "      <td>False</td>\n",
       "      <td>False</td>\n",
       "      <td>False</td>\n",
       "      <td>False</td>\n",
       "      <td>True</td>\n",
       "      <td>False</td>\n",
       "      <td>...</td>\n",
       "      <td>False</td>\n",
       "      <td>False</td>\n",
       "      <td>False</td>\n",
       "      <td>False</td>\n",
       "      <td>False</td>\n",
       "      <td>False</td>\n",
       "      <td>False</td>\n",
       "      <td>False</td>\n",
       "      <td>False</td>\n",
       "      <td>True</td>\n",
       "    </tr>\n",
       "    <tr>\n",
       "      <th>2</th>\n",
       "      <td>False</td>\n",
       "      <td>True</td>\n",
       "      <td>False</td>\n",
       "      <td>False</td>\n",
       "      <td>False</td>\n",
       "      <td>False</td>\n",
       "      <td>False</td>\n",
       "      <td>False</td>\n",
       "      <td>True</td>\n",
       "      <td>False</td>\n",
       "      <td>...</td>\n",
       "      <td>False</td>\n",
       "      <td>False</td>\n",
       "      <td>False</td>\n",
       "      <td>False</td>\n",
       "      <td>False</td>\n",
       "      <td>False</td>\n",
       "      <td>False</td>\n",
       "      <td>False</td>\n",
       "      <td>False</td>\n",
       "      <td>True</td>\n",
       "    </tr>\n",
       "    <tr>\n",
       "      <th>3</th>\n",
       "      <td>False</td>\n",
       "      <td>False</td>\n",
       "      <td>False</td>\n",
       "      <td>False</td>\n",
       "      <td>False</td>\n",
       "      <td>False</td>\n",
       "      <td>False</td>\n",
       "      <td>False</td>\n",
       "      <td>True</td>\n",
       "      <td>False</td>\n",
       "      <td>...</td>\n",
       "      <td>False</td>\n",
       "      <td>False</td>\n",
       "      <td>False</td>\n",
       "      <td>False</td>\n",
       "      <td>False</td>\n",
       "      <td>False</td>\n",
       "      <td>False</td>\n",
       "      <td>False</td>\n",
       "      <td>False</td>\n",
       "      <td>False</td>\n",
       "    </tr>\n",
       "    <tr>\n",
       "      <th>4</th>\n",
       "      <td>False</td>\n",
       "      <td>False</td>\n",
       "      <td>False</td>\n",
       "      <td>False</td>\n",
       "      <td>False</td>\n",
       "      <td>False</td>\n",
       "      <td>False</td>\n",
       "      <td>False</td>\n",
       "      <td>True</td>\n",
       "      <td>False</td>\n",
       "      <td>...</td>\n",
       "      <td>False</td>\n",
       "      <td>False</td>\n",
       "      <td>False</td>\n",
       "      <td>False</td>\n",
       "      <td>False</td>\n",
       "      <td>False</td>\n",
       "      <td>False</td>\n",
       "      <td>False</td>\n",
       "      <td>False</td>\n",
       "      <td>False</td>\n",
       "    </tr>\n",
       "  </tbody>\n",
       "</table>\n",
       "<p>5 rows × 36 columns</p>\n",
       "</div>"
      ],
      "text/plain": [
       "   75летпобеды   9мая  9мая2019  russia  victoryday  бесмертныйполк  \\\n",
       "0         True  False     False   False       False           False   \n",
       "1        False   True     False   False       False           False   \n",
       "2        False   True     False   False       False           False   \n",
       "3        False  False     False   False       False           False   \n",
       "4        False  False     False   False       False           False   \n",
       "\n",
       "   бессмертный  бессмертный_полк  бессмертныйполк  бессмертныйполк2017  ...  \\\n",
       "0        False             False             True                False  ...   \n",
       "1        False             False             True                False  ...   \n",
       "2        False             False             True                False  ...   \n",
       "3        False             False             True                False  ...   \n",
       "4        False             False             True                False  ...   \n",
       "\n",
       "   парад  парадпобеды  победа  помним  праздник  россия  сднемпобеды  \\\n",
       "0  False        False   False   False     False   False        False   \n",
       "1  False        False   False   False     False   False        False   \n",
       "2  False        False   False   False     False   False        False   \n",
       "3  False        False   False   False     False   False        False   \n",
       "4  False        False   False   False     False   False        False   \n",
       "\n",
       "   спасибодедузапобеду  спасибозапобеду  япомнюягоржусь  \n",
       "0                False            False           False  \n",
       "1                False            False            True  \n",
       "2                False            False            True  \n",
       "3                False            False           False  \n",
       "4                False            False           False  \n",
       "\n",
       "[5 rows x 36 columns]"
      ]
     },
     "execution_count": 34,
     "metadata": {},
     "output_type": "execute_result"
    }
   ],
   "source": [
    "tag_vector_matrix = get_tag_vector_matrix(df_top_tags, top_tags_set); tag_vector_matrix.head()"
   ]
  },
  {
   "cell_type": "code",
   "execution_count": 35,
   "metadata": {
    "pycharm": {
     "is_executing": false
    }
   },
   "outputs": [],
   "source": [
    "corr = tag_vector_matrix.corr()"
   ]
  },
  {
   "cell_type": "code",
   "execution_count": 36,
   "metadata": {
    "pycharm": {
     "is_executing": false
    }
   },
   "outputs": [
    {
     "data": {
      "text/plain": [
       "<matplotlib.axes._subplots.AxesSubplot at 0x12efb3dd8>"
      ]
     },
     "execution_count": 36,
     "metadata": {},
     "output_type": "execute_result"
    },
    {
     "data": {
      "image/png": "[encoded data removed]",
      "text/plain": [
       "<Figure size 1152x1152 with 2 Axes>"
      ]
     },
     "metadata": {
      "needs_background": "light"
     },
     "output_type": "display_data"
    }
   ],
   "source": [
    "plt.figure(figsize=(l, l))\n",
    "plt.suptitle('Matrix 2')\n",
    "\n",
    "sns.heatmap(corr, cmap='YlGnBu')"
   ]
  },
  {
   "cell_type": "markdown",
   "metadata": {},
   "source": [
    "График Matrix 2 выглядит гораздо интересней. Четко прослеживаются такие зависимости, как:\n",
    "* `#деньпобеды` и `#9мая`;\n",
    "* `#victoryday` и `#russia`;\n",
    "* `#россия` и `#russia`;\n",
    "* `#бессмертныйполкдома` и `#бессмертныйполк2020` – интересно, почему :));\n",
    "* `#бессмертныйполктатарстан` и `#бессмертныйполконлайн` – крайне интересно, фактически самая большая корреляция. Наводит на мысль о проведении различных акций на региональном масштабе республики.  "
   ]
  },
  {
   "cell_type": "code",
   "execution_count": 36,
   "metadata": {
    "pycharm": {
     "is_executing": false
    }
   },
   "outputs": [],
   "source": []
  },
  {
   "cell_type": "code",
   "execution_count": 36,
   "metadata": {
    "pycharm": {
     "is_executing": false
    }
   },
   "outputs": [],
   "source": []
  },
  {
   "cell_type": "code",
   "execution_count": 36,
   "metadata": {
    "pycharm": {
     "is_executing": false
    }
   },
   "outputs": [],
   "source": []
  }
 ],
 "metadata": {
  "kernelspec": {
   "display_name": "Python 3",
   "language": "python",
   "name": "python3"
  },
  "language_info": {
   "codemirror_mode": {
    "name": "ipython",
    "version": 3
   },
   "file_extension": ".py",
   "mimetype": "text/x-python",
   "name": "python",
   "nbconvert_exporter": "python",
   "pygments_lexer": "ipython3",
   "version": "3.7.2"
  }
 },
 "nbformat": 4,
 "nbformat_minor": 1
}
