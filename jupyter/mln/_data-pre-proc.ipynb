{
 "cells": [
  {
   "cell_type": "code",
   "execution_count": 79,
   "metadata": {
    "pycharm": {
     "is_executing": false
    }
   },
   "outputs": [],
   "source": [
    "import numpy as np\n",
    "import pandas as pd"
   ]
  },
  {
   "cell_type": "code",
   "execution_count": 80,
   "metadata": {},
   "outputs": [],
   "source": [
    "filename = 'my_polk_mln'"
   ]
  },
  {
   "cell_type": "code",
   "execution_count": 81,
   "metadata": {},
   "outputs": [],
   "source": [
    "df_ = pd.read_csv(f\"../../data/{filename}.csv\", engine='python', index_col=0)"
   ]
  },
  {
   "cell_type": "code",
   "execution_count": 82,
   "metadata": {},
   "outputs": [],
   "source": [
    "df_.tags = df_.tags.apply(lambda x: x.strip('{}').replace('\\'', '').split(',') if isinstance(x, str) > 0 else np.nan)"
   ]
  },
  {
   "cell_type": "code",
   "execution_count": 83,
   "metadata": {},
   "outputs": [
    {
     "data": {
      "text/html": [
       "<div>\n",
       "<style scoped>\n",
       "    .dataframe tbody tr th:only-of-type {\n",
       "        vertical-align: middle;\n",
       "    }\n",
       "\n",
       "    .dataframe tbody tr th {\n",
       "        vertical-align: top;\n",
       "    }\n",
       "\n",
       "    .dataframe thead th {\n",
       "        text-align: right;\n",
       "    }\n",
       "</style>\n",
       "<table border=\"1\" class=\"dataframe\">\n",
       "  <thead>\n",
       "    <tr style=\"text-align: right;\">\n",
       "      <th></th>\n",
       "      <th>owner_id</th>\n",
       "      <th>shortcode</th>\n",
       "      <th>post_url</th>\n",
       "      <th>display_url</th>\n",
       "      <th>published</th>\n",
       "      <th>caption</th>\n",
       "      <th>likes_count</th>\n",
       "      <th>comments_count</th>\n",
       "      <th>is_video</th>\n",
       "      <th>video_view_count</th>\n",
       "      <th>inst_caption</th>\n",
       "      <th>query</th>\n",
       "      <th>tags</th>\n",
       "    </tr>\n",
       "    <tr>\n",
       "      <th>id</th>\n",
       "      <th></th>\n",
       "      <th></th>\n",
       "      <th></th>\n",
       "      <th></th>\n",
       "      <th></th>\n",
       "      <th></th>\n",
       "      <th></th>\n",
       "      <th></th>\n",
       "      <th></th>\n",
       "      <th></th>\n",
       "      <th></th>\n",
       "      <th></th>\n",
       "      <th></th>\n",
       "    </tr>\n",
       "  </thead>\n",
       "  <tbody>\n",
       "    <tr>\n",
       "      <th>2303616061775464820</th>\n",
       "      <td>5.478032e+09</td>\n",
       "      <td>B_4FpplAsl0</td>\n",
       "      <td>https://www.instagram.com/p/B_4FpplAsl0/</td>\n",
       "      <td>https://instagram.fhel5-1.fna.fbcdn.net/v/t51....</td>\n",
       "      <td>2020-05-07 06:20:55+00</td>\n",
       "      <td>Блохин Василий Васильевич 1911г рождения. Проб...</td>\n",
       "      <td>54</td>\n",
       "      <td>0</td>\n",
       "      <td>false</td>\n",
       "      <td>NaN</td>\n",
       "      <td>Photo by Маргаритка on May 06, 2020. Image may...</td>\n",
       "      <td>#бесмертныйполк🙏</td>\n",
       "      <td>[бесмертныйполк]</td>\n",
       "    </tr>\n",
       "    <tr>\n",
       "      <th>2305119399719574714</th>\n",
       "      <td>2.226882e+09</td>\n",
       "      <td>B_9beGJJZy6</td>\n",
       "      <td>https://www.instagram.com/p/B_9beGJJZy6/</td>\n",
       "      <td>https://instagram.fhel5-1.fna.fbcdn.net/v/t51....</td>\n",
       "      <td>2020-05-09 08:07:47+00</td>\n",
       "      <td>Зайцев Борис Иванович, мой пра-дедушка, участн...</td>\n",
       "      <td>55</td>\n",
       "      <td>3</td>\n",
       "      <td>false</td>\n",
       "      <td>NaN</td>\n",
       "      <td>Photo by @zayceva_kristysha on May 09, 2020. I...</td>\n",
       "      <td>#бесмертныйполк🙏</td>\n",
       "      <td>[бесмертныйполк]</td>\n",
       "    </tr>\n",
       "    <tr>\n",
       "      <th>2302983163475195567</th>\n",
       "      <td>2.235020e+09</td>\n",
       "      <td>B_11vxGpPav</td>\n",
       "      <td>https://www.instagram.com/p/B_11vxGpPav/</td>\n",
       "      <td>https://instagram.fhel5-1.fna.fbcdn.net/v/t51....</td>\n",
       "      <td>2020-05-06 09:23:28+00</td>\n",
       "      <td>Мой дед Вавилин Егор Ильич 02.11.1920 года ро...</td>\n",
       "      <td>43</td>\n",
       "      <td>1</td>\n",
       "      <td>false</td>\n",
       "      <td>NaN</td>\n",
       "      <td>Photo by Наталья on May 06, 2020. Image may co...</td>\n",
       "      <td>#бесмертныйполкпермь</td>\n",
       "      <td>[бесмертныйполк2020, бесмертныйполкпермь]</td>\n",
       "    </tr>\n",
       "    <tr>\n",
       "      <th>2304720892040880707</th>\n",
       "      <td>4.127157e+08</td>\n",
       "      <td>B_8A3C8hKJD</td>\n",
       "      <td>https://www.instagram.com/p/B_8A3C8hKJD/</td>\n",
       "      <td>https://instagram.fhel5-1.fna.fbcdn.net/v/t51....</td>\n",
       "      <td>2020-05-08 18:56:01+00</td>\n",
       "      <td>На этом фото два моих прадеда, благодаря котор...</td>\n",
       "      <td>47</td>\n",
       "      <td>0</td>\n",
       "      <td>false</td>\n",
       "      <td>NaN</td>\n",
       "      <td>Photo by Marina on May 08, 2020. Image may con...</td>\n",
       "      <td>#безмертныйполк</td>\n",
       "      <td>[победа2020, 75летпобеды, безмертныйполк]</td>\n",
       "    </tr>\n",
       "    <tr>\n",
       "      <th>2305072350833648291</th>\n",
       "      <td>2.078362e+09</td>\n",
       "      <td>B_9QxcdA6Kj</td>\n",
       "      <td>https://www.instagram.com/p/B_9QxcdA6Kj/</td>\n",
       "      <td>https://instagram.fhel5-1.fna.fbcdn.net/v/t51....</td>\n",
       "      <td>2020-05-09 06:34:19+00</td>\n",
       "      <td>Спасибо прадедам и моему дедушке за Победу) за...</td>\n",
       "      <td>84</td>\n",
       "      <td>0</td>\n",
       "      <td>false</td>\n",
       "      <td>NaN</td>\n",
       "      <td>Photo by Natalli on May 08, 2020. Image may co...</td>\n",
       "      <td>#безмертныйполк</td>\n",
       "      <td>[знатьчтобыпомнили, знатьчтобыжить, безмертный...</td>\n",
       "    </tr>\n",
       "    <tr>\n",
       "      <th>2305096769962342925</th>\n",
       "      <td>3.252921e+10</td>\n",
       "      <td>B_9WUyigXoN</td>\n",
       "      <td>https://www.instagram.com/p/B_9WUyigXoN/</td>\n",
       "      <td>https://instagram.fhel5-1.fna.fbcdn.net/v/t51....</td>\n",
       "      <td>2020-05-09 07:22:50+00</td>\n",
       "      <td>Я всем всем Человекам этого прекрасного Мира ж...</td>\n",
       "      <td>30</td>\n",
       "      <td>2</td>\n",
       "      <td>false</td>\n",
       "      <td>NaN</td>\n",
       "      <td>Photo by Эльвира in Москва Вешняки.</td>\n",
       "      <td>#безмертныйполк</td>\n",
       "      <td>[безмертныйполк, безслез, безвойны, безотравым...</td>\n",
       "    </tr>\n",
       "    <tr>\n",
       "      <th>2305107864828112422</th>\n",
       "      <td>2.706808e+09</td>\n",
       "      <td>B_9Y2PcCe4m</td>\n",
       "      <td>https://www.instagram.com/p/B_9Y2PcCe4m/</td>\n",
       "      <td>https://instagram.fhel5-1.fna.fbcdn.net/v/t51....</td>\n",
       "      <td>2020-05-09 07:44:52+00</td>\n",
       "      <td>Наш ежегодный колаж #сднемпобеды  #9мая  #безм...</td>\n",
       "      <td>39</td>\n",
       "      <td>4</td>\n",
       "      <td>false</td>\n",
       "      <td>NaN</td>\n",
       "      <td>Photo by Марина Попеску on May 09, 2020. Image...</td>\n",
       "      <td>#безмертныйполк</td>\n",
       "      <td>[сднемпобеды, 9мая, безмертныйполк]</td>\n",
       "    </tr>\n",
       "    <tr>\n",
       "      <th>2305320253696999679</th>\n",
       "      <td>1.374929e+10</td>\n",
       "      <td>B_-JI5_H4D_</td>\n",
       "      <td>https://www.instagram.com/p/B_-JI5_H4D_/</td>\n",
       "      <td>https://instagram.fhel5-1.fna.fbcdn.net/v/t51....</td>\n",
       "      <td>2020-05-09 14:46:51+00</td>\n",
       "      <td>#безмертныйполк#9мая#деньпобеды</td>\n",
       "      <td>21</td>\n",
       "      <td>0</td>\n",
       "      <td>false</td>\n",
       "      <td>NaN</td>\n",
       "      <td>Photo by ... on May 09, 2020. Image may contai...</td>\n",
       "      <td>#безмертныйполк</td>\n",
       "      <td>[безмертныйполк, 9мая, деньпобеды]</td>\n",
       "    </tr>\n",
       "    <tr>\n",
       "      <th>2305574160250299056</th>\n",
       "      <td>2.702907e+10</td>\n",
       "      <td>B__C3u5CeKw</td>\n",
       "      <td>https://www.instagram.com/p/B__C3u5CeKw/</td>\n",
       "      <td>https://instagram.fhel5-1.fna.fbcdn.net/v/t51....</td>\n",
       "      <td>2020-05-09 23:11:19+00</td>\n",
       "      <td>#безмертныйполк</td>\n",
       "      <td>12</td>\n",
       "      <td>1</td>\n",
       "      <td>false</td>\n",
       "      <td>NaN</td>\n",
       "      <td>Photo by 💔ᑭIᑭᑌKᗩ💔 on May 09, 2020.</td>\n",
       "      <td>#безмертныйполк</td>\n",
       "      <td>[безмертныйполк]</td>\n",
       "    </tr>\n",
       "    <tr>\n",
       "      <th>2305591590177517589</th>\n",
       "      <td>4.840803e+09</td>\n",
       "      <td>B__G1XxqLAV</td>\n",
       "      <td>https://www.instagram.com/p/B__G1XxqLAV/</td>\n",
       "      <td>https://instagram.fhel5-1.fna.fbcdn.net/v/t51....</td>\n",
       "      <td>2020-05-09 23:45:57+00</td>\n",
       "      <td>Спасибо деду за победу ❤️❤️❤️ #безмертныйполк ...</td>\n",
       "      <td>101</td>\n",
       "      <td>0</td>\n",
       "      <td>false</td>\n",
       "      <td>NaN</td>\n",
       "      <td>Photo by 𝓢𝓪𝓲𝓯𝓲𝓮𝓿𝓪 𝓖𝓾𝔃𝓮𝓵 on May 09, 2020. Image...</td>\n",
       "      <td>#безмертныйполк</td>\n",
       "      <td>[безмертныйполк, 75летпобеде]</td>\n",
       "    </tr>\n",
       "  </tbody>\n",
       "</table>\n",
       "</div>"
      ],
      "text/plain": [
       "                         owner_id    shortcode  \\\n",
       "id                                               \n",
       "2303616061775464820  5.478032e+09  B_4FpplAsl0   \n",
       "2305119399719574714  2.226882e+09  B_9beGJJZy6   \n",
       "2302983163475195567  2.235020e+09  B_11vxGpPav   \n",
       "2304720892040880707  4.127157e+08  B_8A3C8hKJD   \n",
       "2305072350833648291  2.078362e+09  B_9QxcdA6Kj   \n",
       "2305096769962342925  3.252921e+10  B_9WUyigXoN   \n",
       "2305107864828112422  2.706808e+09  B_9Y2PcCe4m   \n",
       "2305320253696999679  1.374929e+10  B_-JI5_H4D_   \n",
       "2305574160250299056  2.702907e+10  B__C3u5CeKw   \n",
       "2305591590177517589  4.840803e+09  B__G1XxqLAV   \n",
       "\n",
       "                                                     post_url  \\\n",
       "id                                                              \n",
       "2303616061775464820  https://www.instagram.com/p/B_4FpplAsl0/   \n",
       "2305119399719574714  https://www.instagram.com/p/B_9beGJJZy6/   \n",
       "2302983163475195567  https://www.instagram.com/p/B_11vxGpPav/   \n",
       "2304720892040880707  https://www.instagram.com/p/B_8A3C8hKJD/   \n",
       "2305072350833648291  https://www.instagram.com/p/B_9QxcdA6Kj/   \n",
       "2305096769962342925  https://www.instagram.com/p/B_9WUyigXoN/   \n",
       "2305107864828112422  https://www.instagram.com/p/B_9Y2PcCe4m/   \n",
       "2305320253696999679  https://www.instagram.com/p/B_-JI5_H4D_/   \n",
       "2305574160250299056  https://www.instagram.com/p/B__C3u5CeKw/   \n",
       "2305591590177517589  https://www.instagram.com/p/B__G1XxqLAV/   \n",
       "\n",
       "                                                           display_url  \\\n",
       "id                                                                       \n",
       "2303616061775464820  https://instagram.fhel5-1.fna.fbcdn.net/v/t51....   \n",
       "2305119399719574714  https://instagram.fhel5-1.fna.fbcdn.net/v/t51....   \n",
       "2302983163475195567  https://instagram.fhel5-1.fna.fbcdn.net/v/t51....   \n",
       "2304720892040880707  https://instagram.fhel5-1.fna.fbcdn.net/v/t51....   \n",
       "2305072350833648291  https://instagram.fhel5-1.fna.fbcdn.net/v/t51....   \n",
       "2305096769962342925  https://instagram.fhel5-1.fna.fbcdn.net/v/t51....   \n",
       "2305107864828112422  https://instagram.fhel5-1.fna.fbcdn.net/v/t51....   \n",
       "2305320253696999679  https://instagram.fhel5-1.fna.fbcdn.net/v/t51....   \n",
       "2305574160250299056  https://instagram.fhel5-1.fna.fbcdn.net/v/t51....   \n",
       "2305591590177517589  https://instagram.fhel5-1.fna.fbcdn.net/v/t51....   \n",
       "\n",
       "                                  published  \\\n",
       "id                                            \n",
       "2303616061775464820  2020-05-07 06:20:55+00   \n",
       "2305119399719574714  2020-05-09 08:07:47+00   \n",
       "2302983163475195567  2020-05-06 09:23:28+00   \n",
       "2304720892040880707  2020-05-08 18:56:01+00   \n",
       "2305072350833648291  2020-05-09 06:34:19+00   \n",
       "2305096769962342925  2020-05-09 07:22:50+00   \n",
       "2305107864828112422  2020-05-09 07:44:52+00   \n",
       "2305320253696999679  2020-05-09 14:46:51+00   \n",
       "2305574160250299056  2020-05-09 23:11:19+00   \n",
       "2305591590177517589  2020-05-09 23:45:57+00   \n",
       "\n",
       "                                                               caption  \\\n",
       "id                                                                       \n",
       "2303616061775464820  Блохин Василий Васильевич 1911г рождения. Проб...   \n",
       "2305119399719574714  Зайцев Борис Иванович, мой пра-дедушка, участн...   \n",
       "2302983163475195567  Мой дед Вавилин Егор Ильич 02.11.1920 года ро...   \n",
       "2304720892040880707  На этом фото два моих прадеда, благодаря котор...   \n",
       "2305072350833648291  Спасибо прадедам и моему дедушке за Победу) за...   \n",
       "2305096769962342925  Я всем всем Человекам этого прекрасного Мира ж...   \n",
       "2305107864828112422  Наш ежегодный колаж #сднемпобеды  #9мая  #безм...   \n",
       "2305320253696999679                    #безмертныйполк#9мая#деньпобеды   \n",
       "2305574160250299056                                    #безмертныйполк   \n",
       "2305591590177517589  Спасибо деду за победу ❤️❤️❤️ #безмертныйполк ...   \n",
       "\n",
       "                    likes_count comments_count is_video video_view_count  \\\n",
       "id                                                                         \n",
       "2303616061775464820          54              0    false              NaN   \n",
       "2305119399719574714          55              3    false              NaN   \n",
       "2302983163475195567          43              1    false              NaN   \n",
       "2304720892040880707          47              0    false              NaN   \n",
       "2305072350833648291          84              0    false              NaN   \n",
       "2305096769962342925          30              2    false              NaN   \n",
       "2305107864828112422          39              4    false              NaN   \n",
       "2305320253696999679          21              0    false              NaN   \n",
       "2305574160250299056          12              1    false              NaN   \n",
       "2305591590177517589         101              0    false              NaN   \n",
       "\n",
       "                                                          inst_caption  \\\n",
       "id                                                                       \n",
       "2303616061775464820  Photo by Маргаритка on May 06, 2020. Image may...   \n",
       "2305119399719574714  Photo by @zayceva_kristysha on May 09, 2020. I...   \n",
       "2302983163475195567  Photo by Наталья on May 06, 2020. Image may co...   \n",
       "2304720892040880707  Photo by Marina on May 08, 2020. Image may con...   \n",
       "2305072350833648291  Photo by Natalli on May 08, 2020. Image may co...   \n",
       "2305096769962342925                Photo by Эльвира in Москва Вешняки.   \n",
       "2305107864828112422  Photo by Марина Попеску on May 09, 2020. Image...   \n",
       "2305320253696999679  Photo by ... on May 09, 2020. Image may contai...   \n",
       "2305574160250299056                 Photo by 💔ᑭIᑭᑌKᗩ💔 on May 09, 2020.   \n",
       "2305591590177517589  Photo by 𝓢𝓪𝓲𝓯𝓲𝓮𝓿𝓪 𝓖𝓾𝔃𝓮𝓵 on May 09, 2020. Image...   \n",
       "\n",
       "                                    query  \\\n",
       "id                                          \n",
       "2303616061775464820      #бесмертныйполк🙏   \n",
       "2305119399719574714      #бесмертныйполк🙏   \n",
       "2302983163475195567  #бесмертныйполкпермь   \n",
       "2304720892040880707       #безмертныйполк   \n",
       "2305072350833648291       #безмертныйполк   \n",
       "2305096769962342925       #безмертныйполк   \n",
       "2305107864828112422       #безмертныйполк   \n",
       "2305320253696999679       #безмертныйполк   \n",
       "2305574160250299056       #безмертныйполк   \n",
       "2305591590177517589       #безмертныйполк   \n",
       "\n",
       "                                                                  tags  \n",
       "id                                                                      \n",
       "2303616061775464820                                   [бесмертныйполк]  \n",
       "2305119399719574714                                   [бесмертныйполк]  \n",
       "2302983163475195567          [бесмертныйполк2020, бесмертныйполкпермь]  \n",
       "2304720892040880707          [победа2020, 75летпобеды, безмертныйполк]  \n",
       "2305072350833648291  [знатьчтобыпомнили, знатьчтобыжить, безмертный...  \n",
       "2305096769962342925  [безмертныйполк, безслез, безвойны, безотравым...  \n",
       "2305107864828112422                [сднемпобеды, 9мая, безмертныйполк]  \n",
       "2305320253696999679                 [безмертныйполк, 9мая, деньпобеды]  \n",
       "2305574160250299056                                   [безмертныйполк]  \n",
       "2305591590177517589                      [безмертныйполк, 75летпобеде]  "
      ]
     },
     "execution_count": 83,
     "metadata": {},
     "output_type": "execute_result"
    }
   ],
   "source": [
    "df.head(10)"
   ]
  },
  {
   "cell_type": "code",
   "execution_count": 84,
   "metadata": {},
   "outputs": [
    {
     "data": {
      "text/plain": [
       "Index(['owner_id', 'shortcode', 'post_url', 'display_url', 'published',\n",
       "       'caption', 'likes_count', 'comments_count', 'comments', 'location',\n",
       "       'is_video', 'video_view_count', 'inst_caption', 'query', 'note',\n",
       "       'created_at', 'status', 'tags'],\n",
       "      dtype='object')"
      ]
     },
     "execution_count": 84,
     "metadata": {},
     "output_type": "execute_result"
    }
   ],
   "source": [
    "df_.columns"
   ]
  },
  {
   "cell_type": "code",
   "execution_count": 85,
   "metadata": {},
   "outputs": [],
   "source": [
    "df = df_[['owner_id', 'shortcode', 'post_url', 'display_url', 'published',\n",
    "          'caption', 'likes_count', 'comments_count', 'is_video', \n",
    "          'video_view_count', 'inst_caption', 'query', 'tags']]"
   ]
  },
  {
   "cell_type": "code",
   "execution_count": 86,
   "metadata": {},
   "outputs": [],
   "source": [
    "df.drop(df[df.tags.apply(lambda x: True if isinstance(x, list) and len(x) == 1 and 'гордостьроссии' in x else False)].index,\n",
    "        inplace=True)"
   ]
  },
  {
   "cell_type": "code",
   "execution_count": 87,
   "metadata": {},
   "outputs": [
    {
     "data": {
      "text/plain": [
       "(1052113, 13)"
      ]
     },
     "execution_count": 87,
     "metadata": {},
     "output_type": "execute_result"
    }
   ],
   "source": [
    "df.shape"
   ]
  },
  {
   "cell_type": "code",
   "execution_count": 88,
   "metadata": {},
   "outputs": [],
   "source": [
    "df.drop(df[df['query'] == '#polk'].index,  \n",
    "       inplace=True)"
   ]
  },
  {
   "cell_type": "code",
   "execution_count": 89,
   "metadata": {},
   "outputs": [
    {
     "data": {
      "text/plain": [
       "(1019221, 13)"
      ]
     },
     "execution_count": 89,
     "metadata": {},
     "output_type": "execute_result"
    }
   ],
   "source": [
    "df.shape"
   ]
  },
  {
   "cell_type": "code",
   "execution_count": 92,
   "metadata": {},
   "outputs": [
    {
     "name": "stderr",
     "output_type": "stream",
     "text": [
      "/Users/romanmalyushkin/anaconda3/envs/p-37/lib/python3.7/site-packages/ipykernel_launcher.py:2: SettingWithCopyWarning: \n",
      "A value is trying to be set on a copy of a slice from a DataFrame\n",
      "\n",
      "See the caveats in the documentation: http://pandas.pydata.org/pandas-docs/stable/indexing.html#indexing-view-versus-copy\n",
      "  \n"
     ]
    }
   ],
   "source": [
    "df.dropna(subset=['owner_id', 'published', 'shortcode', 'post_url'], \n",
    "          inplace=True)"
   ]
  },
  {
   "cell_type": "code",
   "execution_count": 93,
   "metadata": {},
   "outputs": [
    {
     "data": {
      "text/plain": [
       "(1019052, 13)"
      ]
     },
     "execution_count": 93,
     "metadata": {},
     "output_type": "execute_result"
    }
   ],
   "source": [
    "df.shape"
   ]
  },
  {
   "cell_type": "code",
   "execution_count": 94,
   "metadata": {},
   "outputs": [],
   "source": [
    "df.to_csv(f\"../../data/{filename}__upd.csv\")"
   ]
  },
  {
   "cell_type": "code",
   "execution_count": null,
   "metadata": {},
   "outputs": [],
   "source": []
  },
  {
   "cell_type": "code",
   "execution_count": null,
   "metadata": {},
   "outputs": [],
   "source": []
  },
  {
   "cell_type": "code",
   "execution_count": null,
   "metadata": {},
   "outputs": [],
   "source": []
  },
  {
   "cell_type": "code",
   "execution_count": null,
   "metadata": {},
   "outputs": [],
   "source": []
  }
 ],
 "metadata": {
  "kernelspec": {
   "display_name": "Python 3",
   "language": "python",
   "name": "python3"
  },
  "language_info": {
   "codemirror_mode": {
    "name": "ipython",
    "version": 3
   },
   "file_extension": ".py",
   "mimetype": "text/x-python",
   "name": "python",
   "nbconvert_exporter": "python",
   "pygments_lexer": "ipython3",
   "version": "3.7.2"
  }
 },
 "nbformat": 4,
 "nbformat_minor": 1
}
