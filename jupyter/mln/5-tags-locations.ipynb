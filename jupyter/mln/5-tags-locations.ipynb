{
 "cells": [
  {
   "cell_type": "code",
   "execution_count": 1,
   "metadata": {},
   "outputs": [],
   "source": [
    "import numpy as np\n",
    "import pandas as pd\n",
    "import random\n",
    "import re \n",
    "import time \n",
    "\n",
    "# DB\n",
    "import psycopg2\n",
    "\n",
    "# SSH\n",
    "from sshtunnel import SSHTunnelForwarder\n",
    "\n",
    "# NER\n",
    "from natasha import (Doc, MorphVocab, NewsEmbedding, NewsNERTagger, Segmenter)"
   ]
  },
  {
   "cell_type": "code",
   "execution_count": 2,
   "metadata": {},
   "outputs": [],
   "source": [
    "# config data\n",
    "SSH_IP = '89.223.99.189'\n",
    "SSH_PORT = 22\n",
    "SSH_USERNAME = 'uno'\n",
    "SSH_PASSWORD = 'FD8i3cMp'\n",
    "\n",
    "DB_NAME = 'my_polk'\n",
    "DB_USER = 'server'\n",
    "DB_PASSWORD = 'server'"
   ]
  },
  {
   "cell_type": "code",
   "execution_count": 3,
   "metadata": {},
   "outputs": [],
   "source": [
    "tunnel = SSHTunnelForwarder(\n",
    "    (SSH_IP, SSH_PORT),\n",
    "    ssh_username=SSH_USERNAME,\n",
    "    ssh_password=SSH_PASSWORD,\n",
    "    remote_bind_address=('127.0.0.1', 5432))\n",
    "\n",
    "tunnel.start()\n",
    "\n",
    "conn = psycopg2.connect(\n",
    "    database=DB_NAME,\n",
    "    user=DB_USER,\n",
    "    password=DB_PASSWORD,\n",
    "    host=tunnel.local_bind_host,\n",
    "    port=tunnel.local_bind_port)"
   ]
  },
  {
   "cell_type": "code",
   "execution_count": 4,
   "metadata": {},
   "outputs": [],
   "source": [
    "n = 20000\n",
    "n_sql = f\"SELECT * FROM instagram_post WHERE note is NULL LIMIT {n};\"\n",
    "df = pd.io.sql.read_sql_query(n_sql, conn)"
   ]
  },
  {
   "cell_type": "code",
   "execution_count": 5,
   "metadata": {
    "scrolled": false
   },
   "outputs": [
    {
     "data": {
      "text/plain": [
       "(20000, 20)"
      ]
     },
     "execution_count": 5,
     "metadata": {},
     "output_type": "execute_result"
    }
   ],
   "source": [
    "df.shape"
   ]
  },
  {
   "cell_type": "markdown",
   "metadata": {},
   "source": [
    "# Выделение NER"
   ]
  },
  {
   "cell_type": "code",
   "execution_count": 6,
   "metadata": {},
   "outputs": [],
   "source": [
    "segmenter = Segmenter()\n",
    "morph_vocab = MorphVocab()\n",
    "emb = NewsEmbedding()\n",
    "ner_tagger = NewsNERTagger(emb)"
   ]
  },
  {
   "cell_type": "code",
   "execution_count": 7,
   "metadata": {},
   "outputs": [],
   "source": [
    "insert_nameentity_sql = '''INSERT INTO instagram_nameentity (name, type) VALUES (%s, %s) ON CONFLICT DO NOTHING;'''\n",
    "insert_nameentity_post_sql = '''INSERT INTO instagram_postnameentity (name_entity_id, post_id) VALUES (%s, %s) ON CONFLICT DO NOTHING;'''"
   ]
  },
  {
   "cell_type": "code",
   "execution_count": 8,
   "metadata": {},
   "outputs": [],
   "source": [
    "db = conn.cursor()"
   ]
  },
  {
   "cell_type": "code",
   "execution_count": 9,
   "metadata": {},
   "outputs": [],
   "source": [
    "df.loc[:, 'caption_ner_locs'] = None\n",
    "df.loc[:, 'caption_ner_pers'] = None\n",
    "df.loc[:, 'caption_ner_locs_lemma'] = None\n",
    "df.loc[:, 'caption_ner_pers_lemma'] = None"
   ]
  },
  {
   "cell_type": "code",
   "execution_count": null,
   "metadata": {},
   "outputs": [],
   "source": [
    "for idx, row in df.iterrows():\n",
    "    entities = []\n",
    "    \n",
    "    if row['caption']:\n",
    "        caption = re.sub(' +', ' ', row['caption'].replace('\\n', ' ').replace('\\r', ' '))\n",
    "        caption_markup = ner_tagger(caption)\n",
    "\n",
    "        caption_locs = [caption[span.start:span.stop] for span in caption_markup.spans if span.type == 'LOC']\n",
    "        if caption_locs:\n",
    "            df.at[idx, 'caption_ner_locs'] = caption_locs\n",
    "            df.at[idx, 'caption_ner_locs_lemma'] = [morph_vocab.lemmatize(loc, 'NOUN', {}).title() for loc in caption_locs]\n",
    "            entities, entity_type = df.at[idx, 'caption_ner_locs_lemma'], 'LOC'\n",
    "\n",
    "        caption_pers = [caption[span.start:span.stop] for span in caption_markup.spans if span.type == 'PER']\n",
    "        if caption_pers:\n",
    "            df.at[idx, 'caption_ner_pers'] = caption_pers\n",
    "            df.at[idx, 'caption_ner_pers_lemma'] = [morph_vocab.lemmatize(loc, 'NOUN', {}).title() for loc in caption_pers]\n",
    "            entities, entity_type = df.at[idx, 'caption_ner_pers_lemma'], 'PER'\n",
    "    \n",
    "    for entity in entities:\n",
    "        entity = entity.replace('\\'', ' ') \n",
    "        select_nameentity_sql = f\"SELECT id, name FROM instagram_nameentity WHERE name = '{entity}' AND type = '{entity_type}'\"\n",
    "        entity_df = pd.io.sql.read_sql_query(select_nameentity_sql, conn)\n",
    "        if not entity_df.size:\n",
    "            db.execute(insert_nameentity_sql, (entity, entity_type))\n",
    "            db.execute('''SELECT id FROM instagram_nameentity ORDER BY id DESC LIMIT 1;''')\n",
    "            entity_id = db.fetchone()[0]\n",
    "        else:\n",
    "            entity_id = entity_df.id[0]\n",
    "        db.execute(insert_nameentity_post_sql, (int(entity_id), int(row['id'])))\n",
    "    \n",
    "    db.execute(f\"UPDATE instagram_post SET note = 'updated' WHERE id = '{row['id']}';\")\n",
    "    conn.commit()"
   ]
  },
  {
   "cell_type": "code",
   "execution_count": null,
   "metadata": {},
   "outputs": [],
   "source": [
    "conn.commit()"
   ]
  },
  {
   "cell_type": "code",
   "execution_count": null,
   "metadata": {},
   "outputs": [],
   "source": [
    "# db.execute(\"ROLLBACK\")"
   ]
  },
  {
   "cell_type": "code",
   "execution_count": null,
   "metadata": {},
   "outputs": [],
   "source": [
    "conn.close()"
   ]
  },
  {
   "cell_type": "code",
   "execution_count": null,
   "metadata": {},
   "outputs": [],
   "source": [
    "entity.replace('\\'', ' ')"
   ]
  },
  {
   "cell_type": "code",
   "execution_count": null,
   "metadata": {},
   "outputs": [],
   "source": []
  }
 ],
 "metadata": {
  "kernelspec": {
   "display_name": "Python 3",
   "language": "python",
   "name": "python3"
  },
  "language_info": {
   "codemirror_mode": {
    "name": "ipython",
    "version": 3
   },
   "file_extension": ".py",
   "mimetype": "text/x-python",
   "name": "python",
   "nbconvert_exporter": "python",
   "pygments_lexer": "ipython3",
   "version": "3.7.2"
  }
 },
 "nbformat": 4,
 "nbformat_minor": 4
}
