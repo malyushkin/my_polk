{
 "cells": [
  {
   "cell_type": "markdown",
   "metadata": {
    "collapsed": true
   },
   "source": [
    "# Анализ постов Instagram. Часть 3 – Анализ пересечения хештегов\n",
    "\n",
    "В качестве набора данных используется датасет, выгруженный в период с апреля по май 2020, по выявленному набору хештегов на тему акции «Бессметрный полк».    "
   ]
  },
  {
   "cell_type": "markdown",
   "metadata": {},
   "source": [
    "## Анализ пересечения хештегов\n",
    "\n",
    "На предыдущем шаге мы выделили теги в отдельную колонку `tags`. Далее, сделаем обработку полученного массива и поймем, как выделенные теги пересекаются друг с другом: проведем анализ частотности наличия пары тегов в одном посте.  "
   ]
  },
  {
   "cell_type": "code",
   "execution_count": 5,
   "metadata": {
    "pycharm": {
     "is_executing": true
    }
   },
   "outputs": [],
   "source": [
    "import numpy as np\n",
    "import pandas as pd"
   ]
  },
  {
   "cell_type": "code",
   "execution_count": 6,
   "metadata": {
    "pycharm": {
     "is_executing": true
    }
   },
   "outputs": [],
   "source": [
    "filename = 'my_polk_mln'"
   ]
  },
  {
   "cell_type": "markdown",
   "metadata": {},
   "source": [
    "Для считывания данных создадим вспомогательный атрибут `tag_convertor`, указывающий на способ обработки входящей колонки `tags`."
   ]
  },
  {
   "cell_type": "code",
   "execution_count": 12,
   "metadata": {
    "pycharm": {
     "is_executing": true
    }
   },
   "outputs": [],
   "source": [
    "tag_convertor = {'tags': lambda x: x.strip('[]').replace('\\'', '').split(', ') if x and len(x) > 0 else np.nan}"
   ]
  },
  {
   "cell_type": "code",
   "execution_count": 14,
   "metadata": {
    "pycharm": {
     "is_executing": true
    }
   },
   "outputs": [],
   "source": [
    "df_ = pd.read_csv(f\"../../data/{filename}.csv\", engine='python', index_col=0)\n",
    "# df_ = pd.read_csv(f\"../../data/{filename}.csv\", engine='python', index_col=0, converters=tag_convertor)"
   ]
  },
  {
   "cell_type": "code",
   "execution_count": 16,
   "metadata": {
    "pycharm": {
     "is_executing": true
    }
   },
   "outputs": [],
   "source": [
    "df__ = df_[['owner_id', 'display_url', 'published', 'caption', 'likes_count', 'comments_count', 'is_video', 'tags']]"
   ]
  },
  {
   "cell_type": "markdown",
   "metadata": {},
   "source": [
    "### Предобработка \n",
    "Выделим только те данные, с которыми будем работать, а именно `id`, `tags`. Удалим пустые строки `caption` и `tags`."
   ]
  },
  {
   "cell_type": "code",
   "execution_count": 18,
   "metadata": {
    "pycharm": {
     "is_executing": true
    }
   },
   "outputs": [
    {
     "data": {
      "text/html": [
       "<div>\n",
       "<style scoped>\n",
       "    .dataframe tbody tr th:only-of-type {\n",
       "        vertical-align: middle;\n",
       "    }\n",
       "\n",
       "    .dataframe tbody tr th {\n",
       "        vertical-align: top;\n",
       "    }\n",
       "\n",
       "    .dataframe thead th {\n",
       "        text-align: right;\n",
       "    }\n",
       "</style>\n",
       "<table border=\"1\" class=\"dataframe\">\n",
       "  <thead>\n",
       "    <tr style=\"text-align: right;\">\n",
       "      <th></th>\n",
       "      <th>display_url</th>\n",
       "      <th>published</th>\n",
       "      <th>likes_count</th>\n",
       "      <th>comments_count</th>\n",
       "      <th>caption</th>\n",
       "      <th>tags</th>\n",
       "    </tr>\n",
       "    <tr>\n",
       "      <th>id</th>\n",
       "      <th></th>\n",
       "      <th></th>\n",
       "      <th></th>\n",
       "      <th></th>\n",
       "      <th></th>\n",
       "      <th></th>\n",
       "    </tr>\n",
       "  </thead>\n",
       "  <tbody>\n",
       "    <tr>\n",
       "      <th>2303616061775464820</th>\n",
       "      <td>https://instagram.fhel5-1.fna.fbcdn.net/v/t51....</td>\n",
       "      <td>2020-05-07 06:20:55+00</td>\n",
       "      <td>54</td>\n",
       "      <td>0</td>\n",
       "      <td>Блохин Василий Васильевич 1911г рождения. Проб...</td>\n",
       "      <td>{бесмертныйполк}</td>\n",
       "    </tr>\n",
       "    <tr>\n",
       "      <th>2305119399719574714</th>\n",
       "      <td>https://instagram.fhel5-1.fna.fbcdn.net/v/t51....</td>\n",
       "      <td>2020-05-09 08:07:47+00</td>\n",
       "      <td>55</td>\n",
       "      <td>3</td>\n",
       "      <td>Зайцев Борис Иванович, мой пра-дедушка, участн...</td>\n",
       "      <td>{бесмертныйполк}</td>\n",
       "    </tr>\n",
       "    <tr>\n",
       "      <th>2302983163475195567</th>\n",
       "      <td>https://instagram.fhel5-1.fna.fbcdn.net/v/t51....</td>\n",
       "      <td>2020-05-06 09:23:28+00</td>\n",
       "      <td>43</td>\n",
       "      <td>1</td>\n",
       "      <td>Мой дед Вавилин Егор Ильич 02.11.1920 года ро...</td>\n",
       "      <td>{бесмертныйполк2020,бесмертныйполкпермь}</td>\n",
       "    </tr>\n",
       "    <tr>\n",
       "      <th>2304720892040880707</th>\n",
       "      <td>https://instagram.fhel5-1.fna.fbcdn.net/v/t51....</td>\n",
       "      <td>2020-05-08 18:56:01+00</td>\n",
       "      <td>47</td>\n",
       "      <td>0</td>\n",
       "      <td>На этом фото два моих прадеда, благодаря котор...</td>\n",
       "      <td>{победа2020,75летпобеды,безмертныйполк}</td>\n",
       "    </tr>\n",
       "    <tr>\n",
       "      <th>2305072350833648291</th>\n",
       "      <td>https://instagram.fhel5-1.fna.fbcdn.net/v/t51....</td>\n",
       "      <td>2020-05-09 06:34:19+00</td>\n",
       "      <td>84</td>\n",
       "      <td>0</td>\n",
       "      <td>Спасибо прадедам и моему дедушке за Победу) за...</td>\n",
       "      <td>{знатьчтобыпомнили,знатьчтобыжить,безмертныйпо...</td>\n",
       "    </tr>\n",
       "  </tbody>\n",
       "</table>\n",
       "</div>"
      ],
      "text/plain": [
       "                                                           display_url  \\\n",
       "id                                                                       \n",
       "2303616061775464820  https://instagram.fhel5-1.fna.fbcdn.net/v/t51....   \n",
       "2305119399719574714  https://instagram.fhel5-1.fna.fbcdn.net/v/t51....   \n",
       "2302983163475195567  https://instagram.fhel5-1.fna.fbcdn.net/v/t51....   \n",
       "2304720892040880707  https://instagram.fhel5-1.fna.fbcdn.net/v/t51....   \n",
       "2305072350833648291  https://instagram.fhel5-1.fna.fbcdn.net/v/t51....   \n",
       "\n",
       "                                  published likes_count comments_count  \\\n",
       "id                                                                       \n",
       "2303616061775464820  2020-05-07 06:20:55+00          54              0   \n",
       "2305119399719574714  2020-05-09 08:07:47+00          55              3   \n",
       "2302983163475195567  2020-05-06 09:23:28+00          43              1   \n",
       "2304720892040880707  2020-05-08 18:56:01+00          47              0   \n",
       "2305072350833648291  2020-05-09 06:34:19+00          84              0   \n",
       "\n",
       "                                                               caption  \\\n",
       "id                                                                       \n",
       "2303616061775464820  Блохин Василий Васильевич 1911г рождения. Проб...   \n",
       "2305119399719574714  Зайцев Борис Иванович, мой пра-дедушка, участн...   \n",
       "2302983163475195567  Мой дед Вавилин Егор Ильич 02.11.1920 года ро...   \n",
       "2304720892040880707  На этом фото два моих прадеда, благодаря котор...   \n",
       "2305072350833648291  Спасибо прадедам и моему дедушке за Победу) за...   \n",
       "\n",
       "                                                                  tags  \n",
       "id                                                                      \n",
       "2303616061775464820                                   {бесмертныйполк}  \n",
       "2305119399719574714                                   {бесмертныйполк}  \n",
       "2302983163475195567           {бесмертныйполк2020,бесмертныйполкпермь}  \n",
       "2304720892040880707            {победа2020,75летпобеды,безмертныйполк}  \n",
       "2305072350833648291  {знатьчтобыпомнили,знатьчтобыжить,безмертныйпо...  "
      ]
     },
     "execution_count": 18,
     "metadata": {},
     "output_type": "execute_result"
    }
   ],
   "source": [
    "df = df__.dropna(subset=['caption', 'tags'])\n",
    "df = df[['display_url', 'published', 'likes_count', 'comments_count', 'caption', 'tags']]\n",
    "df.head()"
   ]
  },
  {
   "cell_type": "code",
   "execution_count": 39,
   "metadata": {},
   "outputs": [],
   "source": [
    "df.tags = df.tags.apply(lambda x: x.strip('{}').replace('\\'', '').split(',') if len(x) > 0 else np.nan)"
   ]
  },
  {
   "cell_type": "code",
   "execution_count": 40,
   "metadata": {},
   "outputs": [
    {
     "data": {
      "text/html": [
       "<div>\n",
       "<style scoped>\n",
       "    .dataframe tbody tr th:only-of-type {\n",
       "        vertical-align: middle;\n",
       "    }\n",
       "\n",
       "    .dataframe tbody tr th {\n",
       "        vertical-align: top;\n",
       "    }\n",
       "\n",
       "    .dataframe thead th {\n",
       "        text-align: right;\n",
       "    }\n",
       "</style>\n",
       "<table border=\"1\" class=\"dataframe\">\n",
       "  <thead>\n",
       "    <tr style=\"text-align: right;\">\n",
       "      <th></th>\n",
       "      <th>display_url</th>\n",
       "      <th>published</th>\n",
       "      <th>likes_count</th>\n",
       "      <th>comments_count</th>\n",
       "      <th>caption</th>\n",
       "      <th>tags</th>\n",
       "    </tr>\n",
       "    <tr>\n",
       "      <th>id</th>\n",
       "      <th></th>\n",
       "      <th></th>\n",
       "      <th></th>\n",
       "      <th></th>\n",
       "      <th></th>\n",
       "      <th></th>\n",
       "    </tr>\n",
       "  </thead>\n",
       "  <tbody>\n",
       "    <tr>\n",
       "      <th>2303616061775464820</th>\n",
       "      <td>https://instagram.fhel5-1.fna.fbcdn.net/v/t51....</td>\n",
       "      <td>2020-05-07 06:20:55+00</td>\n",
       "      <td>54</td>\n",
       "      <td>0</td>\n",
       "      <td>Блохин Василий Васильевич 1911г рождения. Проб...</td>\n",
       "      <td>[бесмертныйполк]</td>\n",
       "    </tr>\n",
       "    <tr>\n",
       "      <th>2305119399719574714</th>\n",
       "      <td>https://instagram.fhel5-1.fna.fbcdn.net/v/t51....</td>\n",
       "      <td>2020-05-09 08:07:47+00</td>\n",
       "      <td>55</td>\n",
       "      <td>3</td>\n",
       "      <td>Зайцев Борис Иванович, мой пра-дедушка, участн...</td>\n",
       "      <td>[бесмертныйполк]</td>\n",
       "    </tr>\n",
       "    <tr>\n",
       "      <th>2302983163475195567</th>\n",
       "      <td>https://instagram.fhel5-1.fna.fbcdn.net/v/t51....</td>\n",
       "      <td>2020-05-06 09:23:28+00</td>\n",
       "      <td>43</td>\n",
       "      <td>1</td>\n",
       "      <td>Мой дед Вавилин Егор Ильич 02.11.1920 года ро...</td>\n",
       "      <td>[бесмертныйполк2020, бесмертныйполкпермь]</td>\n",
       "    </tr>\n",
       "    <tr>\n",
       "      <th>2304720892040880707</th>\n",
       "      <td>https://instagram.fhel5-1.fna.fbcdn.net/v/t51....</td>\n",
       "      <td>2020-05-08 18:56:01+00</td>\n",
       "      <td>47</td>\n",
       "      <td>0</td>\n",
       "      <td>На этом фото два моих прадеда, благодаря котор...</td>\n",
       "      <td>[победа2020, 75летпобеды, безмертныйполк]</td>\n",
       "    </tr>\n",
       "    <tr>\n",
       "      <th>2305072350833648291</th>\n",
       "      <td>https://instagram.fhel5-1.fna.fbcdn.net/v/t51....</td>\n",
       "      <td>2020-05-09 06:34:19+00</td>\n",
       "      <td>84</td>\n",
       "      <td>0</td>\n",
       "      <td>Спасибо прадедам и моему дедушке за Победу) за...</td>\n",
       "      <td>[знатьчтобыпомнили, знатьчтобыжить, безмертный...</td>\n",
       "    </tr>\n",
       "  </tbody>\n",
       "</table>\n",
       "</div>"
      ],
      "text/plain": [
       "                                                           display_url  \\\n",
       "id                                                                       \n",
       "2303616061775464820  https://instagram.fhel5-1.fna.fbcdn.net/v/t51....   \n",
       "2305119399719574714  https://instagram.fhel5-1.fna.fbcdn.net/v/t51....   \n",
       "2302983163475195567  https://instagram.fhel5-1.fna.fbcdn.net/v/t51....   \n",
       "2304720892040880707  https://instagram.fhel5-1.fna.fbcdn.net/v/t51....   \n",
       "2305072350833648291  https://instagram.fhel5-1.fna.fbcdn.net/v/t51....   \n",
       "\n",
       "                                  published likes_count comments_count  \\\n",
       "id                                                                       \n",
       "2303616061775464820  2020-05-07 06:20:55+00          54              0   \n",
       "2305119399719574714  2020-05-09 08:07:47+00          55              3   \n",
       "2302983163475195567  2020-05-06 09:23:28+00          43              1   \n",
       "2304720892040880707  2020-05-08 18:56:01+00          47              0   \n",
       "2305072350833648291  2020-05-09 06:34:19+00          84              0   \n",
       "\n",
       "                                                               caption  \\\n",
       "id                                                                       \n",
       "2303616061775464820  Блохин Василий Васильевич 1911г рождения. Проб...   \n",
       "2305119399719574714  Зайцев Борис Иванович, мой пра-дедушка, участн...   \n",
       "2302983163475195567  Мой дед Вавилин Егор Ильич 02.11.1920 года ро...   \n",
       "2304720892040880707  На этом фото два моих прадеда, благодаря котор...   \n",
       "2305072350833648291  Спасибо прадедам и моему дедушке за Победу) за...   \n",
       "\n",
       "                                                                  tags  \n",
       "id                                                                      \n",
       "2303616061775464820                                   [бесмертныйполк]  \n",
       "2305119399719574714                                   [бесмертныйполк]  \n",
       "2302983163475195567          [бесмертныйполк2020, бесмертныйполкпермь]  \n",
       "2304720892040880707          [победа2020, 75летпобеды, безмертныйполк]  \n",
       "2305072350833648291  [знатьчтобыпомнили, знатьчтобыжить, безмертный...  "
      ]
     },
     "execution_count": 40,
     "metadata": {},
     "output_type": "execute_result"
    }
   ],
   "source": [
    "df.head()"
   ]
  },
  {
   "cell_type": "markdown",
   "metadata": {},
   "source": [
    "Соберем все теги в один список `flattened_tags_df` и эмпирически подберем минимальное число упоминаний тегов, тем самым выберем самые популярные среди них."
   ]
  },
  {
   "cell_type": "code",
   "execution_count": 41,
   "metadata": {
    "pycharm": {
     "is_executing": true
    }
   },
   "outputs": [],
   "source": [
    "flattened_tags = pd.Series([tag for tag_list in df.tags for tag in tag_list])"
   ]
  },
  {
   "cell_type": "code",
   "execution_count": 42,
   "metadata": {
    "pycharm": {
     "is_executing": true
    }
   },
   "outputs": [],
   "source": [
    "flattened_tags_counts = flattened_tags.value_counts()"
   ]
  },
  {
   "cell_type": "code",
   "execution_count": 43,
   "metadata": {
    "pycharm": {
     "is_executing": true
    }
   },
   "outputs": [
    {
     "data": {
      "text/plain": [
       "<matplotlib.axes._subplots.AxesSubplot at 0x1313c8fd0>"
      ]
     },
     "execution_count": 43,
     "metadata": {},
     "output_type": "execute_result"
    },
    {
     "data": {
      "image/png": "[encoded data removed]",
      "text/plain": [
       "<Figure size 432x288 with 1 Axes>"
      ]
     },
     "metadata": {
      "needs_background": "light"
     },
     "output_type": "display_data"
    }
   ],
   "source": [
    "flattened_tags_counts.loc[flattened_tags_counts > 1000].plot(kind='hist')"
   ]
  },
  {
   "cell_type": "markdown",
   "metadata": {},
   "source": [
    "Отсечение в > 1000 упоминаний не подходит, так как таких тегов много (больше 100). "
   ]
  },
  {
   "cell_type": "code",
   "execution_count": 46,
   "metadata": {
    "pycharm": {
     "is_executing": true
    }
   },
   "outputs": [
    {
     "data": {
      "text/plain": [
       "<matplotlib.axes._subplots.AxesSubplot at 0x13183c470>"
      ]
     },
     "execution_count": 46,
     "metadata": {},
     "output_type": "execute_result"
    },
    {
     "data": {
      "image/png": "[encoded data removed]",
      "text/plain": [
       "<Figure size 432x288 with 1 Axes>"
      ]
     },
     "metadata": {
      "needs_background": "light"
     },
     "output_type": "display_data"
    }
   ],
   "source": [
    "flattened_tags_counts.loc[flattened_tags_counts > 10000].plot(kind='hist')"
   ]
  },
  {
   "cell_type": "markdown",
   "metadata": {},
   "source": [
    "10000 – выглядит более оптимальным числом, так как дает на выходе около 50 тегов. Создадим переменную `min_count` со значением 10000."
   ]
  },
  {
   "cell_type": "code",
   "execution_count": 47,
   "metadata": {
    "pycharm": {
     "is_executing": true
    }
   },
   "outputs": [],
   "source": [
    "min_count = 10000"
   ]
  },
  {
   "cell_type": "code",
   "execution_count": 48,
   "metadata": {
    "pycharm": {
     "is_executing": true
    }
   },
   "outputs": [],
   "source": [
    "top_tags_set = set(flattened_tags_counts.loc[flattened_tags_counts > min_count].index)"
   ]
  },
  {
   "cell_type": "code",
   "execution_count": 49,
   "metadata": {
    "pycharm": {
     "is_executing": true
    }
   },
   "outputs": [
    {
     "data": {
      "text/plain": [
       "87"
      ]
     },
     "execution_count": 49,
     "metadata": {},
     "output_type": "execute_result"
    }
   ],
   "source": [
    "len(top_tags_set)"
   ]
  },
  {
   "cell_type": "markdown",
   "metadata": {},
   "source": [
    "87 – количество тегов, упоминаемых более 10000 раз."
   ]
  },
  {
   "cell_type": "code",
   "execution_count": 50,
   "metadata": {
    "pycharm": {
     "is_executing": true
    }
   },
   "outputs": [
    {
     "data": {
      "text/plain": [
       "{'1941',\n",
       " '1945',\n",
       " '75летвеликойпобеды',\n",
       " '75летиепобеды',\n",
       " '75летпобеды',\n",
       " '9',\n",
       " '9мая',\n",
       " '9мая1945',\n",
       " '9мая2019',\n",
       " '9мая2020',\n",
       " '9маяденьпобеды',\n",
       " 'polk',\n",
       " 'repost',\n",
       " 'russia',\n",
       " 'victoryday',\n",
       " 'армия',\n",
       " 'бесмертныйполк',\n",
       " 'бессмертныи',\n",
       " 'бессмертный',\n",
       " 'бессмертныйполк',\n",
       " 'бессмертныйполк2020',\n",
       " 'бессмертныйполкдома',\n",
       " 'бессмертныйполконлайн',\n",
       " 'бессмертныйполкроссии',\n",
       " 'бессмертныйполктатарстан',\n",
       " 'великаяотечественнаявойна',\n",
       " 'великаяпобеда',\n",
       " 'весна',\n",
       " 'ветераны',\n",
       " 'вечнаяпамять',\n",
       " 'вместегордимся',\n",
       " 'вов',\n",
       " 'военныепесни',\n",
       " 'война',\n",
       " 'волонтерыпобеды',\n",
       " 'георгиевскаялента',\n",
       " 'георгиевскаяленточка',\n",
       " 'годпамятииславы',\n",
       " 'гордимся',\n",
       " 'гордостьроссии',\n",
       " 'деньпобеды',\n",
       " 'деньпобеды2019',\n",
       " 'деньпобеды2020',\n",
       " 'знатьчтобыпомнить',\n",
       " 'май',\n",
       " 'мир',\n",
       " 'москва',\n",
       " 'мывместе',\n",
       " 'мывсеравноскажемспасибо',\n",
       " 'мыгордимся',\n",
       " 'мыпомним',\n",
       " 'мыпомниммыгордимся',\n",
       " 'наследникипобеды',\n",
       " 'нашапобеда',\n",
       " 'никогданезабуду',\n",
       " 'никтонезабыт',\n",
       " 'никтонезабытничтонезабыто',\n",
       " 'окна_победы',\n",
       " 'окнапобеды',\n",
       " 'память',\n",
       " 'памятьнарода',\n",
       " 'парад',\n",
       " 'парад9мая',\n",
       " 'парадпобеды',\n",
       " 'перлемухтанатпар',\n",
       " 'победа',\n",
       " 'победа75',\n",
       " 'помним',\n",
       " 'помнимгордимся',\n",
       " 'помнимлюбимскорбим',\n",
       " 'праздник',\n",
       " 'рдш',\n",
       " 'россия',\n",
       " 'салют',\n",
       " 'салютпобеды',\n",
       " 'сднемпобеды',\n",
       " 'сидимдома',\n",
       " 'спасибо',\n",
       " 'спасибовам',\n",
       " 'спасибодедузапобеду',\n",
       " 'спасибозапобеду',\n",
       " 'ссср',\n",
       " 'стихиовойне',\n",
       " 'шествие',\n",
       " 'ягоржусь',\n",
       " 'япомню',\n",
       " 'япомнюягоржусь'}"
      ]
     },
     "execution_count": 50,
     "metadata": {},
     "output_type": "execute_result"
    }
   ],
   "source": [
    "top_tags_set"
   ]
  },
  {
   "cell_type": "code",
   "execution_count": 51,
   "metadata": {},
   "outputs": [],
   "source": [
    "# В множество тегов попали такие слова, как: `#ауе`, `#ауежизньворам`, `#базарунет`, `#бандит` и другие «блатные» понятия. Пока что оставим их, посмотрим как они коррелируют с тематическими тегами. "
   ]
  },
  {
   "cell_type": "markdown",
   "metadata": {},
   "source": [
    "В рабочий датасет `df` добавим колонку `top_tags`, в которой укажем теги из множества `top_tags_set` для каждого поста."
   ]
  },
  {
   "cell_type": "code",
   "execution_count": 52,
   "metadata": {
    "pycharm": {
     "is_executing": true
    }
   },
   "outputs": [
    {
     "data": {
      "text/html": [
       "<div>\n",
       "<style scoped>\n",
       "    .dataframe tbody tr th:only-of-type {\n",
       "        vertical-align: middle;\n",
       "    }\n",
       "\n",
       "    .dataframe tbody tr th {\n",
       "        vertical-align: top;\n",
       "    }\n",
       "\n",
       "    .dataframe thead th {\n",
       "        text-align: right;\n",
       "    }\n",
       "</style>\n",
       "<table border=\"1\" class=\"dataframe\">\n",
       "  <thead>\n",
       "    <tr style=\"text-align: right;\">\n",
       "      <th></th>\n",
       "      <th>display_url</th>\n",
       "      <th>published</th>\n",
       "      <th>likes_count</th>\n",
       "      <th>comments_count</th>\n",
       "      <th>caption</th>\n",
       "      <th>tags</th>\n",
       "      <th>top_tags</th>\n",
       "    </tr>\n",
       "    <tr>\n",
       "      <th>id</th>\n",
       "      <th></th>\n",
       "      <th></th>\n",
       "      <th></th>\n",
       "      <th></th>\n",
       "      <th></th>\n",
       "      <th></th>\n",
       "      <th></th>\n",
       "    </tr>\n",
       "  </thead>\n",
       "  <tbody>\n",
       "    <tr>\n",
       "      <th>2303616061775464820</th>\n",
       "      <td>https://instagram.fhel5-1.fna.fbcdn.net/v/t51....</td>\n",
       "      <td>2020-05-07 06:20:55+00</td>\n",
       "      <td>54</td>\n",
       "      <td>0</td>\n",
       "      <td>Блохин Василий Васильевич 1911г рождения. Проб...</td>\n",
       "      <td>[бесмертныйполк]</td>\n",
       "      <td>[бесмертныйполк]</td>\n",
       "    </tr>\n",
       "    <tr>\n",
       "      <th>2305119399719574714</th>\n",
       "      <td>https://instagram.fhel5-1.fna.fbcdn.net/v/t51....</td>\n",
       "      <td>2020-05-09 08:07:47+00</td>\n",
       "      <td>55</td>\n",
       "      <td>3</td>\n",
       "      <td>Зайцев Борис Иванович, мой пра-дедушка, участн...</td>\n",
       "      <td>[бесмертныйполк]</td>\n",
       "      <td>[бесмертныйполк]</td>\n",
       "    </tr>\n",
       "    <tr>\n",
       "      <th>2302983163475195567</th>\n",
       "      <td>https://instagram.fhel5-1.fna.fbcdn.net/v/t51....</td>\n",
       "      <td>2020-05-06 09:23:28+00</td>\n",
       "      <td>43</td>\n",
       "      <td>1</td>\n",
       "      <td>Мой дед Вавилин Егор Ильич 02.11.1920 года ро...</td>\n",
       "      <td>[бесмертныйполк2020, бесмертныйполкпермь]</td>\n",
       "      <td>[]</td>\n",
       "    </tr>\n",
       "    <tr>\n",
       "      <th>2304720892040880707</th>\n",
       "      <td>https://instagram.fhel5-1.fna.fbcdn.net/v/t51....</td>\n",
       "      <td>2020-05-08 18:56:01+00</td>\n",
       "      <td>47</td>\n",
       "      <td>0</td>\n",
       "      <td>На этом фото два моих прадеда, благодаря котор...</td>\n",
       "      <td>[победа2020, 75летпобеды, безмертныйполк]</td>\n",
       "      <td>[75летпобеды]</td>\n",
       "    </tr>\n",
       "    <tr>\n",
       "      <th>2305072350833648291</th>\n",
       "      <td>https://instagram.fhel5-1.fna.fbcdn.net/v/t51....</td>\n",
       "      <td>2020-05-09 06:34:19+00</td>\n",
       "      <td>84</td>\n",
       "      <td>0</td>\n",
       "      <td>Спасибо прадедам и моему дедушке за Победу) за...</td>\n",
       "      <td>[знатьчтобыпомнили, знатьчтобыжить, безмертный...</td>\n",
       "      <td>[]</td>\n",
       "    </tr>\n",
       "  </tbody>\n",
       "</table>\n",
       "</div>"
      ],
      "text/plain": [
       "                                                           display_url  \\\n",
       "id                                                                       \n",
       "2303616061775464820  https://instagram.fhel5-1.fna.fbcdn.net/v/t51....   \n",
       "2305119399719574714  https://instagram.fhel5-1.fna.fbcdn.net/v/t51....   \n",
       "2302983163475195567  https://instagram.fhel5-1.fna.fbcdn.net/v/t51....   \n",
       "2304720892040880707  https://instagram.fhel5-1.fna.fbcdn.net/v/t51....   \n",
       "2305072350833648291  https://instagram.fhel5-1.fna.fbcdn.net/v/t51....   \n",
       "\n",
       "                                  published likes_count comments_count  \\\n",
       "id                                                                       \n",
       "2303616061775464820  2020-05-07 06:20:55+00          54              0   \n",
       "2305119399719574714  2020-05-09 08:07:47+00          55              3   \n",
       "2302983163475195567  2020-05-06 09:23:28+00          43              1   \n",
       "2304720892040880707  2020-05-08 18:56:01+00          47              0   \n",
       "2305072350833648291  2020-05-09 06:34:19+00          84              0   \n",
       "\n",
       "                                                               caption  \\\n",
       "id                                                                       \n",
       "2303616061775464820  Блохин Василий Васильевич 1911г рождения. Проб...   \n",
       "2305119399719574714  Зайцев Борис Иванович, мой пра-дедушка, участн...   \n",
       "2302983163475195567  Мой дед Вавилин Егор Ильич 02.11.1920 года ро...   \n",
       "2304720892040880707  На этом фото два моих прадеда, благодаря котор...   \n",
       "2305072350833648291  Спасибо прадедам и моему дедушке за Победу) за...   \n",
       "\n",
       "                                                                  tags  \\\n",
       "id                                                                       \n",
       "2303616061775464820                                   [бесмертныйполк]   \n",
       "2305119399719574714                                   [бесмертныйполк]   \n",
       "2302983163475195567          [бесмертныйполк2020, бесмертныйполкпермь]   \n",
       "2304720892040880707          [победа2020, 75летпобеды, безмертныйполк]   \n",
       "2305072350833648291  [знатьчтобыпомнили, знатьчтобыжить, безмертный...   \n",
       "\n",
       "                             top_tags  \n",
       "id                                     \n",
       "2303616061775464820  [бесмертныйполк]  \n",
       "2305119399719574714  [бесмертныйполк]  \n",
       "2302983163475195567                []  \n",
       "2304720892040880707     [75летпобеды]  \n",
       "2305072350833648291                []  "
      ]
     },
     "execution_count": 52,
     "metadata": {},
     "output_type": "execute_result"
    }
   ],
   "source": [
    "df['top_tags'] = df.tags.apply(lambda x: [tag for tag in x if tag in top_tags_set]); df.head()"
   ]
  },
  {
   "cell_type": "markdown",
   "metadata": {},
   "source": [
    "Выделим только те посты, в которых есть топовые теги."
   ]
  },
  {
   "cell_type": "code",
   "execution_count": 53,
   "metadata": {
    "pycharm": {
     "is_executing": true
    }
   },
   "outputs": [],
   "source": [
    "df_top_tags = df.loc[df.top_tags.apply(lambda x: x !=[])]"
   ]
  },
  {
   "cell_type": "code",
   "execution_count": 54,
   "metadata": {
    "pycharm": {
     "is_executing": true
    }
   },
   "outputs": [
    {
     "data": {
      "text/plain": [
       "0.971251312913674"
      ]
     },
     "execution_count": 54,
     "metadata": {},
     "output_type": "execute_result"
    }
   ],
   "source": [
    "df_top_tags.shape[0] / df.shape[0]"
   ]
  },
  {
   "cell_type": "markdown",
   "metadata": {},
   "source": [
    "~97% постов содержат в себе топовые теги."
   ]
  },
  {
   "cell_type": "markdown",
   "metadata": {},
   "source": [
    "### Создание матрицы пересечения \n",
    "Создадим новый датафрейм `tag_vector_df`, в который запишем топовые теги."
   ]
  },
  {
   "cell_type": "code",
   "execution_count": 55,
   "metadata": {
    "pycharm": {
     "is_executing": true
    }
   },
   "outputs": [
    {
     "data": {
      "text/html": [
       "<div>\n",
       "<style scoped>\n",
       "    .dataframe tbody tr th:only-of-type {\n",
       "        vertical-align: middle;\n",
       "    }\n",
       "\n",
       "    .dataframe tbody tr th {\n",
       "        vertical-align: top;\n",
       "    }\n",
       "\n",
       "    .dataframe thead th {\n",
       "        text-align: right;\n",
       "    }\n",
       "</style>\n",
       "<table border=\"1\" class=\"dataframe\">\n",
       "  <thead>\n",
       "    <tr style=\"text-align: right;\">\n",
       "      <th></th>\n",
       "      <th>top_tags</th>\n",
       "    </tr>\n",
       "    <tr>\n",
       "      <th>id</th>\n",
       "      <th></th>\n",
       "    </tr>\n",
       "  </thead>\n",
       "  <tbody>\n",
       "    <tr>\n",
       "      <th>2303616061775464820</th>\n",
       "      <td>[бесмертныйполк]</td>\n",
       "    </tr>\n",
       "    <tr>\n",
       "      <th>2305119399719574714</th>\n",
       "      <td>[бесмертныйполк]</td>\n",
       "    </tr>\n",
       "    <tr>\n",
       "      <th>2304720892040880707</th>\n",
       "      <td>[75летпобеды]</td>\n",
       "    </tr>\n",
       "    <tr>\n",
       "      <th>2305107864828112422</th>\n",
       "      <td>[сднемпобеды, 9мая]</td>\n",
       "    </tr>\n",
       "    <tr>\n",
       "      <th>2305320253696999679</th>\n",
       "      <td>[9мая, деньпобеды]</td>\n",
       "    </tr>\n",
       "  </tbody>\n",
       "</table>\n",
       "</div>"
      ],
      "text/plain": [
       "                                top_tags\n",
       "id                                      \n",
       "2303616061775464820     [бесмертныйполк]\n",
       "2305119399719574714     [бесмертныйполк]\n",
       "2304720892040880707        [75летпобеды]\n",
       "2305107864828112422  [сднемпобеды, 9мая]\n",
       "2305320253696999679   [9мая, деньпобеды]"
      ]
     },
     "execution_count": 55,
     "metadata": {},
     "output_type": "execute_result"
    }
   ],
   "source": [
    "tag_vector_df = df_top_tags.loc[:, ['top_tags']]; tag_vector_df.head()"
   ]
  },
  {
   "cell_type": "markdown",
   "metadata": {},
   "source": [
    "Далее, для каждого топового тега создадим колонку в `tag_vector_df` и укажем его наличие в текущем посте."
   ]
  },
  {
   "cell_type": "code",
   "execution_count": 56,
   "metadata": {
    "pycharm": {
     "is_executing": true
    }
   },
   "outputs": [],
   "source": [
    "for tag in sorted(top_tags_set):\n",
    "    tag_vector_df[f\"{tag}\"] = tag_vector_df.top_tags.apply(lambda x: bool(tag in x))"
   ]
  },
  {
   "cell_type": "code",
   "execution_count": 57,
   "metadata": {
    "pycharm": {
     "is_executing": true
    }
   },
   "outputs": [
    {
     "data": {
      "text/plain": [
       "(971870, 88)"
      ]
     },
     "execution_count": 57,
     "metadata": {},
     "output_type": "execute_result"
    }
   ],
   "source": [
    "tag_vector_df.shape"
   ]
  },
  {
   "cell_type": "markdown",
   "metadata": {},
   "source": [
    "В итоге получится логическая матрица 971870 x 88. Запишем ее в переменную `tag_vector_matrix`."
   ]
  },
  {
   "cell_type": "code",
   "execution_count": 58,
   "metadata": {
    "pycharm": {
     "is_executing": true
    }
   },
   "outputs": [
    {
     "data": {
      "text/html": [
       "<div>\n",
       "<style scoped>\n",
       "    .dataframe tbody tr th:only-of-type {\n",
       "        vertical-align: middle;\n",
       "    }\n",
       "\n",
       "    .dataframe tbody tr th {\n",
       "        vertical-align: top;\n",
       "    }\n",
       "\n",
       "    .dataframe thead th {\n",
       "        text-align: right;\n",
       "    }\n",
       "</style>\n",
       "<table border=\"1\" class=\"dataframe\">\n",
       "  <thead>\n",
       "    <tr style=\"text-align: right;\">\n",
       "      <th></th>\n",
       "      <th>1941</th>\n",
       "      <th>1945</th>\n",
       "      <th>75летвеликойпобеды</th>\n",
       "      <th>75летиепобеды</th>\n",
       "      <th>75летпобеды</th>\n",
       "      <th>9</th>\n",
       "      <th>9мая</th>\n",
       "      <th>9мая1945</th>\n",
       "      <th>9мая2019</th>\n",
       "      <th>9мая2020</th>\n",
       "      <th>...</th>\n",
       "      <th>спасибо</th>\n",
       "      <th>спасибовам</th>\n",
       "      <th>спасибодедузапобеду</th>\n",
       "      <th>спасибозапобеду</th>\n",
       "      <th>ссср</th>\n",
       "      <th>стихиовойне</th>\n",
       "      <th>шествие</th>\n",
       "      <th>ягоржусь</th>\n",
       "      <th>япомню</th>\n",
       "      <th>япомнюягоржусь</th>\n",
       "    </tr>\n",
       "    <tr>\n",
       "      <th>id</th>\n",
       "      <th></th>\n",
       "      <th></th>\n",
       "      <th></th>\n",
       "      <th></th>\n",
       "      <th></th>\n",
       "      <th></th>\n",
       "      <th></th>\n",
       "      <th></th>\n",
       "      <th></th>\n",
       "      <th></th>\n",
       "      <th></th>\n",
       "      <th></th>\n",
       "      <th></th>\n",
       "      <th></th>\n",
       "      <th></th>\n",
       "      <th></th>\n",
       "      <th></th>\n",
       "      <th></th>\n",
       "      <th></th>\n",
       "      <th></th>\n",
       "      <th></th>\n",
       "    </tr>\n",
       "  </thead>\n",
       "  <tbody>\n",
       "    <tr>\n",
       "      <th>2303616061775464820</th>\n",
       "      <td>False</td>\n",
       "      <td>False</td>\n",
       "      <td>False</td>\n",
       "      <td>False</td>\n",
       "      <td>False</td>\n",
       "      <td>False</td>\n",
       "      <td>False</td>\n",
       "      <td>False</td>\n",
       "      <td>False</td>\n",
       "      <td>False</td>\n",
       "      <td>...</td>\n",
       "      <td>False</td>\n",
       "      <td>False</td>\n",
       "      <td>False</td>\n",
       "      <td>False</td>\n",
       "      <td>False</td>\n",
       "      <td>False</td>\n",
       "      <td>False</td>\n",
       "      <td>False</td>\n",
       "      <td>False</td>\n",
       "      <td>False</td>\n",
       "    </tr>\n",
       "    <tr>\n",
       "      <th>2305119399719574714</th>\n",
       "      <td>False</td>\n",
       "      <td>False</td>\n",
       "      <td>False</td>\n",
       "      <td>False</td>\n",
       "      <td>False</td>\n",
       "      <td>False</td>\n",
       "      <td>False</td>\n",
       "      <td>False</td>\n",
       "      <td>False</td>\n",
       "      <td>False</td>\n",
       "      <td>...</td>\n",
       "      <td>False</td>\n",
       "      <td>False</td>\n",
       "      <td>False</td>\n",
       "      <td>False</td>\n",
       "      <td>False</td>\n",
       "      <td>False</td>\n",
       "      <td>False</td>\n",
       "      <td>False</td>\n",
       "      <td>False</td>\n",
       "      <td>False</td>\n",
       "    </tr>\n",
       "    <tr>\n",
       "      <th>2304720892040880707</th>\n",
       "      <td>False</td>\n",
       "      <td>False</td>\n",
       "      <td>False</td>\n",
       "      <td>False</td>\n",
       "      <td>True</td>\n",
       "      <td>False</td>\n",
       "      <td>False</td>\n",
       "      <td>False</td>\n",
       "      <td>False</td>\n",
       "      <td>False</td>\n",
       "      <td>...</td>\n",
       "      <td>False</td>\n",
       "      <td>False</td>\n",
       "      <td>False</td>\n",
       "      <td>False</td>\n",
       "      <td>False</td>\n",
       "      <td>False</td>\n",
       "      <td>False</td>\n",
       "      <td>False</td>\n",
       "      <td>False</td>\n",
       "      <td>False</td>\n",
       "    </tr>\n",
       "    <tr>\n",
       "      <th>2305107864828112422</th>\n",
       "      <td>False</td>\n",
       "      <td>False</td>\n",
       "      <td>False</td>\n",
       "      <td>False</td>\n",
       "      <td>False</td>\n",
       "      <td>False</td>\n",
       "      <td>True</td>\n",
       "      <td>False</td>\n",
       "      <td>False</td>\n",
       "      <td>False</td>\n",
       "      <td>...</td>\n",
       "      <td>False</td>\n",
       "      <td>False</td>\n",
       "      <td>False</td>\n",
       "      <td>False</td>\n",
       "      <td>False</td>\n",
       "      <td>False</td>\n",
       "      <td>False</td>\n",
       "      <td>False</td>\n",
       "      <td>False</td>\n",
       "      <td>False</td>\n",
       "    </tr>\n",
       "    <tr>\n",
       "      <th>2305320253696999679</th>\n",
       "      <td>False</td>\n",
       "      <td>False</td>\n",
       "      <td>False</td>\n",
       "      <td>False</td>\n",
       "      <td>False</td>\n",
       "      <td>False</td>\n",
       "      <td>True</td>\n",
       "      <td>False</td>\n",
       "      <td>False</td>\n",
       "      <td>False</td>\n",
       "      <td>...</td>\n",
       "      <td>False</td>\n",
       "      <td>False</td>\n",
       "      <td>False</td>\n",
       "      <td>False</td>\n",
       "      <td>False</td>\n",
       "      <td>False</td>\n",
       "      <td>False</td>\n",
       "      <td>False</td>\n",
       "      <td>False</td>\n",
       "      <td>False</td>\n",
       "    </tr>\n",
       "  </tbody>\n",
       "</table>\n",
       "<p>5 rows × 87 columns</p>\n",
       "</div>"
      ],
      "text/plain": [
       "                      1941   1945  75летвеликойпобеды  75летиепобеды  \\\n",
       "id                                                                     \n",
       "2303616061775464820  False  False               False          False   \n",
       "2305119399719574714  False  False               False          False   \n",
       "2304720892040880707  False  False               False          False   \n",
       "2305107864828112422  False  False               False          False   \n",
       "2305320253696999679  False  False               False          False   \n",
       "\n",
       "                     75летпобеды      9   9мая  9мая1945  9мая2019  9мая2020  \\\n",
       "id                                                                             \n",
       "2303616061775464820        False  False  False     False     False     False   \n",
       "2305119399719574714        False  False  False     False     False     False   \n",
       "2304720892040880707         True  False  False     False     False     False   \n",
       "2305107864828112422        False  False   True     False     False     False   \n",
       "2305320253696999679        False  False   True     False     False     False   \n",
       "\n",
       "                     ...  спасибо  спасибовам  спасибодедузапобеду  \\\n",
       "id                   ...                                             \n",
       "2303616061775464820  ...    False       False                False   \n",
       "2305119399719574714  ...    False       False                False   \n",
       "2304720892040880707  ...    False       False                False   \n",
       "2305107864828112422  ...    False       False                False   \n",
       "2305320253696999679  ...    False       False                False   \n",
       "\n",
       "                     спасибозапобеду   ссср  стихиовойне  шествие  ягоржусь  \\\n",
       "id                                                                            \n",
       "2303616061775464820            False  False        False    False     False   \n",
       "2305119399719574714            False  False        False    False     False   \n",
       "2304720892040880707            False  False        False    False     False   \n",
       "2305107864828112422            False  False        False    False     False   \n",
       "2305320253696999679            False  False        False    False     False   \n",
       "\n",
       "                     япомню  япомнюягоржусь  \n",
       "id                                           \n",
       "2303616061775464820   False           False  \n",
       "2305119399719574714   False           False  \n",
       "2304720892040880707   False           False  \n",
       "2305107864828112422   False           False  \n",
       "2305320253696999679   False           False  \n",
       "\n",
       "[5 rows x 87 columns]"
      ]
     },
     "execution_count": 58,
     "metadata": {},
     "output_type": "execute_result"
    }
   ],
   "source": [
    "tag_vector_matrix = tag_vector_df.drop(columns=['top_tags']); tag_vector_matrix.head()"
   ]
  },
  {
   "cell_type": "markdown",
   "metadata": {},
   "source": [
    "## Визуализация\n",
    "\n",
    "Для визуализации воспользуемся методом корреляции значений по строчкам/столбам."
   ]
  },
  {
   "cell_type": "code",
   "execution_count": 59,
   "metadata": {
    "pycharm": {
     "is_executing": true
    }
   },
   "outputs": [
    {
     "data": {
      "text/html": [
       "<div>\n",
       "<style scoped>\n",
       "    .dataframe tbody tr th:only-of-type {\n",
       "        vertical-align: middle;\n",
       "    }\n",
       "\n",
       "    .dataframe tbody tr th {\n",
       "        vertical-align: top;\n",
       "    }\n",
       "\n",
       "    .dataframe thead th {\n",
       "        text-align: right;\n",
       "    }\n",
       "</style>\n",
       "<table border=\"1\" class=\"dataframe\">\n",
       "  <thead>\n",
       "    <tr style=\"text-align: right;\">\n",
       "      <th></th>\n",
       "      <th>1941</th>\n",
       "      <th>1945</th>\n",
       "      <th>75летвеликойпобеды</th>\n",
       "      <th>75летиепобеды</th>\n",
       "      <th>75летпобеды</th>\n",
       "      <th>9</th>\n",
       "      <th>9мая</th>\n",
       "      <th>9мая1945</th>\n",
       "      <th>9мая2019</th>\n",
       "      <th>9мая2020</th>\n",
       "      <th>...</th>\n",
       "      <th>спасибо</th>\n",
       "      <th>спасибовам</th>\n",
       "      <th>спасибодедузапобеду</th>\n",
       "      <th>спасибозапобеду</th>\n",
       "      <th>ссср</th>\n",
       "      <th>стихиовойне</th>\n",
       "      <th>шествие</th>\n",
       "      <th>ягоржусь</th>\n",
       "      <th>япомню</th>\n",
       "      <th>япомнюягоржусь</th>\n",
       "    </tr>\n",
       "  </thead>\n",
       "  <tbody>\n",
       "    <tr>\n",
       "      <th>1941</th>\n",
       "      <td>1.000000</td>\n",
       "      <td>0.778985</td>\n",
       "      <td>-0.010038</td>\n",
       "      <td>-0.011416</td>\n",
       "      <td>-0.034187</td>\n",
       "      <td>0.509873</td>\n",
       "      <td>0.154077</td>\n",
       "      <td>0.645038</td>\n",
       "      <td>0.165762</td>\n",
       "      <td>0.031980</td>\n",
       "      <td>...</td>\n",
       "      <td>0.007409</td>\n",
       "      <td>0.703784</td>\n",
       "      <td>0.200801</td>\n",
       "      <td>-0.001719</td>\n",
       "      <td>0.231997</td>\n",
       "      <td>-0.015320</td>\n",
       "      <td>-0.017772</td>\n",
       "      <td>0.001868</td>\n",
       "      <td>0.003594</td>\n",
       "      <td>0.055918</td>\n",
       "    </tr>\n",
       "    <tr>\n",
       "      <th>1945</th>\n",
       "      <td>0.778985</td>\n",
       "      <td>1.000000</td>\n",
       "      <td>-0.010370</td>\n",
       "      <td>-0.009593</td>\n",
       "      <td>-0.030613</td>\n",
       "      <td>0.474415</td>\n",
       "      <td>0.167223</td>\n",
       "      <td>0.595742</td>\n",
       "      <td>0.150407</td>\n",
       "      <td>0.034047</td>\n",
       "      <td>...</td>\n",
       "      <td>0.017545</td>\n",
       "      <td>0.650999</td>\n",
       "      <td>0.196815</td>\n",
       "      <td>0.004670</td>\n",
       "      <td>0.229350</td>\n",
       "      <td>-0.016105</td>\n",
       "      <td>-0.019423</td>\n",
       "      <td>0.010468</td>\n",
       "      <td>0.012578</td>\n",
       "      <td>0.045801</td>\n",
       "    </tr>\n",
       "    <tr>\n",
       "      <th>75летвеликойпобеды</th>\n",
       "      <td>-0.010038</td>\n",
       "      <td>-0.010370</td>\n",
       "      <td>1.000000</td>\n",
       "      <td>0.036503</td>\n",
       "      <td>0.010583</td>\n",
       "      <td>-0.007407</td>\n",
       "      <td>-0.015495</td>\n",
       "      <td>-0.010312</td>\n",
       "      <td>-0.011754</td>\n",
       "      <td>0.029921</td>\n",
       "      <td>...</td>\n",
       "      <td>-0.002826</td>\n",
       "      <td>-0.010887</td>\n",
       "      <td>-0.005694</td>\n",
       "      <td>0.009697</td>\n",
       "      <td>-0.001237</td>\n",
       "      <td>0.013483</td>\n",
       "      <td>-0.015163</td>\n",
       "      <td>0.000543</td>\n",
       "      <td>0.001125</td>\n",
       "      <td>0.003269</td>\n",
       "    </tr>\n",
       "    <tr>\n",
       "      <th>75летиепобеды</th>\n",
       "      <td>-0.011416</td>\n",
       "      <td>-0.009593</td>\n",
       "      <td>0.036503</td>\n",
       "      <td>1.000000</td>\n",
       "      <td>0.031195</td>\n",
       "      <td>-0.005883</td>\n",
       "      <td>-0.002230</td>\n",
       "      <td>-0.009409</td>\n",
       "      <td>-0.012053</td>\n",
       "      <td>0.039677</td>\n",
       "      <td>...</td>\n",
       "      <td>-0.006440</td>\n",
       "      <td>-0.011485</td>\n",
       "      <td>-0.018025</td>\n",
       "      <td>0.056975</td>\n",
       "      <td>-0.007559</td>\n",
       "      <td>0.031184</td>\n",
       "      <td>-0.015692</td>\n",
       "      <td>0.014168</td>\n",
       "      <td>0.015081</td>\n",
       "      <td>0.033048</td>\n",
       "    </tr>\n",
       "    <tr>\n",
       "      <th>75летпобеды</th>\n",
       "      <td>-0.034187</td>\n",
       "      <td>-0.030613</td>\n",
       "      <td>0.010583</td>\n",
       "      <td>0.031195</td>\n",
       "      <td>1.000000</td>\n",
       "      <td>-0.037517</td>\n",
       "      <td>0.003691</td>\n",
       "      <td>-0.035411</td>\n",
       "      <td>-0.046159</td>\n",
       "      <td>0.099507</td>\n",
       "      <td>...</td>\n",
       "      <td>-0.011324</td>\n",
       "      <td>-0.035594</td>\n",
       "      <td>-0.069116</td>\n",
       "      <td>0.111041</td>\n",
       "      <td>-0.029106</td>\n",
       "      <td>0.042237</td>\n",
       "      <td>-0.067960</td>\n",
       "      <td>-0.000661</td>\n",
       "      <td>-0.002718</td>\n",
       "      <td>0.082956</td>\n",
       "    </tr>\n",
       "  </tbody>\n",
       "</table>\n",
       "<p>5 rows × 87 columns</p>\n",
       "</div>"
      ],
      "text/plain": [
       "                        1941      1945  75летвеликойпобеды  75летиепобеды  \\\n",
       "1941                1.000000  0.778985           -0.010038      -0.011416   \n",
       "1945                0.778985  1.000000           -0.010370      -0.009593   \n",
       "75летвеликойпобеды -0.010038 -0.010370            1.000000       0.036503   \n",
       "75летиепобеды      -0.011416 -0.009593            0.036503       1.000000   \n",
       "75летпобеды        -0.034187 -0.030613            0.010583       0.031195   \n",
       "\n",
       "                    75летпобеды         9      9мая  9мая1945  9мая2019  \\\n",
       "1941                  -0.034187  0.509873  0.154077  0.645038  0.165762   \n",
       "1945                  -0.030613  0.474415  0.167223  0.595742  0.150407   \n",
       "75летвеликойпобеды     0.010583 -0.007407 -0.015495 -0.010312 -0.011754   \n",
       "75летиепобеды          0.031195 -0.005883 -0.002230 -0.009409 -0.012053   \n",
       "75летпобеды            1.000000 -0.037517  0.003691 -0.035411 -0.046159   \n",
       "\n",
       "                    9мая2020  ...   спасибо  спасибовам  спасибодедузапобеду  \\\n",
       "1941                0.031980  ...  0.007409    0.703784             0.200801   \n",
       "1945                0.034047  ...  0.017545    0.650999             0.196815   \n",
       "75летвеликойпобеды  0.029921  ... -0.002826   -0.010887            -0.005694   \n",
       "75летиепобеды       0.039677  ... -0.006440   -0.011485            -0.018025   \n",
       "75летпобеды         0.099507  ... -0.011324   -0.035594            -0.069116   \n",
       "\n",
       "                    спасибозапобеду      ссср  стихиовойне   шествие  \\\n",
       "1941                      -0.001719  0.231997    -0.015320 -0.017772   \n",
       "1945                       0.004670  0.229350    -0.016105 -0.019423   \n",
       "75летвеликойпобеды         0.009697 -0.001237     0.013483 -0.015163   \n",
       "75летиепобеды              0.056975 -0.007559     0.031184 -0.015692   \n",
       "75летпобеды                0.111041 -0.029106     0.042237 -0.067960   \n",
       "\n",
       "                    ягоржусь    япомню  япомнюягоржусь  \n",
       "1941                0.001868  0.003594        0.055918  \n",
       "1945                0.010468  0.012578        0.045801  \n",
       "75летвеликойпобеды  0.000543  0.001125        0.003269  \n",
       "75летиепобеды       0.014168  0.015081        0.033048  \n",
       "75летпобеды        -0.000661 -0.002718        0.082956  \n",
       "\n",
       "[5 rows x 87 columns]"
      ]
     },
     "execution_count": 59,
     "metadata": {},
     "output_type": "execute_result"
    }
   ],
   "source": [
    "corr = tag_vector_matrix.corr(); corr.head()"
   ]
  },
  {
   "cell_type": "code",
   "execution_count": 60,
   "metadata": {
    "pycharm": {
     "is_executing": true
    }
   },
   "outputs": [],
   "source": [
    "import matplotlib.pyplot as plt \n",
    "import seaborn as sns"
   ]
  },
  {
   "cell_type": "code",
   "execution_count": 61,
   "metadata": {
    "pycharm": {
     "is_executing": true
    }
   },
   "outputs": [],
   "source": [
    "l = 16"
   ]
  },
  {
   "cell_type": "code",
   "execution_count": 62,
   "metadata": {
    "pycharm": {
     "is_executing": true
    }
   },
   "outputs": [
    {
     "data": {
      "text/plain": [
       "<matplotlib.axes._subplots.AxesSubplot at 0x135542908>"
      ]
     },
     "execution_count": 62,
     "metadata": {},
     "output_type": "execute_result"
    },
    {
     "data": {
      "image/png": "[encoded data removed]",
      "text/plain": [
       "<Figure size 1152x1152 with 2 Axes>"
      ]
     },
     "metadata": {
      "needs_background": "light"
     },
     "output_type": "display_data"
    }
   ],
   "source": [
    "plt.figure(figsize=(l, l))\n",
    "plt.suptitle('Matrix 1')\n",
    "\n",
    "sns.heatmap(corr, cmap='YlGnBu')"
   ]
  },
  {
   "cell_type": "markdown",
   "metadata": {},
   "source": [
    "# Анализ постов Instagram. Часть 4 – Анализ временных рядов\n",
    "\n",
    "В качестве набора данных используется датасет, выгруженный в период с апреля по май 2020, по выявленному набору хештегов на тему акции «Бессметрный полк».    "
   ]
  },
  {
   "cell_type": "code",
   "execution_count": null,
   "metadata": {},
   "outputs": [],
   "source": [
    "from tqdm import tqdm_notebook"
   ]
  },
  {
   "cell_type": "markdown",
   "metadata": {},
   "source": [
    "Переведем поле `published` в тип `datetime64`."
   ]
  },
  {
   "cell_type": "code",
   "execution_count": 67,
   "metadata": {
    "pycharm": {
     "is_executing": true
    }
   },
   "outputs": [],
   "source": [
    "df.published = pd.to_datetime(df.published)"
   ]
  },
  {
   "cell_type": "markdown",
   "metadata": {},
   "source": [
    "## Общее распределение постов"
   ]
  },
  {
   "cell_type": "code",
   "execution_count": 189,
   "metadata": {
    "pycharm": {
     "is_executing": true
    }
   },
   "outputs": [
    {
     "data": {
      "text/plain": [
       "<matplotlib.axes._subplots.AxesSubplot at 0x13f2af9e8>"
      ]
     },
     "execution_count": 189,
     "metadata": {},
     "output_type": "execute_result"
    },
    {
     "data": {
      "image/png": "[encoded data removed]",
      "text/plain": [
       "<Figure size 432x288 with 1 Axes>"
      ]
     },
     "metadata": {
      "needs_background": "light"
     },
     "output_type": "display_data"
    }
   ],
   "source": [
    "df.published.hist()"
   ]
  },
  {
   "cell_type": "markdown",
   "metadata": {},
   "source": [
    "## Распределение по месяцам\n",
    "Май ожидаемо самый активный."
   ]
  },
  {
   "cell_type": "code",
   "execution_count": 190,
   "metadata": {},
   "outputs": [
    {
     "data": {
      "text/plain": [
       "<matplotlib.axes._subplots.AxesSubplot at 0x1a75c3208>"
      ]
     },
     "execution_count": 190,
     "metadata": {},
     "output_type": "execute_result"
    },
    {
     "data": {
      "image/png": "[encoded data removed]",
      "text/plain": [
       "<Figure size 432x288 with 1 Axes>"
      ]
     },
     "metadata": {
      "needs_background": "light"
     },
     "output_type": "display_data"
    }
   ],
   "source": [
    "df.published.dt.month.hist()"
   ]
  },
  {
   "cell_type": "markdown",
   "metadata": {},
   "source": [
    "Можно исключить май, для более получения более точного представления о годовом распределении постов."
   ]
  },
  {
   "cell_type": "code",
   "execution_count": 191,
   "metadata": {
    "scrolled": true
   },
   "outputs": [
    {
     "data": {
      "text/plain": [
       "<matplotlib.axes._subplots.AxesSubplot at 0x13fb1b7b8>"
      ]
     },
     "execution_count": 191,
     "metadata": {},
     "output_type": "execute_result"
    },
    {
     "data": {
      "image/png": "[encoded data removed]",
      "text/plain": [
       "<Figure size 432x288 with 1 Axes>"
      ]
     },
     "metadata": {
      "needs_background": "light"
     },
     "output_type": "display_data"
    }
   ],
   "source": [
    "df[df.published.dt.month != 5].published.dt.month.hist()"
   ]
  },
  {
   "cell_type": "markdown",
   "metadata": {},
   "source": [
    "## Распределение по дням мая\n",
    "Построим диаграмму распределения постов в зависимости от дня мая (с 1 по 31). "
   ]
  },
  {
   "cell_type": "code",
   "execution_count": 192,
   "metadata": {},
   "outputs": [
    {
     "data": {
      "text/plain": [
       "<matplotlib.axes._subplots.AxesSubplot at 0x13fe99710>"
      ]
     },
     "execution_count": 192,
     "metadata": {},
     "output_type": "execute_result"
    },
    {
     "data": {
      "image/png": "[encoded data removed]",
      "text/plain": [
       "<Figure size 432x288 with 1 Axes>"
      ]
     },
     "metadata": {
      "needs_background": "light"
     },
     "output_type": "display_data"
    }
   ],
   "source": [
    "df[df.published.dt.month == 5].published.dt.day.value_counts().sort_index().plot(kind='bar')"
   ]
  },
  {
   "cell_type": "markdown",
   "metadata": {},
   "source": [
    "## Первое упоминание тега\n",
    "Для всех популярных тегов найдем дату его первого упоминания. "
   ]
  },
  {
   "cell_type": "code",
   "execution_count": 117,
   "metadata": {},
   "outputs": [],
   "source": [
    "flattened_tags_df = pd.DataFrame(flattened_tags_counts, columns=['count'])\n",
    "flattened_tags_df['first_mention'] = np.nan\n",
    "\n",
    "sort_df = df.sort_values(by='published', ascending=True, inplace=False)"
   ]
  },
  {
   "cell_type": "code",
   "execution_count": 193,
   "metadata": {},
   "outputs": [
    {
     "data": {
      "text/html": [
       "<div>\n",
       "<style scoped>\n",
       "    .dataframe tbody tr th:only-of-type {\n",
       "        vertical-align: middle;\n",
       "    }\n",
       "\n",
       "    .dataframe tbody tr th {\n",
       "        vertical-align: top;\n",
       "    }\n",
       "\n",
       "    .dataframe thead th {\n",
       "        text-align: right;\n",
       "    }\n",
       "</style>\n",
       "<table border=\"1\" class=\"dataframe\">\n",
       "  <thead>\n",
       "    <tr style=\"text-align: right;\">\n",
       "      <th></th>\n",
       "      <th>count</th>\n",
       "      <th>first_mention</th>\n",
       "    </tr>\n",
       "  </thead>\n",
       "  <tbody>\n",
       "    <tr>\n",
       "      <th>деньпобеды</th>\n",
       "      <td>329698</td>\n",
       "      <td>2013-05-09 00:53:53+00:00</td>\n",
       "    </tr>\n",
       "    <tr>\n",
       "      <th>9мая</th>\n",
       "      <td>318154</td>\n",
       "      <td>2013-05-05 09:57:37+00:00</td>\n",
       "    </tr>\n",
       "    <tr>\n",
       "      <th>бессмертныйполк</th>\n",
       "      <td>287698</td>\n",
       "      <td>2013-05-09 10:08:38+00:00</td>\n",
       "    </tr>\n",
       "    <tr>\n",
       "      <th>спасибодедузапобеду</th>\n",
       "      <td>234897</td>\n",
       "      <td>2013-05-09 14:53:41+00:00</td>\n",
       "    </tr>\n",
       "    <tr>\n",
       "      <th>75летпобеды</th>\n",
       "      <td>180856</td>\n",
       "      <td>2015-03-12 08:58:40+00:00</td>\n",
       "    </tr>\n",
       "  </tbody>\n",
       "</table>\n",
       "</div>"
      ],
      "text/plain": [
       "                      count              first_mention\n",
       "деньпобеды           329698  2013-05-09 00:53:53+00:00\n",
       "9мая                 318154  2013-05-05 09:57:37+00:00\n",
       "бессмертныйполк      287698  2013-05-09 10:08:38+00:00\n",
       "спасибодедузапобеду  234897  2013-05-09 14:53:41+00:00\n",
       "75летпобеды          180856  2015-03-12 08:58:40+00:00"
      ]
     },
     "execution_count": 193,
     "metadata": {},
     "output_type": "execute_result"
    }
   ],
   "source": [
    "flattened_tags_df.head()"
   ]
  },
  {
   "cell_type": "code",
   "execution_count": 194,
   "metadata": {
    "collapsed": true
   },
   "outputs": [
    {
     "data": {
      "application/vnd.jupyter.widget-view+json": {
       "model_id": "adf5d2f78d6a491484e29062adf14f6b",
       "version_major": 2,
       "version_minor": 0
      },
      "text/plain": [
       "HBox(children=(IntProgress(value=0, max=477059), HTML(value='')))"
      ]
     },
     "metadata": {},
     "output_type": "display_data"
    },
    {
     "ename": "KeyboardInterrupt",
     "evalue": "",
     "output_type": "error",
     "traceback": [
      "\u001b[0;31m---------------------------------------------------------------------------\u001b[0m",
      "\u001b[0;31mKeyboardInterrupt\u001b[0m                         Traceback (most recent call last)",
      "\u001b[0;32m<ipython-input-194-547600d30f01>\u001b[0m in \u001b[0;36m<module>\u001b[0;34m\u001b[0m\n\u001b[1;32m      1\u001b[0m \u001b[0;32mfor\u001b[0m \u001b[0mtag\u001b[0m \u001b[0;32min\u001b[0m \u001b[0mtqdm_notebook\u001b[0m\u001b[0;34m(\u001b[0m\u001b[0mflattened_tags_df\u001b[0m\u001b[0;34m[\u001b[0m\u001b[0mflattened_tags_df\u001b[0m\u001b[0;34m.\u001b[0m\u001b[0mfirst_mention\u001b[0m\u001b[0;34m.\u001b[0m\u001b[0misna\u001b[0m\u001b[0;34m(\u001b[0m\u001b[0;34m)\u001b[0m\u001b[0;34m]\u001b[0m\u001b[0;34m.\u001b[0m\u001b[0mindex\u001b[0m\u001b[0;34m)\u001b[0m\u001b[0;34m:\u001b[0m\u001b[0;34m\u001b[0m\u001b[0;34m\u001b[0m\u001b[0m\n\u001b[0;32m----> 2\u001b[0;31m     \u001b[0mflattened_tags_df\u001b[0m\u001b[0;34m.\u001b[0m\u001b[0mat\u001b[0m\u001b[0;34m[\u001b[0m\u001b[0mtag\u001b[0m\u001b[0;34m,\u001b[0m \u001b[0;34m'first_mention'\u001b[0m\u001b[0;34m]\u001b[0m \u001b[0;34m=\u001b[0m \u001b[0msort_df\u001b[0m\u001b[0;34m[\u001b[0m\u001b[0msort_df\u001b[0m\u001b[0;34m.\u001b[0m\u001b[0mtags\u001b[0m\u001b[0;34m.\u001b[0m\u001b[0mapply\u001b[0m\u001b[0;34m(\u001b[0m\u001b[0;32mlambda\u001b[0m \u001b[0mx\u001b[0m\u001b[0;34m:\u001b[0m \u001b[0mtag\u001b[0m \u001b[0;32min\u001b[0m \u001b[0mx\u001b[0m\u001b[0;34m)\u001b[0m\u001b[0;34m]\u001b[0m\u001b[0;34m.\u001b[0m\u001b[0mpublished\u001b[0m\u001b[0;34m[\u001b[0m\u001b[0;36m0\u001b[0m\u001b[0;34m]\u001b[0m\u001b[0;34m\u001b[0m\u001b[0;34m\u001b[0m\u001b[0m\n\u001b[0m",
      "\u001b[0;32m~/anaconda3/envs/p-37/lib/python3.7/site-packages/pandas/core/series.py\u001b[0m in \u001b[0;36mapply\u001b[0;34m(self, func, convert_dtype, args, **kwds)\u001b[0m\n\u001b[1;32m   3589\u001b[0m             \u001b[0;32melse\u001b[0m\u001b[0;34m:\u001b[0m\u001b[0;34m\u001b[0m\u001b[0;34m\u001b[0m\u001b[0m\n\u001b[1;32m   3590\u001b[0m                 \u001b[0mvalues\u001b[0m \u001b[0;34m=\u001b[0m \u001b[0mself\u001b[0m\u001b[0;34m.\u001b[0m\u001b[0mastype\u001b[0m\u001b[0;34m(\u001b[0m\u001b[0mobject\u001b[0m\u001b[0;34m)\u001b[0m\u001b[0;34m.\u001b[0m\u001b[0mvalues\u001b[0m\u001b[0;34m\u001b[0m\u001b[0;34m\u001b[0m\u001b[0m\n\u001b[0;32m-> 3591\u001b[0;31m                 \u001b[0mmapped\u001b[0m \u001b[0;34m=\u001b[0m \u001b[0mlib\u001b[0m\u001b[0;34m.\u001b[0m\u001b[0mmap_infer\u001b[0m\u001b[0;34m(\u001b[0m\u001b[0mvalues\u001b[0m\u001b[0;34m,\u001b[0m \u001b[0mf\u001b[0m\u001b[0;34m,\u001b[0m \u001b[0mconvert\u001b[0m\u001b[0;34m=\u001b[0m\u001b[0mconvert_dtype\u001b[0m\u001b[0;34m)\u001b[0m\u001b[0;34m\u001b[0m\u001b[0;34m\u001b[0m\u001b[0m\n\u001b[0m\u001b[1;32m   3592\u001b[0m \u001b[0;34m\u001b[0m\u001b[0m\n\u001b[1;32m   3593\u001b[0m         \u001b[0;32mif\u001b[0m \u001b[0mlen\u001b[0m\u001b[0;34m(\u001b[0m\u001b[0mmapped\u001b[0m\u001b[0;34m)\u001b[0m \u001b[0;32mand\u001b[0m \u001b[0misinstance\u001b[0m\u001b[0;34m(\u001b[0m\u001b[0mmapped\u001b[0m\u001b[0;34m[\u001b[0m\u001b[0;36m0\u001b[0m\u001b[0;34m]\u001b[0m\u001b[0;34m,\u001b[0m \u001b[0mSeries\u001b[0m\u001b[0;34m)\u001b[0m\u001b[0;34m:\u001b[0m\u001b[0;34m\u001b[0m\u001b[0;34m\u001b[0m\u001b[0m\n",
      "\u001b[0;32mpandas/_libs/lib.pyx\u001b[0m in \u001b[0;36mpandas._libs.lib.map_infer\u001b[0;34m()\u001b[0m\n",
      "\u001b[0;32m<ipython-input-194-547600d30f01>\u001b[0m in \u001b[0;36m<lambda>\u001b[0;34m(x)\u001b[0m\n\u001b[1;32m      1\u001b[0m \u001b[0;32mfor\u001b[0m \u001b[0mtag\u001b[0m \u001b[0;32min\u001b[0m \u001b[0mtqdm_notebook\u001b[0m\u001b[0;34m(\u001b[0m\u001b[0mflattened_tags_df\u001b[0m\u001b[0;34m[\u001b[0m\u001b[0mflattened_tags_df\u001b[0m\u001b[0;34m.\u001b[0m\u001b[0mfirst_mention\u001b[0m\u001b[0;34m.\u001b[0m\u001b[0misna\u001b[0m\u001b[0;34m(\u001b[0m\u001b[0;34m)\u001b[0m\u001b[0;34m]\u001b[0m\u001b[0;34m.\u001b[0m\u001b[0mindex\u001b[0m\u001b[0;34m)\u001b[0m\u001b[0;34m:\u001b[0m\u001b[0;34m\u001b[0m\u001b[0;34m\u001b[0m\u001b[0m\n\u001b[0;32m----> 2\u001b[0;31m     \u001b[0mflattened_tags_df\u001b[0m\u001b[0;34m.\u001b[0m\u001b[0mat\u001b[0m\u001b[0;34m[\u001b[0m\u001b[0mtag\u001b[0m\u001b[0;34m,\u001b[0m \u001b[0;34m'first_mention'\u001b[0m\u001b[0;34m]\u001b[0m \u001b[0;34m=\u001b[0m \u001b[0msort_df\u001b[0m\u001b[0;34m[\u001b[0m\u001b[0msort_df\u001b[0m\u001b[0;34m.\u001b[0m\u001b[0mtags\u001b[0m\u001b[0;34m.\u001b[0m\u001b[0mapply\u001b[0m\u001b[0;34m(\u001b[0m\u001b[0;32mlambda\u001b[0m \u001b[0mx\u001b[0m\u001b[0;34m:\u001b[0m \u001b[0mtag\u001b[0m \u001b[0;32min\u001b[0m \u001b[0mx\u001b[0m\u001b[0;34m)\u001b[0m\u001b[0;34m]\u001b[0m\u001b[0;34m.\u001b[0m\u001b[0mpublished\u001b[0m\u001b[0;34m[\u001b[0m\u001b[0;36m0\u001b[0m\u001b[0;34m]\u001b[0m\u001b[0;34m\u001b[0m\u001b[0;34m\u001b[0m\u001b[0m\n\u001b[0m",
      "\u001b[0;31mKeyboardInterrupt\u001b[0m: "
     ]
    }
   ],
   "source": [
    "for tag in tqdm_notebook(flattened_tags_df[flattened_tags_df.first_mention.isna()].index):\n",
    "    flattened_tags_df.at[tag, 'first_mention'] = sort_df[sort_df.tags.apply(lambda x: tag in x)].published[0]"
   ]
  },
  {
   "cell_type": "markdown",
   "metadata": {},
   "source": [
    "По диаграмме распределения видно, что многие теги были «введены» в 2015 и 2020 году. "
   ]
  },
  {
   "cell_type": "code",
   "execution_count": 197,
   "metadata": {},
   "outputs": [
    {
     "data": {
      "text/plain": [
       "<matplotlib.axes._subplots.AxesSubplot at 0x1b234df98>"
      ]
     },
     "execution_count": 197,
     "metadata": {},
     "output_type": "execute_result"
    },
    {
     "data": {
      "image/png": "[encoded data removed]",
      "text/plain": [
       "<Figure size 432x288 with 1 Axes>"
      ]
     },
     "metadata": {
      "needs_background": "light"
     },
     "output_type": "display_data"
    }
   ],
   "source": [
    "pd.to_datetime(flattened_tags_df.first_mention).hist()"
   ]
  },
  {
   "cell_type": "markdown",
   "metadata": {},
   "source": [
    "Посмотрим на эти теги самые популярные теги, которые были введены в каждом году, начиная от 2012."
   ]
  },
  {
   "cell_type": "code",
   "execution_count": 201,
   "metadata": {},
   "outputs": [
    {
     "data": {
      "text/html": [
       "<div>\n",
       "<style scoped>\n",
       "    .dataframe tbody tr th:only-of-type {\n",
       "        vertical-align: middle;\n",
       "    }\n",
       "\n",
       "    .dataframe tbody tr th {\n",
       "        vertical-align: top;\n",
       "    }\n",
       "\n",
       "    .dataframe thead th {\n",
       "        text-align: right;\n",
       "    }\n",
       "</style>\n",
       "<table border=\"1\" class=\"dataframe\">\n",
       "  <thead>\n",
       "    <tr style=\"text-align: right;\">\n",
       "      <th></th>\n",
       "      <th>count</th>\n",
       "      <th>first_mention</th>\n",
       "    </tr>\n",
       "  </thead>\n",
       "  <tbody>\n",
       "    <tr>\n",
       "      <th>москва</th>\n",
       "      <td>25098</td>\n",
       "      <td>2012-09-15 19:20:46+00:00</td>\n",
       "    </tr>\n",
       "    <tr>\n",
       "      <th>шествие</th>\n",
       "      <td>20312</td>\n",
       "      <td>2012-02-04 09:47:55+00:00</td>\n",
       "    </tr>\n",
       "    <tr>\n",
       "      <th>repost</th>\n",
       "      <td>18943</td>\n",
       "      <td>2012-12-13 02:50:50+00:00</td>\n",
       "    </tr>\n",
       "    <tr>\n",
       "      <th>бессмертный</th>\n",
       "      <td>18493</td>\n",
       "      <td>2012-10-29 13:11:38+00:00</td>\n",
       "    </tr>\n",
       "    <tr>\n",
       "      <th>гордостьроссии</th>\n",
       "      <td>11817</td>\n",
       "      <td>2012-05-06 01:58:07+00:00</td>\n",
       "    </tr>\n",
       "    <tr>\n",
       "      <th>lakeland</th>\n",
       "      <td>6738</td>\n",
       "      <td>2012-06-03 05:07:45+00:00</td>\n",
       "    </tr>\n",
       "    <tr>\n",
       "      <th>florida</th>\n",
       "      <td>5365</td>\n",
       "      <td>2012-04-22 03:58:34+00:00</td>\n",
       "    </tr>\n",
       "    <tr>\n",
       "      <th>tampa</th>\n",
       "      <td>3944</td>\n",
       "      <td>2012-09-14 04:40:23+00:00</td>\n",
       "    </tr>\n",
       "    <tr>\n",
       "      <th>polkcounty</th>\n",
       "      <td>3638</td>\n",
       "      <td>2012-02-04 04:03:33+00:00</td>\n",
       "    </tr>\n",
       "    <tr>\n",
       "      <th>orlando</th>\n",
       "      <td>3562</td>\n",
       "      <td>2012-07-17 14:52:07+00:00</td>\n",
       "    </tr>\n",
       "    <tr>\n",
       "      <th>instagood</th>\n",
       "      <td>3505</td>\n",
       "      <td>2012-03-20 01:01:44+00:00</td>\n",
       "    </tr>\n",
       "    <tr>\n",
       "      <th>war</th>\n",
       "      <td>3482</td>\n",
       "      <td>2012-10-19 16:15:11+00:00</td>\n",
       "    </tr>\n",
       "    <tr>\n",
       "      <th>love</th>\n",
       "      <td>3370</td>\n",
       "      <td>2012-08-06 18:47:42+00:00</td>\n",
       "    </tr>\n",
       "    <tr>\n",
       "      <th>music</th>\n",
       "      <td>3307</td>\n",
       "      <td>2012-10-24 19:19:19+00:00</td>\n",
       "    </tr>\n",
       "    <tr>\n",
       "      <th>спб</th>\n",
       "      <td>3231</td>\n",
       "      <td>2012-09-09 11:18:47+00:00</td>\n",
       "    </tr>\n",
       "    <tr>\n",
       "      <th>питер</th>\n",
       "      <td>3118</td>\n",
       "      <td>2012-09-09 11:18:47+00:00</td>\n",
       "    </tr>\n",
       "    <tr>\n",
       "      <th>митинг</th>\n",
       "      <td>2696</td>\n",
       "      <td>2012-02-04 09:25:07+00:00</td>\n",
       "    </tr>\n",
       "    <tr>\n",
       "      <th>winterhaven</th>\n",
       "      <td>2434</td>\n",
       "      <td>2012-09-26 20:38:47+00:00</td>\n",
       "    </tr>\n",
       "    <tr>\n",
       "      <th>photo</th>\n",
       "      <td>2042</td>\n",
       "      <td>2012-11-07 01:54:41+00:00</td>\n",
       "    </tr>\n",
       "    <tr>\n",
       "      <th>thanks</th>\n",
       "      <td>2028</td>\n",
       "      <td>2012-10-09 01:22:45+00:00</td>\n",
       "    </tr>\n",
       "    <tr>\n",
       "      <th>happy</th>\n",
       "      <td>1909</td>\n",
       "      <td>2012-07-25 20:57:06+00:00</td>\n",
       "    </tr>\n",
       "    <tr>\n",
       "      <th>hiphop</th>\n",
       "      <td>1780</td>\n",
       "      <td>2012-11-06 03:24:36+00:00</td>\n",
       "    </tr>\n",
       "    <tr>\n",
       "      <th>photography</th>\n",
       "      <td>1577</td>\n",
       "      <td>2012-04-18 00:18:30+00:00</td>\n",
       "    </tr>\n",
       "    <tr>\n",
       "      <th>photooftheday</th>\n",
       "      <td>1535</td>\n",
       "      <td>2012-02-04 04:03:33+00:00</td>\n",
       "    </tr>\n",
       "    <tr>\n",
       "      <th>followme</th>\n",
       "      <td>1529</td>\n",
       "      <td>2012-06-18 07:53:49+00:00</td>\n",
       "    </tr>\n",
       "    <tr>\n",
       "      <th>art</th>\n",
       "      <td>1515</td>\n",
       "      <td>2012-03-13 18:02:38+00:00</td>\n",
       "    </tr>\n",
       "    <tr>\n",
       "      <th>hillsborough</th>\n",
       "      <td>1487</td>\n",
       "      <td>2012-11-06 20:39:49+00:00</td>\n",
       "    </tr>\n",
       "    <tr>\n",
       "      <th>travel</th>\n",
       "      <td>1435</td>\n",
       "      <td>2012-08-22 15:10:20+00:00</td>\n",
       "    </tr>\n",
       "    <tr>\n",
       "      <th>like</th>\n",
       "      <td>1416</td>\n",
       "      <td>2012-02-04 04:03:33+00:00</td>\n",
       "    </tr>\n",
       "    <tr>\n",
       "      <th>life</th>\n",
       "      <td>1408</td>\n",
       "      <td>2012-01-25 05:34:58+00:00</td>\n",
       "    </tr>\n",
       "    <tr>\n",
       "      <th>...</th>\n",
       "      <td>...</td>\n",
       "      <td>...</td>\n",
       "    </tr>\n",
       "    <tr>\n",
       "      <th>bmw</th>\n",
       "      <td>360</td>\n",
       "      <td>2012-06-25 06:00:32+00:00</td>\n",
       "    </tr>\n",
       "    <tr>\n",
       "      <th>blackandwhite</th>\n",
       "      <td>360</td>\n",
       "      <td>2012-07-21 05:50:43+00:00</td>\n",
       "    </tr>\n",
       "    <tr>\n",
       "      <th>police</th>\n",
       "      <td>356</td>\n",
       "      <td>2012-06-03 21:58:51+00:00</td>\n",
       "    </tr>\n",
       "    <tr>\n",
       "      <th>instamood</th>\n",
       "      <td>350</td>\n",
       "      <td>2012-01-25 05:34:58+00:00</td>\n",
       "    </tr>\n",
       "    <tr>\n",
       "      <th>baby</th>\n",
       "      <td>349</td>\n",
       "      <td>2012-07-27 01:53:37+00:00</td>\n",
       "    </tr>\n",
       "    <tr>\n",
       "      <th>cool</th>\n",
       "      <td>343</td>\n",
       "      <td>2012-09-24 17:44:05+00:00</td>\n",
       "    </tr>\n",
       "    <tr>\n",
       "      <th>tbt</th>\n",
       "      <td>342</td>\n",
       "      <td>2012-07-26 20:05:12+00:00</td>\n",
       "    </tr>\n",
       "    <tr>\n",
       "      <th>hookah</th>\n",
       "      <td>338</td>\n",
       "      <td>2012-06-21 13:38:32+00:00</td>\n",
       "    </tr>\n",
       "    <tr>\n",
       "      <th>work</th>\n",
       "      <td>335</td>\n",
       "      <td>2012-11-07 01:54:41+00:00</td>\n",
       "    </tr>\n",
       "    <tr>\n",
       "      <th>clean</th>\n",
       "      <td>324</td>\n",
       "      <td>2012-09-25 01:29:12+00:00</td>\n",
       "    </tr>\n",
       "    <tr>\n",
       "      <th>polkstreet</th>\n",
       "      <td>321</td>\n",
       "      <td>2012-02-01 02:07:16+00:00</td>\n",
       "    </tr>\n",
       "    <tr>\n",
       "      <th>sunset</th>\n",
       "      <td>318</td>\n",
       "      <td>2012-02-01 02:07:16+00:00</td>\n",
       "    </tr>\n",
       "    <tr>\n",
       "      <th>центр</th>\n",
       "      <td>313</td>\n",
       "      <td>2012-05-21 11:02:34+00:00</td>\n",
       "    </tr>\n",
       "    <tr>\n",
       "      <th>sony</th>\n",
       "      <td>305</td>\n",
       "      <td>2012-11-15 18:26:16+00:00</td>\n",
       "    </tr>\n",
       "    <tr>\n",
       "      <th>hainescity</th>\n",
       "      <td>299</td>\n",
       "      <td>2012-12-31 21:00:13+00:00</td>\n",
       "    </tr>\n",
       "    <tr>\n",
       "      <th>immortal</th>\n",
       "      <td>296</td>\n",
       "      <td>2012-10-29 13:11:38+00:00</td>\n",
       "    </tr>\n",
       "    <tr>\n",
       "      <th>community</th>\n",
       "      <td>296</td>\n",
       "      <td>2012-02-04 09:47:55+00:00</td>\n",
       "    </tr>\n",
       "    <tr>\n",
       "      <th>photoshoot</th>\n",
       "      <td>283</td>\n",
       "      <td>2012-12-23 07:35:36+00:00</td>\n",
       "    </tr>\n",
       "    <tr>\n",
       "      <th>jewelry</th>\n",
       "      <td>282</td>\n",
       "      <td>2012-12-21 03:50:00+00:00</td>\n",
       "    </tr>\n",
       "    <tr>\n",
       "      <th>green</th>\n",
       "      <td>276</td>\n",
       "      <td>2012-06-16 07:50:23+00:00</td>\n",
       "    </tr>\n",
       "    <tr>\n",
       "      <th>centralfl</th>\n",
       "      <td>275</td>\n",
       "      <td>2012-06-23 20:12:33+00:00</td>\n",
       "    </tr>\n",
       "    <tr>\n",
       "      <th>high</th>\n",
       "      <td>273</td>\n",
       "      <td>2012-09-08 15:45:01+00:00</td>\n",
       "    </tr>\n",
       "    <tr>\n",
       "      <th>chevy</th>\n",
       "      <td>272</td>\n",
       "      <td>2012-12-08 23:43:02+00:00</td>\n",
       "    </tr>\n",
       "    <tr>\n",
       "      <th>fireworks</th>\n",
       "      <td>270</td>\n",
       "      <td>2012-07-05 03:13:58+00:00</td>\n",
       "    </tr>\n",
       "    <tr>\n",
       "      <th>vinyl</th>\n",
       "      <td>270</td>\n",
       "      <td>2012-03-07 08:20:03+00:00</td>\n",
       "    </tr>\n",
       "    <tr>\n",
       "      <th>inspiration</th>\n",
       "      <td>268</td>\n",
       "      <td>2012-05-18 17:59:03+00:00</td>\n",
       "    </tr>\n",
       "    <tr>\n",
       "      <th>bestoftheday</th>\n",
       "      <td>263</td>\n",
       "      <td>2012-01-25 05:34:58+00:00</td>\n",
       "    </tr>\n",
       "    <tr>\n",
       "      <th>good</th>\n",
       "      <td>257</td>\n",
       "      <td>2012-08-25 18:09:46+00:00</td>\n",
       "    </tr>\n",
       "    <tr>\n",
       "      <th>lol</th>\n",
       "      <td>254</td>\n",
       "      <td>2012-09-08 15:45:01+00:00</td>\n",
       "    </tr>\n",
       "    <tr>\n",
       "      <th>религия</th>\n",
       "      <td>252</td>\n",
       "      <td>2012-09-09 11:18:47+00:00</td>\n",
       "    </tr>\n",
       "  </tbody>\n",
       "</table>\n",
       "<p>147 rows × 2 columns</p>\n",
       "</div>"
      ],
      "text/plain": [
       "                count              first_mention\n",
       "москва          25098  2012-09-15 19:20:46+00:00\n",
       "шествие         20312  2012-02-04 09:47:55+00:00\n",
       "repost          18943  2012-12-13 02:50:50+00:00\n",
       "бессмертный     18493  2012-10-29 13:11:38+00:00\n",
       "гордостьроссии  11817  2012-05-06 01:58:07+00:00\n",
       "lakeland         6738  2012-06-03 05:07:45+00:00\n",
       "florida          5365  2012-04-22 03:58:34+00:00\n",
       "tampa            3944  2012-09-14 04:40:23+00:00\n",
       "polkcounty       3638  2012-02-04 04:03:33+00:00\n",
       "orlando          3562  2012-07-17 14:52:07+00:00\n",
       "instagood        3505  2012-03-20 01:01:44+00:00\n",
       "war              3482  2012-10-19 16:15:11+00:00\n",
       "love             3370  2012-08-06 18:47:42+00:00\n",
       "music            3307  2012-10-24 19:19:19+00:00\n",
       "спб              3231  2012-09-09 11:18:47+00:00\n",
       "питер            3118  2012-09-09 11:18:47+00:00\n",
       "митинг           2696  2012-02-04 09:25:07+00:00\n",
       "winterhaven      2434  2012-09-26 20:38:47+00:00\n",
       "photo            2042  2012-11-07 01:54:41+00:00\n",
       "thanks           2028  2012-10-09 01:22:45+00:00\n",
       "happy            1909  2012-07-25 20:57:06+00:00\n",
       "hiphop           1780  2012-11-06 03:24:36+00:00\n",
       "photography      1577  2012-04-18 00:18:30+00:00\n",
       "photooftheday    1535  2012-02-04 04:03:33+00:00\n",
       "followme         1529  2012-06-18 07:53:49+00:00\n",
       "art              1515  2012-03-13 18:02:38+00:00\n",
       "hillsborough     1487  2012-11-06 20:39:49+00:00\n",
       "travel           1435  2012-08-22 15:10:20+00:00\n",
       "like             1416  2012-02-04 04:03:33+00:00\n",
       "life             1408  2012-01-25 05:34:58+00:00\n",
       "...               ...                        ...\n",
       "bmw               360  2012-06-25 06:00:32+00:00\n",
       "blackandwhite     360  2012-07-21 05:50:43+00:00\n",
       "police            356  2012-06-03 21:58:51+00:00\n",
       "instamood         350  2012-01-25 05:34:58+00:00\n",
       "baby              349  2012-07-27 01:53:37+00:00\n",
       "cool              343  2012-09-24 17:44:05+00:00\n",
       "tbt               342  2012-07-26 20:05:12+00:00\n",
       "hookah            338  2012-06-21 13:38:32+00:00\n",
       "work              335  2012-11-07 01:54:41+00:00\n",
       "clean             324  2012-09-25 01:29:12+00:00\n",
       "polkstreet        321  2012-02-01 02:07:16+00:00\n",
       "sunset            318  2012-02-01 02:07:16+00:00\n",
       "центр             313  2012-05-21 11:02:34+00:00\n",
       "sony              305  2012-11-15 18:26:16+00:00\n",
       "hainescity        299  2012-12-31 21:00:13+00:00\n",
       "immortal          296  2012-10-29 13:11:38+00:00\n",
       "community         296  2012-02-04 09:47:55+00:00\n",
       "photoshoot        283  2012-12-23 07:35:36+00:00\n",
       "jewelry           282  2012-12-21 03:50:00+00:00\n",
       "green             276  2012-06-16 07:50:23+00:00\n",
       "centralfl         275  2012-06-23 20:12:33+00:00\n",
       "high              273  2012-09-08 15:45:01+00:00\n",
       "chevy             272  2012-12-08 23:43:02+00:00\n",
       "fireworks         270  2012-07-05 03:13:58+00:00\n",
       "vinyl             270  2012-03-07 08:20:03+00:00\n",
       "inspiration       268  2012-05-18 17:59:03+00:00\n",
       "bestoftheday      263  2012-01-25 05:34:58+00:00\n",
       "good              257  2012-08-25 18:09:46+00:00\n",
       "lol               254  2012-09-08 15:45:01+00:00\n",
       "религия           252  2012-09-09 11:18:47+00:00\n",
       "\n",
       "[147 rows x 2 columns]"
      ]
     },
     "execution_count": 201,
     "metadata": {},
     "output_type": "execute_result"
    }
   ],
   "source": [
    "flattened_tags_df[flattened_tags_df.first_mention.dt.year == 2012]"
   ]
  },
  {
   "cell_type": "code",
   "execution_count": null,
   "metadata": {},
   "outputs": [],
   "source": []
  },
  {
   "cell_type": "code",
   "execution_count": null,
   "metadata": {},
   "outputs": [],
   "source": []
  },
  {
   "cell_type": "code",
   "execution_count": null,
   "metadata": {},
   "outputs": [],
   "source": []
  },
  {
   "cell_type": "code",
   "execution_count": null,
   "metadata": {},
   "outputs": [],
   "source": []
  },
  {
   "cell_type": "code",
   "execution_count": null,
   "metadata": {},
   "outputs": [],
   "source": []
  },
  {
   "cell_type": "code",
   "execution_count": null,
   "metadata": {},
   "outputs": [],
   "source": []
  }
 ],
 "metadata": {
  "kernelspec": {
   "display_name": "Python 3",
   "language": "python",
   "name": "python3"
  },
  "language_info": {
   "codemirror_mode": {
    "name": "ipython",
    "version": 3
   },
   "file_extension": ".py",
   "mimetype": "text/x-python",
   "name": "python",
   "nbconvert_exporter": "python",
   "pygments_lexer": "ipython3",
   "version": "3.7.2"
  }
 },
 "nbformat": 4,
 "nbformat_minor": 1
}
