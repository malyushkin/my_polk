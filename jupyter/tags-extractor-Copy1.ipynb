{
 "cells": [
  {
   "cell_type": "markdown",
   "metadata": {},
   "source": [
    "# desc ..."
   ]
  },
  {
   "cell_type": "code",
   "execution_count": 1,
   "metadata": {
    "pycharm": {
     "is_executing": false
    }
   },
   "outputs": [],
   "source": [
    "import numpy as np\n",
    "import pandas as pd"
   ]
  },
  {
   "cell_type": "code",
   "execution_count": 2,
   "metadata": {
    "pycharm": {
     "is_executing": false
    }
   },
   "outputs": [],
   "source": [
    "df = pd.read_csv('../data/instagram_post_04-05-2020.csv', low_memory=False)"
   ]
  },
  {
   "cell_type": "code",
   "execution_count": 3,
   "metadata": {
    "pycharm": {
     "is_executing": false
    }
   },
   "outputs": [
    {
     "data": {
      "text/html": [
       "<div>\n",
       "<style scoped>\n",
       "    .dataframe tbody tr th:only-of-type {\n",
       "        vertical-align: middle;\n",
       "    }\n",
       "\n",
       "    .dataframe tbody tr th {\n",
       "        vertical-align: top;\n",
       "    }\n",
       "\n",
       "    .dataframe thead th {\n",
       "        text-align: right;\n",
       "    }\n",
       "</style>\n",
       "<table border=\"1\" class=\"dataframe\">\n",
       "  <thead>\n",
       "    <tr style=\"text-align: right;\">\n",
       "      <th></th>\n",
       "      <th>id</th>\n",
       "      <th>owner_id</th>\n",
       "      <th>shortcode</th>\n",
       "      <th>post_url</th>\n",
       "      <th>display_url</th>\n",
       "      <th>published</th>\n",
       "      <th>caption</th>\n",
       "      <th>likes_count</th>\n",
       "      <th>comments_count</th>\n",
       "      <th>comments</th>\n",
       "      <th>location</th>\n",
       "      <th>is_video</th>\n",
       "      <th>video_view_count</th>\n",
       "      <th>inst_caption</th>\n",
       "      <th>query</th>\n",
       "      <th>note</th>\n",
       "      <th>created_at</th>\n",
       "      <th>status</th>\n",
       "    </tr>\n",
       "  </thead>\n",
       "  <tbody>\n",
       "    <tr>\n",
       "      <th>0</th>\n",
       "      <td>2290507756257899980</td>\n",
       "      <td>3.385755e+10</td>\n",
       "      <td>B_JhKsvB3XM</td>\n",
       "      <td>https://www.instagram.com/p/B_JhKsvB3XM/</td>\n",
       "      <td>https://instagram.fhel5-1.fna.fbcdn.net/v/t51....</td>\n",
       "      <td>2020-04-19 04:17:04+00</td>\n",
       "      <td>#75летпобеды  #победа75  #мыпомним  #великаяпо...</td>\n",
       "      <td>41</td>\n",
       "      <td>0</td>\n",
       "      <td>NaN</td>\n",
       "      <td>NaN</td>\n",
       "      <td>False</td>\n",
       "      <td>NaN</td>\n",
       "      <td>Photo by Бакрчинский СК on April 18, 2020. Ima...</td>\n",
       "      <td>#бессмертныйполк</td>\n",
       "      <td>NaN</td>\n",
       "      <td>2020-04-30 03:05:05.305154+00</td>\n",
       "      <td>True</td>\n",
       "    </tr>\n",
       "    <tr>\n",
       "      <th>1</th>\n",
       "      <td>2283363816720116246</td>\n",
       "      <td>3.272358e+10</td>\n",
       "      <td>B-wI0sklSoW</td>\n",
       "      <td>https://www.instagram.com/p/B-wI0sklSoW/</td>\n",
       "      <td>https://instagram.fhel5-1.fna.fbcdn.net/v/t51....</td>\n",
       "      <td>2020-04-09 07:43:20+00</td>\n",
       "      <td>«Мой дедушка - герой!» #япомнюягоржусь #деньпо...</td>\n",
       "      <td>9</td>\n",
       "      <td>0</td>\n",
       "      <td>NaN</td>\n",
       "      <td>NaN</td>\n",
       "      <td>False</td>\n",
       "      <td>NaN</td>\n",
       "      <td>Photo by Детский сад №9 «Ромашка» on April 09,...</td>\n",
       "      <td>#бессмертныйполк</td>\n",
       "      <td>NaN</td>\n",
       "      <td>2020-04-30 03:05:07.166014+00</td>\n",
       "      <td>True</td>\n",
       "    </tr>\n",
       "    <tr>\n",
       "      <th>2</th>\n",
       "      <td>2283364236083479227</td>\n",
       "      <td>3.272358e+10</td>\n",
       "      <td>B-wI6zIlkK7</td>\n",
       "      <td>https://www.instagram.com/p/B-wI6zIlkK7/</td>\n",
       "      <td>https://instagram.fhel5-1.fna.fbcdn.net/v/t51....</td>\n",
       "      <td>2020-04-09 07:44:10+00</td>\n",
       "      <td>«Мой дедушка - герой!» #япомнюягоржусь #деньпо...</td>\n",
       "      <td>10</td>\n",
       "      <td>0</td>\n",
       "      <td>NaN</td>\n",
       "      <td>NaN</td>\n",
       "      <td>False</td>\n",
       "      <td>NaN</td>\n",
       "      <td>Photo by Детский сад №9 «Ромашка» in Elista. I...</td>\n",
       "      <td>#бессмертныйполк</td>\n",
       "      <td>NaN</td>\n",
       "      <td>2020-04-30 03:05:07.165451+00</td>\n",
       "      <td>True</td>\n",
       "    </tr>\n",
       "    <tr>\n",
       "      <th>3</th>\n",
       "      <td>2283370574013238191</td>\n",
       "      <td>2.753139e+09</td>\n",
       "      <td>B-wKXByo4uv</td>\n",
       "      <td>https://www.instagram.com/p/B-wKXByo4uv/</td>\n",
       "      <td>https://instagram.fhel5-1.fna.fbcdn.net/v/t51....</td>\n",
       "      <td>2020-04-09 07:56:45+00</td>\n",
       "      <td>Вышел в свет новый номер газеты «Каширские изв...</td>\n",
       "      <td>94</td>\n",
       "      <td>1</td>\n",
       "      <td>NaN</td>\n",
       "      <td>NaN</td>\n",
       "      <td>False</td>\n",
       "      <td>NaN</td>\n",
       "      <td>Photo by Каширское информагентство on April 09...</td>\n",
       "      <td>#бессмертныйполк</td>\n",
       "      <td>NaN</td>\n",
       "      <td>2020-04-30 03:05:07.164758+00</td>\n",
       "      <td>True</td>\n",
       "    </tr>\n",
       "    <tr>\n",
       "      <th>4</th>\n",
       "      <td>2283365441896285449</td>\n",
       "      <td>6.646030e+09</td>\n",
       "      <td>B-wJMWIoYUJ</td>\n",
       "      <td>https://www.instagram.com/p/B-wJMWIoYUJ/</td>\n",
       "      <td>https://instagram.fhel5-1.fna.fbcdn.net/v/t51....</td>\n",
       "      <td>2020-04-09 07:57:34+00</td>\n",
       "      <td>Вот что получилось у меня после первых прислан...</td>\n",
       "      <td>8</td>\n",
       "      <td>0</td>\n",
       "      <td>NaN</td>\n",
       "      <td>NaN</td>\n",
       "      <td>True</td>\n",
       "      <td>41.0</td>\n",
       "      <td>NaN</td>\n",
       "      <td>#бессмертныйполк</td>\n",
       "      <td>NaN</td>\n",
       "      <td>2020-04-30 03:05:07.16411+00</td>\n",
       "      <td>True</td>\n",
       "    </tr>\n",
       "  </tbody>\n",
       "</table>\n",
       "</div>"
      ],
      "text/plain": [
       "                    id      owner_id    shortcode  \\\n",
       "0  2290507756257899980  3.385755e+10  B_JhKsvB3XM   \n",
       "1  2283363816720116246  3.272358e+10  B-wI0sklSoW   \n",
       "2  2283364236083479227  3.272358e+10  B-wI6zIlkK7   \n",
       "3  2283370574013238191  2.753139e+09  B-wKXByo4uv   \n",
       "4  2283365441896285449  6.646030e+09  B-wJMWIoYUJ   \n",
       "\n",
       "                                   post_url  \\\n",
       "0  https://www.instagram.com/p/B_JhKsvB3XM/   \n",
       "1  https://www.instagram.com/p/B-wI0sklSoW/   \n",
       "2  https://www.instagram.com/p/B-wI6zIlkK7/   \n",
       "3  https://www.instagram.com/p/B-wKXByo4uv/   \n",
       "4  https://www.instagram.com/p/B-wJMWIoYUJ/   \n",
       "\n",
       "                                         display_url               published  \\\n",
       "0  https://instagram.fhel5-1.fna.fbcdn.net/v/t51....  2020-04-19 04:17:04+00   \n",
       "1  https://instagram.fhel5-1.fna.fbcdn.net/v/t51....  2020-04-09 07:43:20+00   \n",
       "2  https://instagram.fhel5-1.fna.fbcdn.net/v/t51....  2020-04-09 07:44:10+00   \n",
       "3  https://instagram.fhel5-1.fna.fbcdn.net/v/t51....  2020-04-09 07:56:45+00   \n",
       "4  https://instagram.fhel5-1.fna.fbcdn.net/v/t51....  2020-04-09 07:57:34+00   \n",
       "\n",
       "                                             caption likes_count  \\\n",
       "0  #75летпобеды  #победа75  #мыпомним  #великаяпо...          41   \n",
       "1  «Мой дедушка - герой!» #япомнюягоржусь #деньпо...           9   \n",
       "2  «Мой дедушка - герой!» #япомнюягоржусь #деньпо...          10   \n",
       "3  Вышел в свет новый номер газеты «Каширские изв...          94   \n",
       "4  Вот что получилось у меня после первых прислан...           8   \n",
       "\n",
       "  comments_count  comments location is_video  video_view_count  \\\n",
       "0              0       NaN      NaN    False               NaN   \n",
       "1              0       NaN      NaN    False               NaN   \n",
       "2              0       NaN      NaN    False               NaN   \n",
       "3              1       NaN      NaN    False               NaN   \n",
       "4              0       NaN      NaN     True              41.0   \n",
       "\n",
       "                                        inst_caption             query  note  \\\n",
       "0  Photo by Бакрчинский СК on April 18, 2020. Ima...  #бессмертныйполк   NaN   \n",
       "1  Photo by Детский сад №9 «Ромашка» on April 09,...  #бессмертныйполк   NaN   \n",
       "2  Photo by Детский сад №9 «Ромашка» in Elista. I...  #бессмертныйполк   NaN   \n",
       "3  Photo by Каширское информагентство on April 09...  #бессмертныйполк   NaN   \n",
       "4                                                NaN  #бессмертныйполк   NaN   \n",
       "\n",
       "                      created_at status  \n",
       "0  2020-04-30 03:05:05.305154+00   True  \n",
       "1  2020-04-30 03:05:07.166014+00   True  \n",
       "2  2020-04-30 03:05:07.165451+00   True  \n",
       "3  2020-04-30 03:05:07.164758+00   True  \n",
       "4   2020-04-30 03:05:07.16411+00   True  "
      ]
     },
     "execution_count": 3,
     "metadata": {},
     "output_type": "execute_result"
    }
   ],
   "source": [
    "df.head()"
   ]
  },
  {
   "cell_type": "code",
   "execution_count": 4,
   "metadata": {
    "pycharm": {
     "is_executing": false
    }
   },
   "outputs": [
    {
     "data": {
      "text/html": [
       "<div>\n",
       "<style scoped>\n",
       "    .dataframe tbody tr th:only-of-type {\n",
       "        vertical-align: middle;\n",
       "    }\n",
       "\n",
       "    .dataframe tbody tr th {\n",
       "        vertical-align: top;\n",
       "    }\n",
       "\n",
       "    .dataframe thead th {\n",
       "        text-align: right;\n",
       "    }\n",
       "</style>\n",
       "<table border=\"1\" class=\"dataframe\">\n",
       "  <thead>\n",
       "    <tr style=\"text-align: right;\">\n",
       "      <th></th>\n",
       "      <th>id</th>\n",
       "      <th>caption</th>\n",
       "      <th>tags</th>\n",
       "    </tr>\n",
       "  </thead>\n",
       "  <tbody>\n",
       "    <tr>\n",
       "      <th>0</th>\n",
       "      <td>2290507756257899980</td>\n",
       "      <td>#75летпобеды  #победа75  #мыпомним  #великаяпо...</td>\n",
       "      <td>NaN</td>\n",
       "    </tr>\n",
       "    <tr>\n",
       "      <th>1</th>\n",
       "      <td>2283363816720116246</td>\n",
       "      <td>«Мой дедушка - герой!» #япомнюягоржусь #деньпо...</td>\n",
       "      <td>NaN</td>\n",
       "    </tr>\n",
       "    <tr>\n",
       "      <th>2</th>\n",
       "      <td>2283364236083479227</td>\n",
       "      <td>«Мой дедушка - герой!» #япомнюягоржусь #деньпо...</td>\n",
       "      <td>NaN</td>\n",
       "    </tr>\n",
       "    <tr>\n",
       "      <th>3</th>\n",
       "      <td>2283370574013238191</td>\n",
       "      <td>Вышел в свет новый номер газеты «Каширские изв...</td>\n",
       "      <td>NaN</td>\n",
       "    </tr>\n",
       "    <tr>\n",
       "      <th>4</th>\n",
       "      <td>2283365441896285449</td>\n",
       "      <td>Вот что получилось у меня после первых прислан...</td>\n",
       "      <td>NaN</td>\n",
       "    </tr>\n",
       "  </tbody>\n",
       "</table>\n",
       "</div>"
      ],
      "text/plain": [
       "                    id                                            caption  \\\n",
       "0  2290507756257899980  #75летпобеды  #победа75  #мыпомним  #великаяпо...   \n",
       "1  2283363816720116246  «Мой дедушка - герой!» #япомнюягоржусь #деньпо...   \n",
       "2  2283364236083479227  «Мой дедушка - герой!» #япомнюягоржусь #деньпо...   \n",
       "3  2283370574013238191  Вышел в свет новый номер газеты «Каширские изв...   \n",
       "4  2283365441896285449  Вот что получилось у меня после первых прислан...   \n",
       "\n",
       "   tags  \n",
       "0   NaN  \n",
       "1   NaN  \n",
       "2   NaN  \n",
       "3   NaN  \n",
       "4   NaN  "
      ]
     },
     "execution_count": 4,
     "metadata": {},
     "output_type": "execute_result"
    }
   ],
   "source": [
    "df = df[['id', 'caption']]\n",
    "df.dropna(subset=['caption'], inplace=True)\n",
    "df.insert(2, 'tags', np.nan) \n",
    "df.head()"
   ]
  },
  {
   "cell_type": "code",
   "execution_count": 5,
   "metadata": {
    "pycharm": {
     "is_executing": false
    }
   },
   "outputs": [],
   "source": [
    "import re"
   ]
  },
  {
   "cell_type": "code",
   "execution_count": 6,
   "metadata": {
    "pycharm": {
     "is_executing": false
    }
   },
   "outputs": [],
   "source": [
    "text = df.loc[0, 'caption']"
   ]
  },
  {
   "cell_type": "code",
   "execution_count": 7,
   "metadata": {
    "pycharm": {
     "is_executing": false
    }
   },
   "outputs": [
    {
     "data": {
      "text/plain": [
       "['75летпобеды',\n",
       " 'победа75',\n",
       " 'мыпомним',\n",
       " 'великаяпобеда',\n",
       " 'бессмертныйполк',\n",
       " 'помнимгордимся',\n",
       " 'ветераны',\n",
       " 'культураонлайн',\n",
       " '100летиетасср',\n",
       " 'культурныйтатарстан',\n",
       " 'айдадомой',\n",
       " 'фотоальбомпобеды']"
      ]
     },
     "execution_count": 7,
     "metadata": {},
     "output_type": "execute_result"
    }
   ],
   "source": [
    "[tag.lower() for tag in re.findall('#(\\w+)', text)]"
   ]
  },
  {
   "cell_type": "code",
   "execution_count": 8,
   "metadata": {
    "pycharm": {
     "is_executing": false
    }
   },
   "outputs": [],
   "source": [
    "df['tags'] = df.caption.apply(lambda caption: [tag.lower() for tag in re.findall('#(\\w+)', caption)])"
   ]
  },
  {
   "cell_type": "code",
   "execution_count": 9,
   "metadata": {
    "pycharm": {
     "is_executing": false
    }
   },
   "outputs": [
    {
     "data": {
      "text/html": [
       "<div>\n",
       "<style scoped>\n",
       "    .dataframe tbody tr th:only-of-type {\n",
       "        vertical-align: middle;\n",
       "    }\n",
       "\n",
       "    .dataframe tbody tr th {\n",
       "        vertical-align: top;\n",
       "    }\n",
       "\n",
       "    .dataframe thead th {\n",
       "        text-align: right;\n",
       "    }\n",
       "</style>\n",
       "<table border=\"1\" class=\"dataframe\">\n",
       "  <thead>\n",
       "    <tr style=\"text-align: right;\">\n",
       "      <th></th>\n",
       "      <th>id</th>\n",
       "      <th>caption</th>\n",
       "      <th>tags</th>\n",
       "    </tr>\n",
       "  </thead>\n",
       "  <tbody>\n",
       "    <tr>\n",
       "      <th>0</th>\n",
       "      <td>2290507756257899980</td>\n",
       "      <td>#75летпобеды  #победа75  #мыпомним  #великаяпо...</td>\n",
       "      <td>[75летпобеды, победа75, мыпомним, великаяпобед...</td>\n",
       "    </tr>\n",
       "    <tr>\n",
       "      <th>1</th>\n",
       "      <td>2283363816720116246</td>\n",
       "      <td>«Мой дедушка - герой!» #япомнюягоржусь #деньпо...</td>\n",
       "      <td>[япомнюягоржусь, деньпобеды, 9мая, бессмертный...</td>\n",
       "    </tr>\n",
       "    <tr>\n",
       "      <th>2</th>\n",
       "      <td>2283364236083479227</td>\n",
       "      <td>«Мой дедушка - герой!» #япомнюягоржусь #деньпо...</td>\n",
       "      <td>[япомнюягоржусь, деньпобеды, 9мая, бессмертный...</td>\n",
       "    </tr>\n",
       "    <tr>\n",
       "      <th>3</th>\n",
       "      <td>2283370574013238191</td>\n",
       "      <td>Вышел в свет новый номер газеты «Каширские изв...</td>\n",
       "      <td>[каширскоеиа, кашира, подмосковье, вкурсе2020,...</td>\n",
       "    </tr>\n",
       "    <tr>\n",
       "      <th>4</th>\n",
       "      <td>2283365441896285449</td>\n",
       "      <td>Вот что получилось у меня после первых прислан...</td>\n",
       "      <td>[вокальнаястудиядебют, флешмоб2020, бессмертны...</td>\n",
       "    </tr>\n",
       "    <tr>\n",
       "      <th>5</th>\n",
       "      <td>2283379684452594602</td>\n",
       "      <td>Приближается великая дата: \"75 лет Великой Поб...</td>\n",
       "      <td>[бессмертныйполк, самоизоляция, победа, бессме...</td>\n",
       "    </tr>\n",
       "    <tr>\n",
       "      <th>6</th>\n",
       "      <td>2283325058959491394</td>\n",
       "      <td>#Ветерансомной #Бессмертныйполк\\n #Кайелло\\n#Л...</td>\n",
       "      <td>[ветерансомной, бессмертныйполк, кайелло, ливан]</td>\n",
       "    </tr>\n",
       "    <tr>\n",
       "      <th>7</th>\n",
       "      <td>2283379989344439749</td>\n",
       "      <td>Сегодня 9 апреля 2020 год. До празднования 75-...</td>\n",
       "      <td>[9мая, герои, подвиги, бессмертныйполк]</td>\n",
       "    </tr>\n",
       "    <tr>\n",
       "      <th>8</th>\n",
       "      <td>2283382627486261208</td>\n",
       "      <td>ПАРАД ПОБЕДЫ СОСТОИТСЯ! 🎉\\nВ связи с пандемией...</td>\n",
       "      <td>[фотосалонсемья, бессмертныйполк, 9мая]</td>\n",
       "    </tr>\n",
       "    <tr>\n",
       "      <th>9</th>\n",
       "      <td>2283387217621815872</td>\n",
       "      <td>#бессмертныйполк #үлемсезполк #75летпобеды \\n#...</td>\n",
       "      <td>[бессмертныйполк, үлемсезполк, 75летпобеды, бо...</td>\n",
       "    </tr>\n",
       "  </tbody>\n",
       "</table>\n",
       "</div>"
      ],
      "text/plain": [
       "                    id                                            caption  \\\n",
       "0  2290507756257899980  #75летпобеды  #победа75  #мыпомним  #великаяпо...   \n",
       "1  2283363816720116246  «Мой дедушка - герой!» #япомнюягоржусь #деньпо...   \n",
       "2  2283364236083479227  «Мой дедушка - герой!» #япомнюягоржусь #деньпо...   \n",
       "3  2283370574013238191  Вышел в свет новый номер газеты «Каширские изв...   \n",
       "4  2283365441896285449  Вот что получилось у меня после первых прислан...   \n",
       "5  2283379684452594602  Приближается великая дата: \"75 лет Великой Поб...   \n",
       "6  2283325058959491394  #Ветерансомной #Бессмертныйполк\\n #Кайелло\\n#Л...   \n",
       "7  2283379989344439749  Сегодня 9 апреля 2020 год. До празднования 75-...   \n",
       "8  2283382627486261208  ПАРАД ПОБЕДЫ СОСТОИТСЯ! 🎉\\nВ связи с пандемией...   \n",
       "9  2283387217621815872  #бессмертныйполк #үлемсезполк #75летпобеды \\n#...   \n",
       "\n",
       "                                                tags  \n",
       "0  [75летпобеды, победа75, мыпомним, великаяпобед...  \n",
       "1  [япомнюягоржусь, деньпобеды, 9мая, бессмертный...  \n",
       "2  [япомнюягоржусь, деньпобеды, 9мая, бессмертный...  \n",
       "3  [каширскоеиа, кашира, подмосковье, вкурсе2020,...  \n",
       "4  [вокальнаястудиядебют, флешмоб2020, бессмертны...  \n",
       "5  [бессмертныйполк, самоизоляция, победа, бессме...  \n",
       "6   [ветерансомной, бессмертныйполк, кайелло, ливан]  \n",
       "7            [9мая, герои, подвиги, бессмертныйполк]  \n",
       "8            [фотосалонсемья, бессмертныйполк, 9мая]  \n",
       "9  [бессмертныйполк, үлемсезполк, 75летпобеды, бо...  "
      ]
     },
     "execution_count": 9,
     "metadata": {},
     "output_type": "execute_result"
    }
   ],
   "source": [
    "df.head(10)"
   ]
  },
  {
   "cell_type": "code",
   "execution_count": 10,
   "metadata": {},
   "outputs": [
    {
     "data": {
      "text/plain": [
       "id         object\n",
       "caption    object\n",
       "tags       object\n",
       "dtype: object"
      ]
     },
     "execution_count": 10,
     "metadata": {},
     "output_type": "execute_result"
    }
   ],
   "source": [
    "df.dtypes"
   ]
  },
  {
   "cell_type": "code",
   "execution_count": 11,
   "metadata": {},
   "outputs": [
    {
     "data": {
      "text/plain": [
       "6720"
      ]
     },
     "execution_count": 11,
     "metadata": {},
     "output_type": "execute_result"
    }
   ],
   "source": [
    "len(df[df['tags'].str.len() == 0])"
   ]
  },
  {
   "cell_type": "code",
   "execution_count": 12,
   "metadata": {},
   "outputs": [
    {
     "data": {
      "text/plain": [
       "(183928, 3)"
      ]
     },
     "execution_count": 12,
     "metadata": {},
     "output_type": "execute_result"
    }
   ],
   "source": [
    "df.shape"
   ]
  },
  {
   "cell_type": "code",
   "execution_count": 13,
   "metadata": {},
   "outputs": [],
   "source": [
    "df = df[df['tags'].str.len() != 0]"
   ]
  },
  {
   "cell_type": "code",
   "execution_count": 73,
   "metadata": {},
   "outputs": [
    {
     "data": {
      "text/plain": [
       "(177208, 3)"
      ]
     },
     "execution_count": 73,
     "metadata": {},
     "output_type": "execute_result"
    }
   ],
   "source": [
    "df.shape"
   ]
  },
  {
   "cell_type": "markdown",
   "metadata": {},
   "source": [
    "# Все теги"
   ]
  },
  {
   "cell_type": "code",
   "execution_count": 74,
   "metadata": {},
   "outputs": [],
   "source": [
    "flattened_tags_df = pd.Series([tag for tag_list in df.tags for tag in tag_list])"
   ]
  },
  {
   "cell_type": "code",
   "execution_count": null,
   "metadata": {},
   "outputs": [],
   "source": [
    "flattened_tags_df.nunique()"
   ]
  },
  {
   "cell_type": "code",
   "execution_count": 151,
   "metadata": {
    "scrolled": true
   },
   "outputs": [
    {
     "data": {
      "text/plain": [
       "<matplotlib.axes._subplots.AxesSubplot at 0x1a471d0c18>"
      ]
     },
     "execution_count": 151,
     "metadata": {},
     "output_type": "execute_result"
    },
    {
     "data": {
      "image/png": "[encoded data removed]",
      "text/plain": [
       "<Figure size 432x288 with 1 Axes>"
      ]
     },
     "metadata": {
      "needs_background": "light"
     },
     "output_type": "display_data"
    }
   ],
   "source": [
    "flattened_tags_df.value_counts(normalize=False)[:15].plot(\n",
    "    kind='barh',\n",
    "    grid=True,\n",
    "    colormap='tab20b'\n",
    ")"
   ]
  },
  {
   "cell_type": "markdown",
   "metadata": {
    "pycharm": {
     "is_executing": true
    }
   },
   "source": [
    "# Теги по кол-ву"
   ]
  },
  {
   "cell_type": "code",
   "execution_count": 81,
   "metadata": {
    "pycharm": {
     "is_executing": true
    }
   },
   "outputs": [
    {
     "data": {
      "text/plain": [
       "count    118484.000000\n",
       "mean         12.077234\n",
       "std         390.963640\n",
       "min           1.000000\n",
       "25%           1.000000\n",
       "50%           1.000000\n",
       "75%           3.000000\n",
       "max       90510.000000\n",
       "dtype: float64"
      ]
     },
     "execution_count": 81,
     "metadata": {},
     "output_type": "execute_result"
    }
   ],
   "source": [
    "flattened_tags_df.value_counts().describe()"
   ]
  },
  {
   "cell_type": "code",
   "execution_count": null,
   "metadata": {},
   "outputs": [],
   "source": []
  },
  {
   "cell_type": "code",
   "execution_count": null,
   "metadata": {
    "pycharm": {
     "is_executing": true
    }
   },
   "outputs": [],
   "source": []
  }
 ],
 "metadata": {
  "kernelspec": {
   "display_name": "Python 3",
   "language": "python",
   "name": "python3"
  },
  "language_info": {
   "codemirror_mode": {
    "name": "ipython",
    "version": 3
   },
   "file_extension": ".py",
   "mimetype": "text/x-python",
   "name": "python",
   "nbconvert_exporter": "python",
   "pygments_lexer": "ipython3",
   "version": "3.7.2"
  },
  "pycharm": {
   "stem_cell": {
    "cell_type": "raw",
    "metadata": {
     "collapsed": false
    },
    "source": []
   }
  }
 },
 "nbformat": 4,
 "nbformat_minor": 1
}
